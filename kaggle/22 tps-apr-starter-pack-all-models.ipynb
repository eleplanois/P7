{
 "cells": [
  {
   "cell_type": "markdown",
   "metadata": {
    "papermill": {
     "duration": 0.020193,
     "end_time": "2021-04-09T01:19:25.947587",
     "exception": false,
     "start_time": "2021-04-09T01:19:25.927394",
     "status": "completed"
    },
    "tags": []
   },
   "source": [
    "# Define the Problem\n",
    "\n",
    "For this project, the problem statement is given to us on a golden plater, develop an algorithm to predict the survival outcome of passengers on the Titanic.\n",
    "In this challenge, we ask you to complete the analysis of what sorts of people were likely to survive. In particular, we ask you to apply the tools of machine learning to predict which passengers survived the tragedy. <br>\n",
    "- Tools\n",
    "    - It's a classic **Binary classification**. \n",
    "- Data\n",
    "    - The dataset is used for this competition is synthetic but based on a real dataset (in this case, the actual [Titanic data](https://www.kaggle.com/c/titanic/data)!) and generated using a CTGAN. The statistical properties of this dataset are very similar to the original Titanic dataset, but there's no way to \"cheat\" by using public labels for predictions. How well does your model perform on truly private test labels?\n",
    "\n",
    "Good luck and have fun!"
   ]
  },
  {
   "cell_type": "markdown",
   "metadata": {
    "papermill": {
     "duration": 0.018813,
     "end_time": "2021-04-09T01:19:25.985297",
     "exception": false,
     "start_time": "2021-04-09T01:19:25.966484",
     "status": "completed"
    },
    "tags": []
   },
   "source": [
    "# Data Load In"
   ]
  },
  {
   "cell_type": "code",
   "execution_count": 1,
   "metadata": {
    "_cell_guid": "b1076dfc-b9ad-4769-8c92-a6c4dae69d19",
    "_uuid": "8f2839f25d086af736a60e9eeb907d3b93b6e0e5",
    "execution": {
     "iopub.execute_input": "2021-04-09T01:19:26.028026Z",
     "iopub.status.busy": "2021-04-09T01:19:26.027217Z",
     "iopub.status.idle": "2021-04-09T01:19:26.036295Z",
     "shell.execute_reply": "2021-04-09T01:19:26.037153Z"
    },
    "papermill": {
     "duration": 0.032548,
     "end_time": "2021-04-09T01:19:26.037422",
     "exception": false,
     "start_time": "2021-04-09T01:19:26.004874",
     "status": "completed"
    },
    "tags": []
   },
   "outputs": [
    {
     "name": "stdout",
     "output_type": "stream",
     "text": [
      "/kaggle/input/tabular-playground-series-apr-2021/sample_submission.csv\n",
      "/kaggle/input/tabular-playground-series-apr-2021/train.csv\n",
      "/kaggle/input/tabular-playground-series-apr-2021/test.csv\n"
     ]
    }
   ],
   "source": [
    "# This Python 3 environment comes with many helpful analytics libraries installed\n",
    "# It is defined by the kaggle/python Docker image: https://github.com/kaggle/docker-python\n",
    "# For example, here's several helpful packages to load\n",
    "\n",
    "import numpy as np # linear algebra\n",
    "import pandas as pd # data processing, CSV file I/O (e.g. pd.read_csv)\n",
    "\n",
    "# Input data files are available in the read-only \"../input/\" directory\n",
    "# For example, running this (by clicking run or pressing Shift+Enter) will list all files under the input directory\n",
    "\n",
    "import os\n",
    "for dirname, _, filenames in os.walk('/kaggle/input'):\n",
    "    for filename in filenames:\n",
    "        print(os.path.join(dirname, filename))\n",
    "\n",
    "# You can write up to 20GB to the current directory (/kaggle/working/) that gets preserved as output when you create a version using \"Save & Run All\" \n",
    "# You can also write temporary files to /kaggle/temp/, but they won't be saved outside of the current session"
   ]
  },
  {
   "cell_type": "code",
   "execution_count": 2,
   "metadata": {
    "_cell_guid": "79c7e3d0-c299-4dcb-8224-4455121ee9b0",
    "_uuid": "d629ff2d2480ee46fbb7e2d37f6b5fab8052498a",
    "execution": {
     "iopub.execute_input": "2021-04-09T01:19:26.084133Z",
     "iopub.status.busy": "2021-04-09T01:19:26.083295Z",
     "iopub.status.idle": "2021-04-09T01:19:26.760956Z",
     "shell.execute_reply": "2021-04-09T01:19:26.760223Z"
    },
    "papermill": {
     "duration": 0.701052,
     "end_time": "2021-04-09T01:19:26.761200",
     "exception": false,
     "start_time": "2021-04-09T01:19:26.060148",
     "status": "completed"
    },
    "tags": []
   },
   "outputs": [],
   "source": [
    "data_raw = pd.read_csv('../input/tabular-playground-series-apr-2021/train.csv')\n",
    "data_val = pd.read_csv('../input/tabular-playground-series-apr-2021/test.csv')\n",
    "data1 = data_raw.copy(deep=True)\n",
    "data_cleaner = [data1, data_val]\n",
    "\n",
    "Target = ['Survived']"
   ]
  },
  {
   "cell_type": "code",
   "execution_count": 3,
   "metadata": {
    "execution": {
     "iopub.execute_input": "2021-04-09T01:19:26.861045Z",
     "iopub.status.busy": "2021-04-09T01:19:26.810970Z",
     "iopub.status.idle": "2021-04-09T01:19:27.685011Z",
     "shell.execute_reply": "2021-04-09T01:19:27.684370Z"
    },
    "papermill": {
     "duration": 0.904453,
     "end_time": "2021-04-09T01:19:27.685130",
     "exception": false,
     "start_time": "2021-04-09T01:19:26.780677",
     "status": "completed"
    },
    "tags": []
   },
   "outputs": [
    {
     "name": "stdout",
     "output_type": "stream",
     "text": [
      "<class 'pandas.core.frame.DataFrame'>\n",
      "RangeIndex: 100000 entries, 0 to 99999\n",
      "Data columns (total 12 columns):\n",
      " #   Column       Non-Null Count   Dtype  \n",
      "---  ------       --------------   -----  \n",
      " 0   PassengerId  100000 non-null  int64  \n",
      " 1   Survived     100000 non-null  int64  \n",
      " 2   Pclass       100000 non-null  int64  \n",
      " 3   Name         100000 non-null  object \n",
      " 4   Sex          100000 non-null  object \n",
      " 5   Age          96708 non-null   float64\n",
      " 6   SibSp        100000 non-null  int64  \n",
      " 7   Parch        100000 non-null  int64  \n",
      " 8   Ticket       95377 non-null   object \n",
      " 9   Fare         99866 non-null   float64\n",
      " 10  Cabin        32134 non-null   object \n",
      " 11  Embarked     99750 non-null   object \n",
      "dtypes: float64(2), int64(5), object(5)\n",
      "memory usage: 9.2+ MB\n",
      "None\n",
      "          PassengerId       Survived         Pclass           Name     Sex  \\\n",
      "count   100000.000000  100000.000000  100000.000000         100000  100000   \n",
      "unique            NaN            NaN            NaN          92144       2   \n",
      "top               NaN            NaN            NaN  Johnson, John    male   \n",
      "freq              NaN            NaN            NaN             31   56114   \n",
      "mean     49999.500000       0.427740       2.106910            NaN     NaN   \n",
      "std      28867.657797       0.494753       0.837727            NaN     NaN   \n",
      "min          0.000000       0.000000       1.000000            NaN     NaN   \n",
      "25%      24999.750000       0.000000       1.000000            NaN     NaN   \n",
      "50%      49999.500000       0.000000       2.000000            NaN     NaN   \n",
      "75%      74999.250000       1.000000       3.000000            NaN     NaN   \n",
      "max      99999.000000       1.000000       3.000000            NaN     NaN   \n",
      "\n",
      "                 Age          SibSp          Parch Ticket         Fare  \\\n",
      "count   96708.000000  100000.000000  100000.000000  95377  99866.00000   \n",
      "unique           NaN            NaN            NaN  75331          NaN   \n",
      "top              NaN            NaN            NaN   A/5           NaN   \n",
      "freq             NaN            NaN            NaN    602          NaN   \n",
      "mean       38.355472       0.397690       0.454560    NaN     43.92933   \n",
      "std        18.313556       0.862566       0.950076    NaN     69.58882   \n",
      "min         0.080000       0.000000       0.000000    NaN      0.68000   \n",
      "25%        25.000000       0.000000       0.000000    NaN     10.04000   \n",
      "50%        39.000000       0.000000       0.000000    NaN     24.46000   \n",
      "75%        53.000000       1.000000       1.000000    NaN     33.50000   \n",
      "max        87.000000       8.000000       9.000000    NaN    744.66000   \n",
      "\n",
      "         Cabin Embarked  \n",
      "count    32134    99750  \n",
      "unique   26992        3  \n",
      "top     C19828        S  \n",
      "freq         6    72139  \n",
      "mean       NaN      NaN  \n",
      "std        NaN      NaN  \n",
      "min        NaN      NaN  \n",
      "25%        NaN      NaN  \n",
      "50%        NaN      NaN  \n",
      "75%        NaN      NaN  \n",
      "max        NaN      NaN  \n",
      "<class 'pandas.core.frame.DataFrame'>\n",
      "RangeIndex: 100000 entries, 0 to 99999\n",
      "Data columns (total 11 columns):\n",
      " #   Column       Non-Null Count   Dtype  \n",
      "---  ------       --------------   -----  \n",
      " 0   PassengerId  100000 non-null  int64  \n",
      " 1   Pclass       100000 non-null  int64  \n",
      " 2   Name         100000 non-null  object \n",
      " 3   Sex          100000 non-null  object \n",
      " 4   Age          96513 non-null   float64\n",
      " 5   SibSp        100000 non-null  int64  \n",
      " 6   Parch        100000 non-null  int64  \n",
      " 7   Ticket       94819 non-null   object \n",
      " 8   Fare         99867 non-null   float64\n",
      " 9   Cabin        29169 non-null   object \n",
      " 10  Embarked     99723 non-null   object \n",
      "dtypes: float64(2), int64(4), object(5)\n",
      "memory usage: 8.4+ MB\n",
      "None\n",
      "          PassengerId         Pclass          Name     Sex           Age  \\\n",
      "count   100000.000000  100000.000000        100000  100000  96513.000000   \n",
      "unique            NaN            NaN         90808       2           NaN   \n",
      "top               NaN            NaN  Smith, James    male           NaN   \n",
      "freq              NaN            NaN            37   69757           NaN   \n",
      "mean    149999.500000       2.368930           NaN     NaN     30.565796   \n",
      "std      28867.657797       0.878458           NaN     NaN     14.054634   \n",
      "min     100000.000000       1.000000           NaN     NaN      0.080000   \n",
      "25%     124999.750000       1.000000           NaN     NaN     21.000000   \n",
      "50%     149999.500000       3.000000           NaN     NaN     27.000000   \n",
      "75%     174999.250000       3.000000           NaN     NaN     40.000000   \n",
      "max     199999.000000       3.000000           NaN     NaN     81.000000   \n",
      "\n",
      "                SibSp         Parch     Ticket          Fare   Cabin Embarked  \n",
      "count   100000.000000  100000.00000      94819  99867.000000   29169    99723  \n",
      "unique            NaN           NaN      75432           NaN   25216        3  \n",
      "top               NaN           NaN  SC/PARIS            NaN  B13288        S  \n",
      "freq              NaN           NaN        163           NaN       5    68842  \n",
      "mean         0.486550       0.49283        NaN     45.374804     NaN      NaN  \n",
      "std          0.771262       0.92360        NaN     65.204725     NaN      NaN  \n",
      "min          0.000000       0.00000        NaN      0.050000     NaN      NaN  \n",
      "25%          0.000000       0.00000        NaN     10.130000     NaN      NaN  \n",
      "50%          0.000000       0.00000        NaN     13.980000     NaN      NaN  \n",
      "75%          1.000000       1.00000        NaN     37.390000     NaN      NaN  \n",
      "max          8.000000       9.00000        NaN    680.700000     NaN      NaN  \n"
     ]
    }
   ],
   "source": [
    "for dataset in data_cleaner:\n",
    "    print(dataset.info())\n",
    "    print(dataset.describe(include='all'))"
   ]
  },
  {
   "cell_type": "markdown",
   "metadata": {
    "papermill": {
     "duration": 0.020443,
     "end_time": "2021-04-09T01:19:27.726238",
     "exception": false,
     "start_time": "2021-04-09T01:19:27.705795",
     "status": "completed"
    },
    "tags": []
   },
   "source": [
    "# Data Preprocessing"
   ]
  },
  {
   "cell_type": "markdown",
   "metadata": {
    "papermill": {
     "duration": 0.020175,
     "end_time": "2021-04-09T01:19:27.767647",
     "exception": false,
     "start_time": "2021-04-09T01:19:27.747472",
     "status": "completed"
    },
    "tags": []
   },
   "source": [
    "## Fill NA"
   ]
  },
  {
   "cell_type": "code",
   "execution_count": 4,
   "metadata": {
    "execution": {
     "iopub.execute_input": "2021-04-09T01:19:27.816590Z",
     "iopub.status.busy": "2021-04-09T01:19:27.815879Z",
     "iopub.status.idle": "2021-04-09T01:19:27.856692Z",
     "shell.execute_reply": "2021-04-09T01:19:27.856066Z"
    },
    "papermill": {
     "duration": 0.068291,
     "end_time": "2021-04-09T01:19:27.856807",
     "exception": false,
     "start_time": "2021-04-09T01:19:27.788516",
     "status": "completed"
    },
    "tags": []
   },
   "outputs": [],
   "source": [
    "for dataset in data_cleaner:\n",
    "    dataset.Age.fillna(dataset.Age.median(), inplace=True)\n",
    "    dataset.Embarked.fillna('S', inplace=True)\n",
    "    dataset.Fare.fillna(dataset.Fare.median(), inplace=True)\n",
    "    # dataset['Title'] = dataset.Name.str.split(', ', expand=True)[1].str.split('.', expand=True)[0]\n",
    "    dataset['Family_members'] = dataset.Parch + dataset.SibSp"
   ]
  },
  {
   "cell_type": "code",
   "execution_count": 5,
   "metadata": {
    "execution": {
     "iopub.execute_input": "2021-04-09T01:19:27.907701Z",
     "iopub.status.busy": "2021-04-09T01:19:27.906955Z",
     "iopub.status.idle": "2021-04-09T01:19:27.936603Z",
     "shell.execute_reply": "2021-04-09T01:19:27.936005Z"
    },
    "papermill": {
     "duration": 0.059004,
     "end_time": "2021-04-09T01:19:27.936735",
     "exception": false,
     "start_time": "2021-04-09T01:19:27.877731",
     "status": "completed"
    },
    "tags": []
   },
   "outputs": [
    {
     "data": {
      "text/html": [
       "<div>\n",
       "<style scoped>\n",
       "    .dataframe tbody tr th:only-of-type {\n",
       "        vertical-align: middle;\n",
       "    }\n",
       "\n",
       "    .dataframe tbody tr th {\n",
       "        vertical-align: top;\n",
       "    }\n",
       "\n",
       "    .dataframe thead th {\n",
       "        text-align: right;\n",
       "    }\n",
       "</style>\n",
       "<table border=\"1\" class=\"dataframe\">\n",
       "  <thead>\n",
       "    <tr style=\"text-align: right;\">\n",
       "      <th></th>\n",
       "      <th>PassengerId</th>\n",
       "      <th>Survived</th>\n",
       "      <th>Pclass</th>\n",
       "      <th>Name</th>\n",
       "      <th>Sex</th>\n",
       "      <th>Age</th>\n",
       "      <th>SibSp</th>\n",
       "      <th>Parch</th>\n",
       "      <th>Ticket</th>\n",
       "      <th>Fare</th>\n",
       "      <th>Cabin</th>\n",
       "      <th>Embarked</th>\n",
       "      <th>Family_members</th>\n",
       "    </tr>\n",
       "  </thead>\n",
       "  <tbody>\n",
       "    <tr>\n",
       "      <th>19185</th>\n",
       "      <td>19185</td>\n",
       "      <td>0</td>\n",
       "      <td>3</td>\n",
       "      <td>Crowder, Benjamin</td>\n",
       "      <td>male</td>\n",
       "      <td>60.0</td>\n",
       "      <td>0</td>\n",
       "      <td>0</td>\n",
       "      <td>50661</td>\n",
       "      <td>10.00</td>\n",
       "      <td>F23343</td>\n",
       "      <td>S</td>\n",
       "      <td>0</td>\n",
       "    </tr>\n",
       "    <tr>\n",
       "      <th>57128</th>\n",
       "      <td>57128</td>\n",
       "      <td>0</td>\n",
       "      <td>2</td>\n",
       "      <td>Capizzi, Kenneth</td>\n",
       "      <td>male</td>\n",
       "      <td>42.0</td>\n",
       "      <td>0</td>\n",
       "      <td>0</td>\n",
       "      <td>SOTON/O2 36439</td>\n",
       "      <td>4.94</td>\n",
       "      <td>NaN</td>\n",
       "      <td>S</td>\n",
       "      <td>0</td>\n",
       "    </tr>\n",
       "    <tr>\n",
       "      <th>23407</th>\n",
       "      <td>23407</td>\n",
       "      <td>0</td>\n",
       "      <td>3</td>\n",
       "      <td>Wilkins, Kevin</td>\n",
       "      <td>male</td>\n",
       "      <td>26.0</td>\n",
       "      <td>0</td>\n",
       "      <td>0</td>\n",
       "      <td>403038</td>\n",
       "      <td>8.06</td>\n",
       "      <td>NaN</td>\n",
       "      <td>S</td>\n",
       "      <td>0</td>\n",
       "    </tr>\n",
       "    <tr>\n",
       "      <th>24226</th>\n",
       "      <td>24226</td>\n",
       "      <td>1</td>\n",
       "      <td>1</td>\n",
       "      <td>Cone, Pearl</td>\n",
       "      <td>female</td>\n",
       "      <td>38.0</td>\n",
       "      <td>1</td>\n",
       "      <td>0</td>\n",
       "      <td>PC 4278654</td>\n",
       "      <td>94.98</td>\n",
       "      <td>C11653</td>\n",
       "      <td>C</td>\n",
       "      <td>1</td>\n",
       "    </tr>\n",
       "    <tr>\n",
       "      <th>4334</th>\n",
       "      <td>4334</td>\n",
       "      <td>1</td>\n",
       "      <td>3</td>\n",
       "      <td>Gaines, Pamela</td>\n",
       "      <td>female</td>\n",
       "      <td>68.0</td>\n",
       "      <td>0</td>\n",
       "      <td>0</td>\n",
       "      <td>PP 402664</td>\n",
       "      <td>9.81</td>\n",
       "      <td>NaN</td>\n",
       "      <td>S</td>\n",
       "      <td>0</td>\n",
       "    </tr>\n",
       "  </tbody>\n",
       "</table>\n",
       "</div>"
      ],
      "text/plain": [
       "       PassengerId  Survived  Pclass               Name     Sex   Age  SibSp  \\\n",
       "19185        19185         0       3  Crowder, Benjamin    male  60.0      0   \n",
       "57128        57128         0       2   Capizzi, Kenneth    male  42.0      0   \n",
       "23407        23407         0       3     Wilkins, Kevin    male  26.0      0   \n",
       "24226        24226         1       1        Cone, Pearl  female  38.0      1   \n",
       "4334          4334         1       3     Gaines, Pamela  female  68.0      0   \n",
       "\n",
       "       Parch          Ticket   Fare   Cabin Embarked  Family_members  \n",
       "19185      0           50661  10.00  F23343        S               0  \n",
       "57128      0  SOTON/O2 36439   4.94     NaN        S               0  \n",
       "23407      0          403038   8.06     NaN        S               0  \n",
       "24226      0      PC 4278654  94.98  C11653        C               1  \n",
       "4334       0       PP 402664   9.81     NaN        S               0  "
      ]
     },
     "execution_count": 5,
     "metadata": {},
     "output_type": "execute_result"
    }
   ],
   "source": [
    "data1.sample(5)"
   ]
  },
  {
   "cell_type": "markdown",
   "metadata": {
    "papermill": {
     "duration": 0.021227,
     "end_time": "2021-04-09T01:19:27.979605",
     "exception": false,
     "start_time": "2021-04-09T01:19:27.958378",
     "status": "completed"
    },
    "tags": []
   },
   "source": [
    "## A Bit Visualization\n",
    "\n",
    "Check distribution for setting bins"
   ]
  },
  {
   "cell_type": "code",
   "execution_count": 6,
   "metadata": {
    "execution": {
     "iopub.execute_input": "2021-04-09T01:19:28.030590Z",
     "iopub.status.busy": "2021-04-09T01:19:28.029874Z",
     "iopub.status.idle": "2021-04-09T01:19:28.042850Z",
     "shell.execute_reply": "2021-04-09T01:19:28.041115Z"
    },
    "papermill": {
     "duration": 0.042054,
     "end_time": "2021-04-09T01:19:28.043016",
     "exception": false,
     "start_time": "2021-04-09T01:19:28.000962",
     "status": "completed"
    },
    "tags": []
   },
   "outputs": [],
   "source": [
    "data1.drop(['Name', 'PassengerId', 'Ticket', 'SibSp', 'Parch'], axis=1, inplace=True)"
   ]
  },
  {
   "cell_type": "code",
   "execution_count": 7,
   "metadata": {
    "execution": {
     "iopub.execute_input": "2021-04-09T01:19:28.093145Z",
     "iopub.status.busy": "2021-04-09T01:19:28.092437Z",
     "iopub.status.idle": "2021-04-09T01:26:36.982524Z",
     "shell.execute_reply": "2021-04-09T01:26:36.981928Z"
    },
    "papermill": {
     "duration": 428.917631,
     "end_time": "2021-04-09T01:26:36.982658",
     "exception": false,
     "start_time": "2021-04-09T01:19:28.065027",
     "status": "completed"
    },
    "tags": []
   },
   "outputs": [
    {
     "data": {
      "image/png": "[encoded data removed]",
      "text/plain": [
       "<Figure size 432x288 with 1 Axes>"
      ]
     },
     "metadata": {
      "needs_background": "light"
     },
     "output_type": "display_data"
    },
    {
     "data": {
      "image/png": "[encoded data removed]",
      "text/plain": [
       "<Figure size 432x288 with 1 Axes>"
      ]
     },
     "metadata": {
      "needs_background": "light"
     },
     "output_type": "display_data"
    },
    {
     "data": {
      "image/png": "[encoded data removed]",
      "text/plain": [
       "<Figure size 432x288 with 1 Axes>"
      ]
     },
     "metadata": {
      "needs_background": "light"
     },
     "output_type": "display_data"
    },
    {
     "data": {
      "image/png": "[encoded data removed]",
      "text/plain": [
       "<Figure size 432x288 with 1 Axes>"
      ]
     },
     "metadata": {
      "needs_background": "light"
     },
     "output_type": "display_data"
    },
    {
     "data": {
      "image/png": "[encoded data removed]",
      "text/plain": [
       "<Figure size 432x288 with 1 Axes>"
      ]
     },
     "metadata": {
      "needs_background": "light"
     },
     "output_type": "display_data"
    },
    {
     "data": {
      "image/png": "[encoded data removed]",
      "text/plain": [
       "<Figure size 432x288 with 1 Axes>"
      ]
     },
     "metadata": {
      "needs_background": "light"
     },
     "output_type": "display_data"
    },
    {
     "data": {
      "image/png": "[encoded data removed]",
      "text/plain": [
       "<Figure size 432x288 with 1 Axes>"
      ]
     },
     "metadata": {
      "needs_background": "light"
     },
     "output_type": "display_data"
    },
    {
     "data": {
      "image/png": "[encoded data removed]",
      "text/plain": [
       "<Figure size 432x288 with 1 Axes>"
      ]
     },
     "metadata": {
      "needs_background": "light"
     },
     "output_type": "display_data"
    }
   ],
   "source": [
    "import seaborn as sns\n",
    "import matplotlib.pyplot as plt\n",
    "\n",
    "for i in data1.columns:\n",
    "    sns.countplot(data1[i])\n",
    "    plt.show()"
   ]
  },
  {
   "cell_type": "markdown",
   "metadata": {
    "papermill": {
     "duration": 0.028617,
     "end_time": "2021-04-09T01:26:37.038559",
     "exception": false,
     "start_time": "2021-04-09T01:26:37.009942",
     "status": "completed"
    },
    "tags": []
   },
   "source": [
    "## Cabin"
   ]
  },
  {
   "cell_type": "code",
   "execution_count": 8,
   "metadata": {
    "execution": {
     "iopub.execute_input": "2021-04-09T01:26:37.108965Z",
     "iopub.status.busy": "2021-04-09T01:26:37.108215Z",
     "iopub.status.idle": "2021-04-09T01:26:37.125052Z",
     "shell.execute_reply": "2021-04-09T01:26:37.125920Z"
    },
    "papermill": {
     "duration": 0.059914,
     "end_time": "2021-04-09T01:26:37.126158",
     "exception": false,
     "start_time": "2021-04-09T01:26:37.066244",
     "status": "completed"
    },
    "tags": []
   },
   "outputs": [
    {
     "data": {
      "text/plain": [
       "Cabin\n",
       "False    0.608608\n",
       "True     0.342101\n",
       "Name: Survived, dtype: float64"
      ]
     },
     "execution_count": 8,
     "metadata": {},
     "output_type": "execute_result"
    }
   ],
   "source": [
    "# data1.groupby(data1['Cabin'].isnull()).mean()\n",
    "data1.groupby(data1['Cabin'].isnull())['Survived'].mean()"
   ]
  },
  {
   "cell_type": "code",
   "execution_count": 9,
   "metadata": {
    "execution": {
     "iopub.execute_input": "2021-04-09T01:26:37.199174Z",
     "iopub.status.busy": "2021-04-09T01:26:37.198498Z",
     "iopub.status.idle": "2021-04-09T01:26:37.237428Z",
     "shell.execute_reply": "2021-04-09T01:26:37.236585Z"
    },
    "papermill": {
     "duration": 0.080597,
     "end_time": "2021-04-09T01:26:37.237551",
     "exception": false,
     "start_time": "2021-04-09T01:26:37.156954",
     "status": "completed"
    },
    "tags": []
   },
   "outputs": [],
   "source": [
    "for dataset in data_cleaner:\n",
    "    dataset['Cabin_Allotted'] = np.where(dataset.Cabin.isnull(), 0, 1)\n",
    "    dataset.drop('Cabin', axis=1, inplace=True)"
   ]
  },
  {
   "cell_type": "code",
   "execution_count": 10,
   "metadata": {
    "execution": {
     "iopub.execute_input": "2021-04-09T01:26:37.311509Z",
     "iopub.status.busy": "2021-04-09T01:26:37.310468Z",
     "iopub.status.idle": "2021-04-09T01:26:37.315813Z",
     "shell.execute_reply": "2021-04-09T01:26:37.315118Z"
    },
    "papermill": {
     "duration": 0.050041,
     "end_time": "2021-04-09T01:26:37.315942",
     "exception": false,
     "start_time": "2021-04-09T01:26:37.265901",
     "status": "completed"
    },
    "tags": []
   },
   "outputs": [
    {
     "data": {
      "text/html": [
       "<div>\n",
       "<style scoped>\n",
       "    .dataframe tbody tr th:only-of-type {\n",
       "        vertical-align: middle;\n",
       "    }\n",
       "\n",
       "    .dataframe tbody tr th {\n",
       "        vertical-align: top;\n",
       "    }\n",
       "\n",
       "    .dataframe thead th {\n",
       "        text-align: right;\n",
       "    }\n",
       "</style>\n",
       "<table border=\"1\" class=\"dataframe\">\n",
       "  <thead>\n",
       "    <tr style=\"text-align: right;\">\n",
       "      <th></th>\n",
       "      <th>Survived</th>\n",
       "      <th>Pclass</th>\n",
       "      <th>Sex</th>\n",
       "      <th>Age</th>\n",
       "      <th>Fare</th>\n",
       "      <th>Embarked</th>\n",
       "      <th>Family_members</th>\n",
       "      <th>Cabin_Allotted</th>\n",
       "    </tr>\n",
       "  </thead>\n",
       "  <tbody>\n",
       "    <tr>\n",
       "      <th>82487</th>\n",
       "      <td>0</td>\n",
       "      <td>3</td>\n",
       "      <td>female</td>\n",
       "      <td>21.0</td>\n",
       "      <td>9.91</td>\n",
       "      <td>S</td>\n",
       "      <td>0</td>\n",
       "      <td>0</td>\n",
       "    </tr>\n",
       "    <tr>\n",
       "      <th>19525</th>\n",
       "      <td>0</td>\n",
       "      <td>3</td>\n",
       "      <td>female</td>\n",
       "      <td>73.0</td>\n",
       "      <td>6.37</td>\n",
       "      <td>S</td>\n",
       "      <td>1</td>\n",
       "      <td>0</td>\n",
       "    </tr>\n",
       "    <tr>\n",
       "      <th>98213</th>\n",
       "      <td>0</td>\n",
       "      <td>3</td>\n",
       "      <td>male</td>\n",
       "      <td>37.0</td>\n",
       "      <td>9.35</td>\n",
       "      <td>C</td>\n",
       "      <td>0</td>\n",
       "      <td>0</td>\n",
       "    </tr>\n",
       "    <tr>\n",
       "      <th>86260</th>\n",
       "      <td>1</td>\n",
       "      <td>1</td>\n",
       "      <td>female</td>\n",
       "      <td>32.0</td>\n",
       "      <td>139.43</td>\n",
       "      <td>C</td>\n",
       "      <td>0</td>\n",
       "      <td>1</td>\n",
       "    </tr>\n",
       "    <tr>\n",
       "      <th>51664</th>\n",
       "      <td>0</td>\n",
       "      <td>1</td>\n",
       "      <td>male</td>\n",
       "      <td>25.0</td>\n",
       "      <td>75.34</td>\n",
       "      <td>C</td>\n",
       "      <td>0</td>\n",
       "      <td>1</td>\n",
       "    </tr>\n",
       "  </tbody>\n",
       "</table>\n",
       "</div>"
      ],
      "text/plain": [
       "       Survived  Pclass     Sex   Age    Fare Embarked  Family_members  \\\n",
       "82487         0       3  female  21.0    9.91        S               0   \n",
       "19525         0       3  female  73.0    6.37        S               1   \n",
       "98213         0       3    male  37.0    9.35        C               0   \n",
       "86260         1       1  female  32.0  139.43        C               0   \n",
       "51664         0       1    male  25.0   75.34        C               0   \n",
       "\n",
       "       Cabin_Allotted  \n",
       "82487               0  \n",
       "19525               0  \n",
       "98213               0  \n",
       "86260               1  \n",
       "51664               1  "
      ]
     },
     "execution_count": 10,
     "metadata": {},
     "output_type": "execute_result"
    }
   ],
   "source": [
    "data1.sample(5)\n",
    "# data1['Title'].value_counts()"
   ]
  },
  {
   "cell_type": "markdown",
   "metadata": {
    "papermill": {
     "duration": 0.028479,
     "end_time": "2021-04-09T01:26:37.373228",
     "exception": false,
     "start_time": "2021-04-09T01:26:37.344749",
     "status": "completed"
    },
    "tags": []
   },
   "source": [
    "## Encoder\n",
    "\n",
    "It all goes on how you explain your feature's (X) effect on the final prediction (Y).<br>\n",
    "Let's take a look at the feature `Fare`.<br>\n",
    "Do you think the Fare's increment like 1 dollar would make any significant impact on their survival rate?<br>\n",
    "The answer is quite obvious, right? But what if we raise the increment to i.e. 30 dollars..? Hard to tell huh!<br>\n",
    "Again, it all goes on how you interpret data. In this case, I've tried them so many times. And I received the better result by *categoricalization* on `Fare` in most of them."
   ]
  },
  {
   "cell_type": "code",
   "execution_count": 11,
   "metadata": {
    "execution": {
     "iopub.execute_input": "2021-04-09T01:26:37.439552Z",
     "iopub.status.busy": "2021-04-09T01:26:37.438820Z",
     "iopub.status.idle": "2021-04-09T01:26:40.061567Z",
     "shell.execute_reply": "2021-04-09T01:26:40.062084Z"
    },
    "papermill": {
     "duration": 2.659992,
     "end_time": "2021-04-09T01:26:40.062243",
     "exception": false,
     "start_time": "2021-04-09T01:26:37.402251",
     "status": "completed"
    },
    "tags": []
   },
   "outputs": [],
   "source": [
    "from sklearn.preprocessing import LabelEncoder\n",
    "\n",
    "lb = LabelEncoder()\n",
    "\n",
    "for dataset in data_cleaner:\n",
    "    dataset['Sex_labeled'] = lb.fit_transform(dataset.Sex)\n",
    "    \n",
    "    dataset['AgeBin'] = pd.qcut(dataset.Age, 3)\n",
    "    dataset['Age_labeled'] = lb.fit_transform(dataset['AgeBin'])\n",
    "\n",
    "    dataset['FareBin'] = pd.qcut(dataset.Fare, 4)\n",
    "    dataset['Fare_labeled'] = lb.fit_transform(dataset['FareBin'])\n",
    "\n",
    "    dataset['Embarked_labeled'] = lb.fit_transform(dataset.Embarked)"
   ]
  },
  {
   "cell_type": "code",
   "execution_count": 12,
   "metadata": {
    "execution": {
     "iopub.execute_input": "2021-04-09T01:26:40.131314Z",
     "iopub.status.busy": "2021-04-09T01:26:40.130077Z",
     "iopub.status.idle": "2021-04-09T01:26:40.157748Z",
     "shell.execute_reply": "2021-04-09T01:26:40.157102Z"
    },
    "papermill": {
     "duration": 0.06467,
     "end_time": "2021-04-09T01:26:40.157886",
     "exception": false,
     "start_time": "2021-04-09T01:26:40.093216",
     "status": "completed"
    },
    "tags": []
   },
   "outputs": [
    {
     "data": {
      "text/html": [
       "<div>\n",
       "<style scoped>\n",
       "    .dataframe tbody tr th:only-of-type {\n",
       "        vertical-align: middle;\n",
       "    }\n",
       "\n",
       "    .dataframe tbody tr th {\n",
       "        vertical-align: top;\n",
       "    }\n",
       "\n",
       "    .dataframe thead th {\n",
       "        text-align: right;\n",
       "    }\n",
       "</style>\n",
       "<table border=\"1\" class=\"dataframe\">\n",
       "  <thead>\n",
       "    <tr style=\"text-align: right;\">\n",
       "      <th></th>\n",
       "      <th>Survived</th>\n",
       "      <th>Pclass</th>\n",
       "      <th>Sex</th>\n",
       "      <th>Age</th>\n",
       "      <th>Fare</th>\n",
       "      <th>Embarked</th>\n",
       "      <th>Family_members</th>\n",
       "      <th>Cabin_Allotted</th>\n",
       "      <th>Sex_labeled</th>\n",
       "      <th>AgeBin</th>\n",
       "      <th>Age_labeled</th>\n",
       "      <th>FareBin</th>\n",
       "      <th>Fare_labeled</th>\n",
       "      <th>Embarked_labeled</th>\n",
       "    </tr>\n",
       "  </thead>\n",
       "  <tbody>\n",
       "    <tr>\n",
       "      <th>4927</th>\n",
       "      <td>0</td>\n",
       "      <td>3</td>\n",
       "      <td>male</td>\n",
       "      <td>49.0</td>\n",
       "      <td>6.63</td>\n",
       "      <td>S</td>\n",
       "      <td>0</td>\n",
       "      <td>0</td>\n",
       "      <td>1</td>\n",
       "      <td>(48.0, 87.0]</td>\n",
       "      <td>2</td>\n",
       "      <td>(0.679, 10.04]</td>\n",
       "      <td>0</td>\n",
       "      <td>2</td>\n",
       "    </tr>\n",
       "    <tr>\n",
       "      <th>15443</th>\n",
       "      <td>1</td>\n",
       "      <td>1</td>\n",
       "      <td>female</td>\n",
       "      <td>71.0</td>\n",
       "      <td>30.30</td>\n",
       "      <td>Q</td>\n",
       "      <td>3</td>\n",
       "      <td>0</td>\n",
       "      <td>0</td>\n",
       "      <td>(48.0, 87.0]</td>\n",
       "      <td>2</td>\n",
       "      <td>(24.46, 33.47]</td>\n",
       "      <td>2</td>\n",
       "      <td>1</td>\n",
       "    </tr>\n",
       "    <tr>\n",
       "      <th>26729</th>\n",
       "      <td>0</td>\n",
       "      <td>1</td>\n",
       "      <td>male</td>\n",
       "      <td>57.0</td>\n",
       "      <td>87.97</td>\n",
       "      <td>S</td>\n",
       "      <td>0</td>\n",
       "      <td>1</td>\n",
       "      <td>1</td>\n",
       "      <td>(48.0, 87.0]</td>\n",
       "      <td>2</td>\n",
       "      <td>(33.47, 744.66]</td>\n",
       "      <td>3</td>\n",
       "      <td>2</td>\n",
       "    </tr>\n",
       "    <tr>\n",
       "      <th>14732</th>\n",
       "      <td>1</td>\n",
       "      <td>3</td>\n",
       "      <td>female</td>\n",
       "      <td>64.0</td>\n",
       "      <td>8.98</td>\n",
       "      <td>S</td>\n",
       "      <td>1</td>\n",
       "      <td>0</td>\n",
       "      <td>0</td>\n",
       "      <td>(48.0, 87.0]</td>\n",
       "      <td>2</td>\n",
       "      <td>(0.679, 10.04]</td>\n",
       "      <td>0</td>\n",
       "      <td>2</td>\n",
       "    </tr>\n",
       "    <tr>\n",
       "      <th>17032</th>\n",
       "      <td>0</td>\n",
       "      <td>2</td>\n",
       "      <td>male</td>\n",
       "      <td>24.0</td>\n",
       "      <td>10.42</td>\n",
       "      <td>S</td>\n",
       "      <td>0</td>\n",
       "      <td>0</td>\n",
       "      <td>1</td>\n",
       "      <td>(0.079, 29.0]</td>\n",
       "      <td>0</td>\n",
       "      <td>(10.04, 24.46]</td>\n",
       "      <td>1</td>\n",
       "      <td>2</td>\n",
       "    </tr>\n",
       "  </tbody>\n",
       "</table>\n",
       "</div>"
      ],
      "text/plain": [
       "       Survived  Pclass     Sex   Age   Fare Embarked  Family_members  \\\n",
       "4927          0       3    male  49.0   6.63        S               0   \n",
       "15443         1       1  female  71.0  30.30        Q               3   \n",
       "26729         0       1    male  57.0  87.97        S               0   \n",
       "14732         1       3  female  64.0   8.98        S               1   \n",
       "17032         0       2    male  24.0  10.42        S               0   \n",
       "\n",
       "       Cabin_Allotted  Sex_labeled         AgeBin  Age_labeled  \\\n",
       "4927                0            1   (48.0, 87.0]            2   \n",
       "15443               0            0   (48.0, 87.0]            2   \n",
       "26729               1            1   (48.0, 87.0]            2   \n",
       "14732               0            0   (48.0, 87.0]            2   \n",
       "17032               0            1  (0.079, 29.0]            0   \n",
       "\n",
       "               FareBin  Fare_labeled  Embarked_labeled  \n",
       "4927    (0.679, 10.04]             0                 2  \n",
       "15443   (24.46, 33.47]             2                 1  \n",
       "26729  (33.47, 744.66]             3                 2  \n",
       "14732   (0.679, 10.04]             0                 2  \n",
       "17032   (10.04, 24.46]             1                 2  "
      ]
     },
     "execution_count": 12,
     "metadata": {},
     "output_type": "execute_result"
    }
   ],
   "source": [
    "data1.sample(5)"
   ]
  },
  {
   "cell_type": "code",
   "execution_count": 13,
   "metadata": {
    "execution": {
     "iopub.execute_input": "2021-04-09T01:26:40.223767Z",
     "iopub.status.busy": "2021-04-09T01:26:40.222532Z",
     "iopub.status.idle": "2021-04-09T01:26:40.231832Z",
     "shell.execute_reply": "2021-04-09T01:26:40.231210Z"
    },
    "papermill": {
     "duration": 0.0441,
     "end_time": "2021-04-09T01:26:40.232068",
     "exception": false,
     "start_time": "2021-04-09T01:26:40.187968",
     "status": "completed"
    },
    "tags": []
   },
   "outputs": [
    {
     "name": "stdout",
     "output_type": "stream",
     "text": [
      "0    33875\n",
      "2    33121\n",
      "1    33004\n",
      "Name: Age_labeled, dtype: int64\n",
      "1    25040\n",
      "0    25033\n",
      "3    24999\n",
      "2    24928\n",
      "Name: Fare_labeled, dtype: int64\n"
     ]
    }
   ],
   "source": [
    "print(data1['Age_labeled'].value_counts())\n",
    "print(data1['Fare_labeled'].value_counts())"
   ]
  },
  {
   "cell_type": "code",
   "execution_count": 14,
   "metadata": {
    "execution": {
     "iopub.execute_input": "2021-04-09T01:26:40.299690Z",
     "iopub.status.busy": "2021-04-09T01:26:40.298986Z",
     "iopub.status.idle": "2021-04-09T01:26:47.928635Z",
     "shell.execute_reply": "2021-04-09T01:26:47.927868Z"
    },
    "papermill": {
     "duration": 7.665998,
     "end_time": "2021-04-09T01:26:47.928766",
     "exception": false,
     "start_time": "2021-04-09T01:26:40.262768",
     "status": "completed"
    },
    "tags": []
   },
   "outputs": [
    {
     "data": {
      "image/png": "[encoded data removed]",
      "text/plain": [
       "<Figure size 432x288 with 1 Axes>"
      ]
     },
     "metadata": {
      "needs_background": "light"
     },
     "output_type": "display_data"
    },
    {
     "data": {
      "image/png": "[encoded data removed]",
      "text/plain": [
       "<Figure size 432x288 with 1 Axes>"
      ]
     },
     "metadata": {
      "needs_background": "light"
     },
     "output_type": "display_data"
    },
    {
     "data": {
      "image/png": "[encoded data removed]",
      "text/plain": [
       "<Figure size 432x288 with 1 Axes>"
      ]
     },
     "metadata": {
      "needs_background": "light"
     },
     "output_type": "display_data"
    },
    {
     "data": {
      "image/png": "[encoded data removed]",
      "text/plain": [
       "<Figure size 432x288 with 1 Axes>"
      ]
     },
     "metadata": {
      "needs_background": "light"
     },
     "output_type": "display_data"
    },
    {
     "data": {
      "image/png": "[encoded data removed]",
      "text/plain": [
       "<Figure size 432x288 with 1 Axes>"
      ]
     },
     "metadata": {
      "needs_background": "light"
     },
     "output_type": "display_data"
    },
    {
     "data": {
      "image/png": "[encoded data removed]",
      "text/plain": [
       "<Figure size 432x288 with 1 Axes>"
      ]
     },
     "metadata": {
      "needs_background": "light"
     },
     "output_type": "display_data"
    },
    {
     "data": {
      "image/png": "[encoded data removed]",
      "text/plain": [
       "<Figure size 432x288 with 1 Axes>"
      ]
     },
     "metadata": {
      "needs_background": "light"
     },
     "output_type": "display_data"
    }
   ],
   "source": [
    "data1_X = [\n",
    "    'Pclass', \n",
    "    'Family_members', \n",
    "    'Cabin_Allotted', \n",
    "    'Sex_labeled', \n",
    "    'Age_labeled', \n",
    "    'Fare_labeled', \n",
    "    'Embarked_labeled'\n",
    "]\n",
    "\n",
    "for i in data1[data1_X].columns:\n",
    "    sns.lineplot(i, 'Survived', data=data1)\n",
    "    plt.show()"
   ]
  },
  {
   "cell_type": "code",
   "execution_count": 15,
   "metadata": {
    "execution": {
     "iopub.execute_input": "2021-04-09T01:26:48.014911Z",
     "iopub.status.busy": "2021-04-09T01:26:48.014244Z",
     "iopub.status.idle": "2021-04-09T01:26:48.025865Z",
     "shell.execute_reply": "2021-04-09T01:26:48.026345Z"
    },
    "papermill": {
     "duration": 0.058692,
     "end_time": "2021-04-09T01:26:48.026508",
     "exception": false,
     "start_time": "2021-04-09T01:26:47.967816",
     "status": "completed"
    },
    "tags": []
   },
   "outputs": [
    {
     "name": "stdout",
     "output_type": "stream",
     "text": [
      "<class 'pandas.core.frame.DataFrame'>\n",
      "RangeIndex: 100000 entries, 0 to 99999\n",
      "Data columns (total 7 columns):\n",
      " #   Column            Non-Null Count   Dtype\n",
      "---  ------            --------------   -----\n",
      " 0   Pclass            100000 non-null  int64\n",
      " 1   Family_members    100000 non-null  int64\n",
      " 2   Cabin_Allotted    100000 non-null  int64\n",
      " 3   Sex_labeled       100000 non-null  int64\n",
      " 4   Age_labeled       100000 non-null  int64\n",
      " 5   Fare_labeled      100000 non-null  int64\n",
      " 6   Embarked_labeled  100000 non-null  int64\n",
      "dtypes: int64(7)\n",
      "memory usage: 5.3 MB\n"
     ]
    }
   ],
   "source": [
    "data1[data1_X].info()"
   ]
  },
  {
   "cell_type": "markdown",
   "metadata": {
    "papermill": {
     "duration": 0.037202,
     "end_time": "2021-04-09T01:26:48.102129",
     "exception": false,
     "start_time": "2021-04-09T01:26:48.064927",
     "status": "completed"
    },
    "tags": []
   },
   "source": [
    "# Model Selection\n",
    "\n",
    "An easy basic way to compare different models within the same dataset."
   ]
  },
  {
   "cell_type": "code",
   "execution_count": 16,
   "metadata": {
    "execution": {
     "iopub.execute_input": "2021-04-09T01:26:48.185764Z",
     "iopub.status.busy": "2021-04-09T01:26:48.184678Z",
     "iopub.status.idle": "2021-04-09T01:33:18.876854Z",
     "shell.execute_reply": "2021-04-09T01:33:18.877593Z"
    },
    "papermill": {
     "duration": 390.734452,
     "end_time": "2021-04-09T01:33:18.877810",
     "exception": false,
     "start_time": "2021-04-09T01:26:48.143358",
     "status": "completed"
    },
    "tags": []
   },
   "outputs": [
    {
     "data": {
      "text/html": [
       "<style type='text/css'>\n",
       ".datatable table.frame { margin-bottom: 0; }\n",
       ".datatable table.frame thead { border-bottom: none; }\n",
       ".datatable table.frame tr.coltypes td {  color: #FFFFFF;  line-height: 6px;  padding: 0 0.5em;}\n",
       ".datatable .bool    { background: #DDDD99; }\n",
       ".datatable .object  { background: #565656; }\n",
       ".datatable .int     { background: #5D9E5D; }\n",
       ".datatable .float   { background: #4040CC; }\n",
       ".datatable .str     { background: #CC4040; }\n",
       ".datatable .row_index {  background: var(--jp-border-color3);  border-right: 1px solid var(--jp-border-color0);  color: var(--jp-ui-font-color3);  font-size: 9px;}\n",
       ".datatable .frame tr.coltypes .row_index {  background: var(--jp-border-color0);}\n",
       ".datatable th:nth-child(2) { padding-left: 12px; }\n",
       ".datatable .hellipsis {  color: var(--jp-cell-editor-border-color);}\n",
       ".datatable .vellipsis {  background: var(--jp-layout-color0);  color: var(--jp-cell-editor-border-color);}\n",
       ".datatable .na {  color: var(--jp-cell-editor-border-color);  font-size: 80%;}\n",
       ".datatable .footer { font-size: 9px; }\n",
       ".datatable .frame_dimensions {  background: var(--jp-border-color3);  border-top: 1px solid var(--jp-border-color0);  color: var(--jp-ui-font-color3);  display: inline-block;  opacity: 0.6;  padding: 1px 10px 1px 5px;}\n",
       "</style>\n"
      ],
      "text/plain": [
       "<IPython.core.display.HTML object>"
      ]
     },
     "metadata": {},
     "output_type": "display_data"
    },
    {
     "data": {
      "text/html": [
       "<div>\n",
       "<style scoped>\n",
       "    .dataframe tbody tr th:only-of-type {\n",
       "        vertical-align: middle;\n",
       "    }\n",
       "\n",
       "    .dataframe tbody tr th {\n",
       "        vertical-align: top;\n",
       "    }\n",
       "\n",
       "    .dataframe thead th {\n",
       "        text-align: right;\n",
       "    }\n",
       "</style>\n",
       "<table border=\"1\" class=\"dataframe\">\n",
       "  <thead>\n",
       "    <tr style=\"text-align: right;\">\n",
       "      <th></th>\n",
       "      <th>MLA Name</th>\n",
       "      <th>MLA Parameters</th>\n",
       "      <th>MLA Train Accuracy Mean</th>\n",
       "      <th>MLA Test Accuracy Mean</th>\n",
       "      <th>MLA Test Accuracy 3*STD</th>\n",
       "      <th>MLA Time</th>\n",
       "    </tr>\n",
       "  </thead>\n",
       "  <tbody>\n",
       "    <tr>\n",
       "      <th>9</th>\n",
       "      <td>LGBMClassifier</td>\n",
       "      <td>{'boosting_type': 'gbdt', 'class_weight': None...</td>\n",
       "      <td>0.773282</td>\n",
       "      <td>0.77021</td>\n",
       "      <td>0.00731557</td>\n",
       "      <td>0.647807</td>\n",
       "    </tr>\n",
       "    <tr>\n",
       "      <th>3</th>\n",
       "      <td>GradientBoostingClassifier</td>\n",
       "      <td>{'ccp_alpha': 0.0, 'criterion': 'friedman_mse'...</td>\n",
       "      <td>0.769951</td>\n",
       "      <td>0.76988</td>\n",
       "      <td>0.00799606</td>\n",
       "      <td>4.17607</td>\n",
       "    </tr>\n",
       "    <tr>\n",
       "      <th>8</th>\n",
       "      <td>XGBClassifier</td>\n",
       "      <td>{'objective': 'binary:logistic', 'base_score':...</td>\n",
       "      <td>0.774784</td>\n",
       "      <td>0.769845</td>\n",
       "      <td>0.00781886</td>\n",
       "      <td>2.33663</td>\n",
       "    </tr>\n",
       "    <tr>\n",
       "      <th>0</th>\n",
       "      <td>AdaBoostClassifier</td>\n",
       "      <td>{'algorithm': 'SAMME.R', 'base_estimator': Non...</td>\n",
       "      <td>0.76794</td>\n",
       "      <td>0.768895</td>\n",
       "      <td>0.0050741</td>\n",
       "      <td>1.69045</td>\n",
       "    </tr>\n",
       "    <tr>\n",
       "      <th>4</th>\n",
       "      <td>RandomForestClassifier</td>\n",
       "      <td>{'bootstrap': True, 'ccp_alpha': 0.0, 'class_w...</td>\n",
       "      <td>0.778595</td>\n",
       "      <td>0.766615</td>\n",
       "      <td>0.00788351</td>\n",
       "      <td>3.09015</td>\n",
       "    </tr>\n",
       "    <tr>\n",
       "      <th>2</th>\n",
       "      <td>ExtraTreesClassifier</td>\n",
       "      <td>{'bootstrap': False, 'ccp_alpha': 0.0, 'class_...</td>\n",
       "      <td>0.778615</td>\n",
       "      <td>0.766385</td>\n",
       "      <td>0.00712241</td>\n",
       "      <td>2.91298</td>\n",
       "    </tr>\n",
       "    <tr>\n",
       "      <th>1</th>\n",
       "      <td>BaggingClassifier</td>\n",
       "      <td>{'base_estimator': None, 'bootstrap': True, 'b...</td>\n",
       "      <td>0.778075</td>\n",
       "      <td>0.7663</td>\n",
       "      <td>0.00806213</td>\n",
       "      <td>0.57209</td>\n",
       "    </tr>\n",
       "    <tr>\n",
       "      <th>6</th>\n",
       "      <td>DecisionTreeClassifier</td>\n",
       "      <td>{'ccp_alpha': 0.0, 'class_weight': None, 'crit...</td>\n",
       "      <td>0.778615</td>\n",
       "      <td>0.766255</td>\n",
       "      <td>0.00765307</td>\n",
       "      <td>0.0780266</td>\n",
       "    </tr>\n",
       "    <tr>\n",
       "      <th>7</th>\n",
       "      <td>ExtraTreeClassifier</td>\n",
       "      <td>{'ccp_alpha': 0.0, 'class_weight': None, 'crit...</td>\n",
       "      <td>0.778615</td>\n",
       "      <td>0.76607</td>\n",
       "      <td>0.00728426</td>\n",
       "      <td>0.0365568</td>\n",
       "    </tr>\n",
       "    <tr>\n",
       "      <th>5</th>\n",
       "      <td>KNeighborsClassifier</td>\n",
       "      <td>{'algorithm': 'auto', 'leaf_size': 30, 'metric...</td>\n",
       "      <td>0.747815</td>\n",
       "      <td>0.73735</td>\n",
       "      <td>0.0165129</td>\n",
       "      <td>3.95036</td>\n",
       "    </tr>\n",
       "  </tbody>\n",
       "</table>\n",
       "</div>"
      ],
      "text/plain": [
       "                     MLA Name  \\\n",
       "9              LGBMClassifier   \n",
       "3  GradientBoostingClassifier   \n",
       "8               XGBClassifier   \n",
       "0          AdaBoostClassifier   \n",
       "4      RandomForestClassifier   \n",
       "2        ExtraTreesClassifier   \n",
       "1           BaggingClassifier   \n",
       "6      DecisionTreeClassifier   \n",
       "7         ExtraTreeClassifier   \n",
       "5        KNeighborsClassifier   \n",
       "\n",
       "                                      MLA Parameters MLA Train Accuracy Mean  \\\n",
       "9  {'boosting_type': 'gbdt', 'class_weight': None...                0.773282   \n",
       "3  {'ccp_alpha': 0.0, 'criterion': 'friedman_mse'...                0.769951   \n",
       "8  {'objective': 'binary:logistic', 'base_score':...                0.774784   \n",
       "0  {'algorithm': 'SAMME.R', 'base_estimator': Non...                 0.76794   \n",
       "4  {'bootstrap': True, 'ccp_alpha': 0.0, 'class_w...                0.778595   \n",
       "2  {'bootstrap': False, 'ccp_alpha': 0.0, 'class_...                0.778615   \n",
       "1  {'base_estimator': None, 'bootstrap': True, 'b...                0.778075   \n",
       "6  {'ccp_alpha': 0.0, 'class_weight': None, 'crit...                0.778615   \n",
       "7  {'ccp_alpha': 0.0, 'class_weight': None, 'crit...                0.778615   \n",
       "5  {'algorithm': 'auto', 'leaf_size': 30, 'metric...                0.747815   \n",
       "\n",
       "  MLA Test Accuracy Mean MLA Test Accuracy 3*STD   MLA Time  \n",
       "9                0.77021              0.00731557   0.647807  \n",
       "3                0.76988              0.00799606    4.17607  \n",
       "8               0.769845              0.00781886    2.33663  \n",
       "0               0.768895               0.0050741    1.69045  \n",
       "4               0.766615              0.00788351    3.09015  \n",
       "2               0.766385              0.00712241    2.91298  \n",
       "1                 0.7663              0.00806213    0.57209  \n",
       "6               0.766255              0.00765307  0.0780266  \n",
       "7                0.76607              0.00728426  0.0365568  \n",
       "5                0.73735               0.0165129    3.95036  "
      ]
     },
     "execution_count": 16,
     "metadata": {},
     "output_type": "execute_result"
    }
   ],
   "source": [
    "from sklearn import ensemble, tree, neighbors\n",
    "from xgboost import XGBClassifier\n",
    "from lightgbm import LGBMClassifier\n",
    "from sklearn import model_selection\n",
    "\n",
    "MLA = [\n",
    "    ensemble.AdaBoostClassifier(),\n",
    "    ensemble.BaggingClassifier(),\n",
    "    ensemble.ExtraTreesClassifier(),\n",
    "    ensemble.GradientBoostingClassifier(),\n",
    "    ensemble.RandomForestClassifier(),\n",
    "\n",
    "    neighbors.KNeighborsClassifier(), \n",
    "\n",
    "    tree.DecisionTreeClassifier(),\n",
    "    tree.ExtraTreeClassifier(), \n",
    "\n",
    "    XGBClassifier(objective='binary:logistic', eval_metric='logloss'),\n",
    "    LGBMClassifier()\n",
    "]\n",
    "\n",
    "cv_split = model_selection.ShuffleSplit(n_splits=10, test_size=0.2, train_size=0.8, random_state=1)\n",
    "\n",
    "MLA_columns = ['MLA Name', 'MLA Parameters', 'MLA Train Accuracy Mean', 'MLA Test Accuracy Mean', 'MLA Test Accuracy 3*STD', 'MLA Time']\n",
    "MLA_compare = pd.DataFrame(columns = MLA_columns)\n",
    "\n",
    "row_index = 0\n",
    "for alg in MLA:\n",
    "    MLA_name = alg.__class__.__name__\n",
    "    MLA_compare.loc[row_index, 'MLA Name'] = MLA_name\n",
    "    MLA_compare.loc[row_index, 'MLA Parameters'] = str(alg.get_params())\n",
    "\n",
    "    cv_results = model_selection.cross_validate(alg, data1[data1_X], data1[Target].values.reshape(-1,), cv=cv_split, return_train_score=True)\n",
    "\n",
    "    MLA_compare.loc[row_index, 'MLA Time'] = cv_results['fit_time'].mean()\n",
    "    MLA_compare.loc[row_index, 'MLA Train Accuracy Mean'] = cv_results['train_score'].mean()\n",
    "    MLA_compare.loc[row_index, 'MLA Test Accuracy Mean'] = cv_results['test_score'].mean() \n",
    "    MLA_compare.loc[row_index, 'MLA Test Accuracy 3*STD'] = cv_results['test_score'].std()*3\n",
    "\n",
    "    row_index += 1\n",
    "\n",
    "# MLA_compare.sort_values(by=['MLA Test Accuracy Mean'], ascending=False, inplace=True)\n",
    "MLA_compare.sort_values(by=['MLA Test Accuracy Mean'], ascending=False)"
   ]
  },
  {
   "cell_type": "markdown",
   "metadata": {
    "papermill": {
     "duration": 0.049104,
     "end_time": "2021-04-09T01:33:18.981711",
     "exception": false,
     "start_time": "2021-04-09T01:33:18.932607",
     "status": "completed"
    },
    "tags": []
   },
   "source": [
    "# Next: Hyperparameters\n",
    "\n",
    "What is the importance of hyperparameter tuning? <br>\n",
    "Hyperparameters are crucial as they control the overall behaviour of a machine learning model. The ultimate goal is to find an optimal combination of hyperparameters that minimizes a predefined loss function to give better results. To improve your ML skills, see [Titanic Top 11%| Starter II: Hyperparameter Tuning](https://www.kaggle.com/chienhsianghung/titanic-top-11-starter-ii-hyperparameter-tuning).<br>\n",
    "\n",
    "Further discussion: [The Best Hyperparameters](https://www.kaggle.com/c/tabular-playground-series-apr-2021/discussion/231152)"
   ]
  },
  {
   "cell_type": "markdown",
   "metadata": {
    "papermill": {
     "duration": 0.038451,
     "end_time": "2021-04-09T01:33:19.061083",
     "exception": false,
     "start_time": "2021-04-09T01:33:19.022632",
     "status": "completed"
    },
    "tags": []
   },
   "source": [
    "## Tuning (Not Yet Finished)\n",
    "\n",
    "Clearly, LightGBM received the highest grade in all models using `default hyperparameters`.<br>\n",
    "In the starter Titanic challenge, using RandomForest and applying a *grid searching* technique, I can improve my score by 0.02 (from 0.76-0.78).<br> \n",
    "And now, I'm trying to use LightGBM in this competition according to my [Models Selection](https://www.kaggle.com/chienhsianghung/tps-apr-starter-pack-all-models?scriptVersionId=58964521&cellId=23) result but the `grid searching` part couldn't go well (failed in 9hrs session) because the amount of data is way too massive than the starter Titanic. It's 12GB in total.\n",
    "\n",
    "~~So, I applied my previous [grid searching result](https://www.kaggle.com/chienhsianghung/titanic-top-11-starter-ii-hyperparameter-tuning?scriptVersionId=58924477&cellId=25) which used small Titanic data for tuning. And, it didn't improve well enough as the RandomForest does though.<br>\n",
    "I still want to make a `hyperparameter searching` to see how far the LightGBM could go. Because, obviously, this's not a proper neither practicable way when we encounter a massive dataset.~~\n",
    "\n",
    "2021 Apr. 8th update___<br>\n",
    "I've tried reducing grid size, it still took me to run 27 thousand seconds and return me a *not better than RF's* improvement."
   ]
  },
  {
   "cell_type": "code",
   "execution_count": 17,
   "metadata": {
    "execution": {
     "iopub.execute_input": "2021-04-09T01:33:19.154670Z",
     "iopub.status.busy": "2021-04-09T01:33:19.153944Z",
     "iopub.status.idle": "2021-04-09T08:49:09.100133Z",
     "shell.execute_reply": "2021-04-09T08:49:09.099390Z"
    },
    "papermill": {
     "duration": 26149.99979,
     "end_time": "2021-04-09T08:49:09.100337",
     "exception": false,
     "start_time": "2021-04-09T01:33:19.100547",
     "status": "completed"
    },
    "tags": []
   },
   "outputs": [
    {
     "name": "stdout",
     "output_type": "stream",
     "text": [
      "Best Params:\n",
      "{'colsample_bytree': 0.613, 'max_depth': 4, 'n_estimators': 1000, 'num_leaves': 31, 'subsample': 0.6}\n"
     ]
    },
    {
     "data": {
      "text/plain": [
       "0.8391357400205038"
      ]
     },
     "execution_count": 17,
     "metadata": {},
     "output_type": "execute_result"
    }
   ],
   "source": [
    "param = [{\n",
    "    'n_estimators': [1000, 1500, 2000], # [1000, 1500, 2000, 2500]\n",
    "    'max_depth':  [4, 8, 11], # [4, 5, 8, 11, -1]\n",
    "    'num_leaves': [15, 31, 58, 63], # [15, 31, 58, 63, 127]\n",
    "    'subsample': [0.6, 0.708, 0.8], # [0.6, 0.7, 0.708, 0.8, 1.0]\n",
    "    'colsample_bytree': [0.613, 0.8, 1.0], # [0.6, 0.613, 0.7, 0.8, 1.0]\n",
    "    # 'learning_rate' : [0.01, 0.02, 0.03]\n",
    "}]\n",
    "\n",
    "# https://scikit-learn.org/stable/modules/generated/sklearn.model_selection.GridSearchCV.html\n",
    "# https://scikit-learn.org/stable/auto_examples/model_selection/plot_multi_metric_evaluation.html\n",
    "best_search = model_selection.GridSearchCV(estimator=LGBMClassifier(), param_grid=param, cv=cv_split, scoring='roc_auc')\n",
    "best_search.fit(data1[data1_X], data1[Target].values.reshape(-1,))\n",
    "\n",
    "# best_param = best_search.best_params_\n",
    "# clf.set_params(**best_param)\n",
    "clf = best_search.best_estimator_\n",
    "\n",
    "print(f\"Best Params:\\n{str(best_search.best_params_)}\")\n",
    "best_search.best_score_ # Compare this with LB"
   ]
  },
  {
   "cell_type": "markdown",
   "metadata": {
    "papermill": {
     "duration": 0.052716,
     "end_time": "2021-04-09T08:49:09.204689",
     "exception": false,
     "start_time": "2021-04-09T08:49:09.151973",
     "status": "completed"
    },
    "tags": []
   },
   "source": [
    "# Predicting"
   ]
  },
  {
   "cell_type": "code",
   "execution_count": 18,
   "metadata": {
    "execution": {
     "iopub.execute_input": "2021-04-09T08:49:09.296857Z",
     "iopub.status.busy": "2021-04-09T08:49:09.296046Z",
     "iopub.status.idle": "2021-04-09T08:49:12.567168Z",
     "shell.execute_reply": "2021-04-09T08:49:12.566487Z"
    },
    "papermill": {
     "duration": 3.318537,
     "end_time": "2021-04-09T08:49:12.567283",
     "exception": false,
     "start_time": "2021-04-09T08:49:09.248746",
     "status": "completed"
    },
    "tags": []
   },
   "outputs": [
    {
     "name": "stdout",
     "output_type": "stream",
     "text": [
      "Your submission was successfully saved!\n"
     ]
    }
   ],
   "source": [
    "# after trying several times submissions, I chose RandomForestClassifier as my highest score\n",
    "# model = ensemble.RandomForestClassifier(**{'criterion': 'entropy', 'max_depth': 5, 'n_estimators': 50, 'random_state': 1})\n",
    "\n",
    "# model = LGBMClassifier(**{'colsample_bytree': 0.8, 'learning_rate': 0.01, 'max_depth': 4, 'n_estimators': 1000, 'num_leaves': 15, 'subsample': 0.6})\n",
    "# model.fit(data1[data1_X], data1[Target].values.reshape(-1, ))\n",
    "# predictions = model.predict(data_val[data1_X])\n",
    "predictions = clf.predict(data_val[data1_X])\n",
    "\n",
    "output = pd.DataFrame({'PassengerId': data_val.PassengerId, 'Survived': predictions})\n",
    "output.to_csv('./my_submission_RandomForestClassifier_tunned_F4.csv', index=False)\n",
    "print(\"Your submission was successfully saved!\")"
   ]
  },
  {
   "cell_type": "markdown",
   "metadata": {
    "papermill": {
     "duration": 0.039163,
     "end_time": "2021-04-09T08:49:12.646941",
     "exception": false,
     "start_time": "2021-04-09T08:49:12.607778",
     "status": "completed"
    },
    "tags": []
   },
   "source": [
    "## Features Importance"
   ]
  },
  {
   "cell_type": "code",
   "execution_count": 19,
   "metadata": {
    "execution": {
     "iopub.execute_input": "2021-04-09T08:49:12.736992Z",
     "iopub.status.busy": "2021-04-09T08:49:12.735459Z",
     "iopub.status.idle": "2021-04-09T08:49:12.925363Z",
     "shell.execute_reply": "2021-04-09T08:49:12.924576Z"
    },
    "papermill": {
     "duration": 0.238779,
     "end_time": "2021-04-09T08:49:12.925514",
     "exception": false,
     "start_time": "2021-04-09T08:49:12.686735",
     "status": "completed"
    },
    "tags": []
   },
   "outputs": [
    {
     "data": {
      "text/plain": [
       "<matplotlib.axes._subplots.AxesSubplot at 0x7f9920596510>"
      ]
     },
     "execution_count": 19,
     "metadata": {},
     "output_type": "execute_result"
    },
    {
     "data": {
      "image/png": "[encoded data removed]",
      "text/plain": [
       "<Figure size 432x288 with 1 Axes>"
      ]
     },
     "metadata": {
      "needs_background": "light"
     },
     "output_type": "display_data"
    }
   ],
   "source": [
    "# https://lightgbm.readthedocs.io/en/latest/pythonapi/lightgbm.plot_importance.html\n",
    "from lightgbm import plot_importance\n",
    "\n",
    "plot_importance(clf)"
   ]
  },
  {
   "cell_type": "markdown",
   "metadata": {
    "papermill": {
     "duration": 0.046139,
     "end_time": "2021-04-09T08:49:13.012872",
     "exception": false,
     "start_time": "2021-04-09T08:49:12.966733",
     "status": "completed"
    },
    "tags": []
   },
   "source": [
    "# References\n",
    "* [A Data Science Framework: To Achieve 99% Accuracy](https://www.kaggle.com/ldfreeman3/a-data-science-framework-to-achieve-99-accuracy)\n",
    "* [MY FIRST KAGGLE WORK TITANIC](https://www.kaggle.com/saptarshisit/my-first-kaggle-work-titanic)"
   ]
  }
 ],
 "metadata": {
  "kernelspec": {
   "display_name": "Python 3",
   "language": "python",
   "name": "python3"
  },
  "language_info": {
   "codemirror_mode": {
    "name": "ipython",
    "version": 3
   },
   "file_extension": ".py",
   "mimetype": "text/x-python",
   "name": "python",
   "nbconvert_exporter": "python",
   "pygments_lexer": "ipython3",
   "version": "3.7.6"
  },
  "papermill": {
   "duration": 26992.831871,
   "end_time": "2021-04-09T08:49:13.168773",
   "environment_variables": {},
   "exception": null,
   "input_path": "__notebook__.ipynb",
   "output_path": "__notebook__.ipynb",
   "parameters": {},
   "start_time": "2021-04-09T01:19:20.336902",
   "version": "2.1.0"
  }
 },
 "nbformat": 4,
 "nbformat_minor": 4
}
