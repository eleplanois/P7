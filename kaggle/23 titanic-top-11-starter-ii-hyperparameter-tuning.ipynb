{
 "cells": [
  {
   "cell_type": "markdown",
   "metadata": {
    "papermill": {
     "duration": 0.018183,
     "end_time": "2021-04-09T01:19:27.985902",
     "exception": false,
     "start_time": "2021-04-09T01:19:27.967719",
     "status": "completed"
    },
    "tags": []
   },
   "source": [
    "# Define the Problem\n",
    "\n",
    "For this project, the problem statement is given to us on a golden plater, develop an algorithm to predict the survival outcome of passengers on the Titanic.\n",
    "In this challenge, we ask you to complete the analysis of what sorts of people were likely to survive. In particular, we ask you to apply the tools of machine learning to predict which passengers survived the tragedy. <br>\n",
    "- Tools\n",
    "    - It's a classic **Binary classification**. \n",
    "- Data\n",
    "    - The dataset is given to us on a golden plater with test and train data at Kaggle's Titanic: Machine Learning from Disaster\n",
    "    \n",
    "***A warm reminder: If you haven't read [Titanic Top 11%| Starter I: Models Comparing](https://www.kaggle.com/chienhsianghung/titanic-top-11-starter-i-models-comparing) yet, go there first!***"
   ]
  },
  {
   "cell_type": "markdown",
   "metadata": {
    "papermill": {
     "duration": 0.016649,
     "end_time": "2021-04-09T01:19:28.021112",
     "exception": false,
     "start_time": "2021-04-09T01:19:28.004463",
     "status": "completed"
    },
    "tags": []
   },
   "source": [
    "# Data Preprocessing"
   ]
  },
  {
   "cell_type": "code",
   "execution_count": 1,
   "metadata": {
    "_cell_guid": "b1076dfc-b9ad-4769-8c92-a6c4dae69d19",
    "_uuid": "8f2839f25d086af736a60e9eeb907d3b93b6e0e5",
    "execution": {
     "iopub.execute_input": "2021-04-09T01:19:28.066641Z",
     "iopub.status.busy": "2021-04-09T01:19:28.065929Z",
     "iopub.status.idle": "2021-04-09T01:19:28.072585Z",
     "shell.execute_reply": "2021-04-09T01:19:28.071962Z"
    },
    "papermill": {
     "duration": 0.034692,
     "end_time": "2021-04-09T01:19:28.072702",
     "exception": false,
     "start_time": "2021-04-09T01:19:28.038010",
     "status": "completed"
    },
    "tags": []
   },
   "outputs": [
    {
     "name": "stdout",
     "output_type": "stream",
     "text": [
      "/kaggle/input/titanic/train.csv\n",
      "/kaggle/input/titanic/test.csv\n",
      "/kaggle/input/titanic/gender_submission.csv\n"
     ]
    }
   ],
   "source": [
    "# This Python 3 environment comes with many helpful analytics libraries installed\n",
    "# It is defined by the kaggle/python Docker image: https://github.com/kaggle/docker-python\n",
    "# For example, here's several helpful packages to load\n",
    "\n",
    "import numpy as np # linear algebra\n",
    "import pandas as pd # data processing, CSV file I/O (e.g. pd.read_csv)\n",
    "\n",
    "# Input data files are available in the read-only \"../input/\" directory\n",
    "# For example, running this (by clicking run or pressing Shift+Enter) will list all files under the input directory\n",
    "\n",
    "import os\n",
    "for dirname, _, filenames in os.walk('/kaggle/input'):\n",
    "    for filename in filenames:\n",
    "        print(os.path.join(dirname, filename))\n",
    "\n",
    "# You can write up to 20GB to the current directory (/kaggle/working/) that gets preserved as output when you create a version using \"Save & Run All\" \n",
    "# You can also write temporary files to /kaggle/temp/, but they won't be saved outside of the current session"
   ]
  },
  {
   "cell_type": "code",
   "execution_count": 2,
   "metadata": {
    "_cell_guid": "79c7e3d0-c299-4dcb-8224-4455121ee9b0",
    "_uuid": "d629ff2d2480ee46fbb7e2d37f6b5fab8052498a",
    "execution": {
     "iopub.execute_input": "2021-04-09T01:19:28.117392Z",
     "iopub.status.busy": "2021-04-09T01:19:28.116639Z",
     "iopub.status.idle": "2021-04-09T01:19:28.142526Z",
     "shell.execute_reply": "2021-04-09T01:19:28.141970Z"
    },
    "papermill": {
     "duration": 0.051516,
     "end_time": "2021-04-09T01:19:28.142641",
     "exception": false,
     "start_time": "2021-04-09T01:19:28.091125",
     "status": "completed"
    },
    "tags": []
   },
   "outputs": [],
   "source": [
    "data_raw = pd.read_csv('../input/titanic/train.csv')\n",
    "data_val = pd.read_csv('../input/titanic/test.csv')\n",
    "data1 = data_raw.copy(deep=True)\n",
    "data_cleaner = [data1, data_val]\n",
    "\n",
    "Target = ['Survived']"
   ]
  },
  {
   "cell_type": "code",
   "execution_count": 3,
   "metadata": {
    "execution": {
     "iopub.execute_input": "2021-04-09T01:19:28.203389Z",
     "iopub.status.busy": "2021-04-09T01:19:28.202697Z",
     "iopub.status.idle": "2021-04-09T01:19:28.299714Z",
     "shell.execute_reply": "2021-04-09T01:19:28.298891Z"
    },
    "papermill": {
     "duration": 0.13962,
     "end_time": "2021-04-09T01:19:28.299868",
     "exception": false,
     "start_time": "2021-04-09T01:19:28.160248",
     "status": "completed"
    },
    "tags": []
   },
   "outputs": [
    {
     "name": "stdout",
     "output_type": "stream",
     "text": [
      "<class 'pandas.core.frame.DataFrame'>\n",
      "RangeIndex: 891 entries, 0 to 890\n",
      "Data columns (total 12 columns):\n",
      " #   Column       Non-Null Count  Dtype  \n",
      "---  ------       --------------  -----  \n",
      " 0   PassengerId  891 non-null    int64  \n",
      " 1   Survived     891 non-null    int64  \n",
      " 2   Pclass       891 non-null    int64  \n",
      " 3   Name         891 non-null    object \n",
      " 4   Sex          891 non-null    object \n",
      " 5   Age          714 non-null    float64\n",
      " 6   SibSp        891 non-null    int64  \n",
      " 7   Parch        891 non-null    int64  \n",
      " 8   Ticket       891 non-null    object \n",
      " 9   Fare         891 non-null    float64\n",
      " 10  Cabin        204 non-null    object \n",
      " 11  Embarked     889 non-null    object \n",
      "dtypes: float64(2), int64(5), object(5)\n",
      "memory usage: 83.7+ KB\n",
      "None\n",
      "        PassengerId    Survived      Pclass                              Name  \\\n",
      "count    891.000000  891.000000  891.000000                               891   \n",
      "unique          NaN         NaN         NaN                               891   \n",
      "top             NaN         NaN         NaN  Madigan, Miss. Margaret \"Maggie\"   \n",
      "freq            NaN         NaN         NaN                                 1   \n",
      "mean     446.000000    0.383838    2.308642                               NaN   \n",
      "std      257.353842    0.486592    0.836071                               NaN   \n",
      "min        1.000000    0.000000    1.000000                               NaN   \n",
      "25%      223.500000    0.000000    2.000000                               NaN   \n",
      "50%      446.000000    0.000000    3.000000                               NaN   \n",
      "75%      668.500000    1.000000    3.000000                               NaN   \n",
      "max      891.000000    1.000000    3.000000                               NaN   \n",
      "\n",
      "         Sex         Age       SibSp       Parch Ticket        Fare    Cabin  \\\n",
      "count    891  714.000000  891.000000  891.000000    891  891.000000      204   \n",
      "unique     2         NaN         NaN         NaN    681         NaN      147   \n",
      "top     male         NaN         NaN         NaN   1601         NaN  B96 B98   \n",
      "freq     577         NaN         NaN         NaN      7         NaN        4   \n",
      "mean     NaN   29.699118    0.523008    0.381594    NaN   32.204208      NaN   \n",
      "std      NaN   14.526497    1.102743    0.806057    NaN   49.693429      NaN   \n",
      "min      NaN    0.420000    0.000000    0.000000    NaN    0.000000      NaN   \n",
      "25%      NaN   20.125000    0.000000    0.000000    NaN    7.910400      NaN   \n",
      "50%      NaN   28.000000    0.000000    0.000000    NaN   14.454200      NaN   \n",
      "75%      NaN   38.000000    1.000000    0.000000    NaN   31.000000      NaN   \n",
      "max      NaN   80.000000    8.000000    6.000000    NaN  512.329200      NaN   \n",
      "\n",
      "       Embarked  \n",
      "count       889  \n",
      "unique        3  \n",
      "top           S  \n",
      "freq        644  \n",
      "mean        NaN  \n",
      "std         NaN  \n",
      "min         NaN  \n",
      "25%         NaN  \n",
      "50%         NaN  \n",
      "75%         NaN  \n",
      "max         NaN  \n",
      "<class 'pandas.core.frame.DataFrame'>\n",
      "RangeIndex: 418 entries, 0 to 417\n",
      "Data columns (total 11 columns):\n",
      " #   Column       Non-Null Count  Dtype  \n",
      "---  ------       --------------  -----  \n",
      " 0   PassengerId  418 non-null    int64  \n",
      " 1   Pclass       418 non-null    int64  \n",
      " 2   Name         418 non-null    object \n",
      " 3   Sex          418 non-null    object \n",
      " 4   Age          332 non-null    float64\n",
      " 5   SibSp        418 non-null    int64  \n",
      " 6   Parch        418 non-null    int64  \n",
      " 7   Ticket       418 non-null    object \n",
      " 8   Fare         417 non-null    float64\n",
      " 9   Cabin        91 non-null     object \n",
      " 10  Embarked     418 non-null    object \n",
      "dtypes: float64(2), int64(4), object(5)\n",
      "memory usage: 36.0+ KB\n",
      "None\n",
      "        PassengerId      Pclass                      Name   Sex         Age  \\\n",
      "count    418.000000  418.000000                       418   418  332.000000   \n",
      "unique          NaN         NaN                       418     2         NaN   \n",
      "top             NaN         NaN  Cribb, Miss. Laura Alice  male         NaN   \n",
      "freq            NaN         NaN                         1   266         NaN   \n",
      "mean    1100.500000    2.265550                       NaN   NaN   30.272590   \n",
      "std      120.810458    0.841838                       NaN   NaN   14.181209   \n",
      "min      892.000000    1.000000                       NaN   NaN    0.170000   \n",
      "25%      996.250000    1.000000                       NaN   NaN   21.000000   \n",
      "50%     1100.500000    3.000000                       NaN   NaN   27.000000   \n",
      "75%     1204.750000    3.000000                       NaN   NaN   39.000000   \n",
      "max     1309.000000    3.000000                       NaN   NaN   76.000000   \n",
      "\n",
      "             SibSp       Parch    Ticket        Fare            Cabin Embarked  \n",
      "count   418.000000  418.000000       418  417.000000               91      418  \n",
      "unique         NaN         NaN       363         NaN               76        3  \n",
      "top            NaN         NaN  PC 17608         NaN  B57 B59 B63 B66        S  \n",
      "freq           NaN         NaN         5         NaN                3      270  \n",
      "mean      0.447368    0.392344       NaN   35.627188              NaN      NaN  \n",
      "std       0.896760    0.981429       NaN   55.907576              NaN      NaN  \n",
      "min       0.000000    0.000000       NaN    0.000000              NaN      NaN  \n",
      "25%       0.000000    0.000000       NaN    7.895800              NaN      NaN  \n",
      "50%       0.000000    0.000000       NaN   14.454200              NaN      NaN  \n",
      "75%       1.000000    0.000000       NaN   31.500000              NaN      NaN  \n",
      "max       8.000000    9.000000       NaN  512.329200              NaN      NaN  \n"
     ]
    }
   ],
   "source": [
    "for dataset in data_cleaner:\n",
    "    print(dataset.info())\n",
    "    print(dataset.describe(include='all'))"
   ]
  },
  {
   "cell_type": "markdown",
   "metadata": {
    "papermill": {
     "duration": 0.018787,
     "end_time": "2021-04-09T01:19:28.338432",
     "exception": false,
     "start_time": "2021-04-09T01:19:28.319645",
     "status": "completed"
    },
    "tags": []
   },
   "source": [
    "# Data Preprocessing- Fill Na"
   ]
  },
  {
   "cell_type": "code",
   "execution_count": 4,
   "metadata": {
    "execution": {
     "iopub.execute_input": "2021-04-09T01:19:28.390082Z",
     "iopub.status.busy": "2021-04-09T01:19:28.389414Z",
     "iopub.status.idle": "2021-04-09T01:19:28.392242Z",
     "shell.execute_reply": "2021-04-09T01:19:28.392696Z"
    },
    "papermill": {
     "duration": 0.034952,
     "end_time": "2021-04-09T01:19:28.392835",
     "exception": false,
     "start_time": "2021-04-09T01:19:28.357883",
     "status": "completed"
    },
    "tags": []
   },
   "outputs": [],
   "source": [
    "for dataset in data_cleaner:\n",
    "    dataset.Age.fillna(dataset.Age.median(), inplace=True)\n",
    "    dataset.Embarked.fillna('S', inplace=True)\n",
    "    dataset.Fare.fillna(dataset.Fare.median(), inplace=True)\n",
    "    # dataset['Title'] = dataset.Name.str.split(', ', expand=True)[1].str.split('.', expand=True)[0]\n",
    "    dataset['Family_members'] = dataset.Parch + dataset.SibSp"
   ]
  },
  {
   "cell_type": "code",
   "execution_count": 5,
   "metadata": {
    "execution": {
     "iopub.execute_input": "2021-04-09T01:19:28.446467Z",
     "iopub.status.busy": "2021-04-09T01:19:28.445818Z",
     "iopub.status.idle": "2021-04-09T01:19:28.458434Z",
     "shell.execute_reply": "2021-04-09T01:19:28.457736Z"
    },
    "papermill": {
     "duration": 0.046793,
     "end_time": "2021-04-09T01:19:28.458554",
     "exception": false,
     "start_time": "2021-04-09T01:19:28.411761",
     "status": "completed"
    },
    "tags": []
   },
   "outputs": [
    {
     "data": {
      "text/html": [
       "<div>\n",
       "<style scoped>\n",
       "    .dataframe tbody tr th:only-of-type {\n",
       "        vertical-align: middle;\n",
       "    }\n",
       "\n",
       "    .dataframe tbody tr th {\n",
       "        vertical-align: top;\n",
       "    }\n",
       "\n",
       "    .dataframe thead th {\n",
       "        text-align: right;\n",
       "    }\n",
       "</style>\n",
       "<table border=\"1\" class=\"dataframe\">\n",
       "  <thead>\n",
       "    <tr style=\"text-align: right;\">\n",
       "      <th></th>\n",
       "      <th>PassengerId</th>\n",
       "      <th>Survived</th>\n",
       "      <th>Pclass</th>\n",
       "      <th>Name</th>\n",
       "      <th>Sex</th>\n",
       "      <th>Age</th>\n",
       "      <th>SibSp</th>\n",
       "      <th>Parch</th>\n",
       "      <th>Ticket</th>\n",
       "      <th>Fare</th>\n",
       "      <th>Cabin</th>\n",
       "      <th>Embarked</th>\n",
       "      <th>Family_members</th>\n",
       "    </tr>\n",
       "  </thead>\n",
       "  <tbody>\n",
       "    <tr>\n",
       "      <th>424</th>\n",
       "      <td>425</td>\n",
       "      <td>0</td>\n",
       "      <td>3</td>\n",
       "      <td>Rosblom, Mr. Viktor Richard</td>\n",
       "      <td>male</td>\n",
       "      <td>18.0</td>\n",
       "      <td>1</td>\n",
       "      <td>1</td>\n",
       "      <td>370129</td>\n",
       "      <td>20.2125</td>\n",
       "      <td>NaN</td>\n",
       "      <td>S</td>\n",
       "      <td>2</td>\n",
       "    </tr>\n",
       "    <tr>\n",
       "      <th>779</th>\n",
       "      <td>780</td>\n",
       "      <td>1</td>\n",
       "      <td>1</td>\n",
       "      <td>Robert, Mrs. Edward Scott (Elisabeth Walton Mc...</td>\n",
       "      <td>female</td>\n",
       "      <td>43.0</td>\n",
       "      <td>0</td>\n",
       "      <td>1</td>\n",
       "      <td>24160</td>\n",
       "      <td>211.3375</td>\n",
       "      <td>B3</td>\n",
       "      <td>S</td>\n",
       "      <td>1</td>\n",
       "    </tr>\n",
       "    <tr>\n",
       "      <th>710</th>\n",
       "      <td>711</td>\n",
       "      <td>1</td>\n",
       "      <td>1</td>\n",
       "      <td>Mayne, Mlle. Berthe Antonine (\"Mrs de Villiers\")</td>\n",
       "      <td>female</td>\n",
       "      <td>24.0</td>\n",
       "      <td>0</td>\n",
       "      <td>0</td>\n",
       "      <td>PC 17482</td>\n",
       "      <td>49.5042</td>\n",
       "      <td>C90</td>\n",
       "      <td>C</td>\n",
       "      <td>0</td>\n",
       "    </tr>\n",
       "    <tr>\n",
       "      <th>531</th>\n",
       "      <td>532</td>\n",
       "      <td>0</td>\n",
       "      <td>3</td>\n",
       "      <td>Toufik, Mr. Nakli</td>\n",
       "      <td>male</td>\n",
       "      <td>28.0</td>\n",
       "      <td>0</td>\n",
       "      <td>0</td>\n",
       "      <td>2641</td>\n",
       "      <td>7.2292</td>\n",
       "      <td>NaN</td>\n",
       "      <td>C</td>\n",
       "      <td>0</td>\n",
       "    </tr>\n",
       "    <tr>\n",
       "      <th>238</th>\n",
       "      <td>239</td>\n",
       "      <td>0</td>\n",
       "      <td>2</td>\n",
       "      <td>Pengelly, Mr. Frederick William</td>\n",
       "      <td>male</td>\n",
       "      <td>19.0</td>\n",
       "      <td>0</td>\n",
       "      <td>0</td>\n",
       "      <td>28665</td>\n",
       "      <td>10.5000</td>\n",
       "      <td>NaN</td>\n",
       "      <td>S</td>\n",
       "      <td>0</td>\n",
       "    </tr>\n",
       "  </tbody>\n",
       "</table>\n",
       "</div>"
      ],
      "text/plain": [
       "     PassengerId  Survived  Pclass  \\\n",
       "424          425         0       3   \n",
       "779          780         1       1   \n",
       "710          711         1       1   \n",
       "531          532         0       3   \n",
       "238          239         0       2   \n",
       "\n",
       "                                                  Name     Sex   Age  SibSp  \\\n",
       "424                        Rosblom, Mr. Viktor Richard    male  18.0      1   \n",
       "779  Robert, Mrs. Edward Scott (Elisabeth Walton Mc...  female  43.0      0   \n",
       "710   Mayne, Mlle. Berthe Antonine (\"Mrs de Villiers\")  female  24.0      0   \n",
       "531                                  Toufik, Mr. Nakli    male  28.0      0   \n",
       "238                    Pengelly, Mr. Frederick William    male  19.0      0   \n",
       "\n",
       "     Parch    Ticket      Fare Cabin Embarked  Family_members  \n",
       "424      1    370129   20.2125   NaN        S               2  \n",
       "779      1     24160  211.3375    B3        S               1  \n",
       "710      0  PC 17482   49.5042   C90        C               0  \n",
       "531      0      2641    7.2292   NaN        C               0  \n",
       "238      0     28665   10.5000   NaN        S               0  "
      ]
     },
     "execution_count": 5,
     "metadata": {},
     "output_type": "execute_result"
    }
   ],
   "source": [
    "data1.sample(5)"
   ]
  },
  {
   "cell_type": "markdown",
   "metadata": {
    "papermill": {
     "duration": 0.019226,
     "end_time": "2021-04-09T01:19:28.497113",
     "exception": false,
     "start_time": "2021-04-09T01:19:28.477887",
     "status": "completed"
    },
    "tags": []
   },
   "source": [
    "# Simple Data Visualization (for setting bins)"
   ]
  },
  {
   "cell_type": "code",
   "execution_count": 6,
   "metadata": {
    "execution": {
     "iopub.execute_input": "2021-04-09T01:19:28.544351Z",
     "iopub.status.busy": "2021-04-09T01:19:28.542217Z",
     "iopub.status.idle": "2021-04-09T01:19:28.547466Z",
     "shell.execute_reply": "2021-04-09T01:19:28.547972Z"
    },
    "papermill": {
     "duration": 0.031488,
     "end_time": "2021-04-09T01:19:28.548122",
     "exception": false,
     "start_time": "2021-04-09T01:19:28.516634",
     "status": "completed"
    },
    "tags": []
   },
   "outputs": [],
   "source": [
    "data1.drop(['Name', 'PassengerId', 'Ticket', 'SibSp', 'Parch'], axis=1, inplace=True)"
   ]
  },
  {
   "cell_type": "code",
   "execution_count": 7,
   "metadata": {
    "execution": {
     "iopub.execute_input": "2021-04-09T01:19:28.596293Z",
     "iopub.status.busy": "2021-04-09T01:19:28.595500Z",
     "iopub.status.idle": "2021-04-09T01:19:35.081813Z",
     "shell.execute_reply": "2021-04-09T01:19:35.081087Z"
    },
    "papermill": {
     "duration": 6.5115,
     "end_time": "2021-04-09T01:19:35.081923",
     "exception": false,
     "start_time": "2021-04-09T01:19:28.570423",
     "status": "completed"
    },
    "tags": []
   },
   "outputs": [
    {
     "data": {
      "image/png": "[encoded data removed]",
      "text/plain": [
       "<Figure size 432x288 with 1 Axes>"
      ]
     },
     "metadata": {
      "needs_background": "light"
     },
     "output_type": "display_data"
    },
    {
     "data": {
      "image/png": "[encoded data removed]",
      "text/plain": [
       "<Figure size 432x288 with 1 Axes>"
      ]
     },
     "metadata": {
      "needs_background": "light"
     },
     "output_type": "display_data"
    },
    {
     "data": {
      "image/png": "[encoded data removed]",
      "text/plain": [
       "<Figure size 432x288 with 1 Axes>"
      ]
     },
     "metadata": {
      "needs_background": "light"
     },
     "output_type": "display_data"
    },
    {
     "data": {
      "image/png": "[encoded data removed]",
      "text/plain": [
       "<Figure size 432x288 with 1 Axes>"
      ]
     },
     "metadata": {
      "needs_background": "light"
     },
     "output_type": "display_data"
    },
    {
     "data": {
      "image/png": "[encoded data removed]",
      "text/plain": [
       "<Figure size 432x288 with 1 Axes>"
      ]
     },
     "metadata": {
      "needs_background": "light"
     },
     "output_type": "display_data"
    },
    {
     "data": {
      "image/png": "[encoded data removed]",
      "text/plain": [
       "<Figure size 432x288 with 1 Axes>"
      ]
     },
     "metadata": {
      "needs_background": "light"
     },
     "output_type": "display_data"
    },
    {
     "data": {
      "image/png": "[encoded data removed]",
      "text/plain": [
       "<Figure size 432x288 with 1 Axes>"
      ]
     },
     "metadata": {
      "needs_background": "light"
     },
     "output_type": "display_data"
    },
    {
     "data": {
      "image/png": "[encoded data removed]",
      "text/plain": [
       "<Figure size 432x288 with 1 Axes>"
      ]
     },
     "metadata": {
      "needs_background": "light"
     },
     "output_type": "display_data"
    }
   ],
   "source": [
    "import seaborn as sns\n",
    "import matplotlib.pyplot as plt\n",
    "\n",
    "for i in data1.columns:\n",
    "    sns.countplot(data1[i])\n",
    "    plt.show()"
   ]
  },
  {
   "cell_type": "markdown",
   "metadata": {
    "papermill": {
     "duration": 0.024642,
     "end_time": "2021-04-09T01:19:35.132310",
     "exception": false,
     "start_time": "2021-04-09T01:19:35.107668",
     "status": "completed"
    },
    "tags": []
   },
   "source": [
    "# Data preprocessing- Cabin"
   ]
  },
  {
   "cell_type": "code",
   "execution_count": 8,
   "metadata": {
    "execution": {
     "iopub.execute_input": "2021-04-09T01:19:35.194039Z",
     "iopub.status.busy": "2021-04-09T01:19:35.193395Z",
     "iopub.status.idle": "2021-04-09T01:19:35.197086Z",
     "shell.execute_reply": "2021-04-09T01:19:35.196492Z"
    },
    "papermill": {
     "duration": 0.039913,
     "end_time": "2021-04-09T01:19:35.197203",
     "exception": false,
     "start_time": "2021-04-09T01:19:35.157290",
     "status": "completed"
    },
    "tags": []
   },
   "outputs": [
    {
     "data": {
      "text/plain": [
       "Cabin\n",
       "False    0.666667\n",
       "True     0.299854\n",
       "Name: Survived, dtype: float64"
      ]
     },
     "execution_count": 8,
     "metadata": {},
     "output_type": "execute_result"
    }
   ],
   "source": [
    "# data1.groupby(data1['Cabin'].isnull()).mean()\n",
    "data1.groupby(data1['Cabin'].isnull())['Survived'].mean()"
   ]
  },
  {
   "cell_type": "code",
   "execution_count": 9,
   "metadata": {
    "execution": {
     "iopub.execute_input": "2021-04-09T01:19:35.258248Z",
     "iopub.status.busy": "2021-04-09T01:19:35.256937Z",
     "iopub.status.idle": "2021-04-09T01:19:35.261756Z",
     "shell.execute_reply": "2021-04-09T01:19:35.261271Z"
    },
    "papermill": {
     "duration": 0.039246,
     "end_time": "2021-04-09T01:19:35.261861",
     "exception": false,
     "start_time": "2021-04-09T01:19:35.222615",
     "status": "completed"
    },
    "tags": []
   },
   "outputs": [],
   "source": [
    "for dataset in data_cleaner:\n",
    "    dataset['Cabin_Allotted'] = np.where(dataset.Cabin.isnull(), 0, 1)\n",
    "    dataset.drop('Cabin', axis=1, inplace=True)"
   ]
  },
  {
   "cell_type": "code",
   "execution_count": 10,
   "metadata": {
    "execution": {
     "iopub.execute_input": "2021-04-09T01:19:35.326558Z",
     "iopub.status.busy": "2021-04-09T01:19:35.325917Z",
     "iopub.status.idle": "2021-04-09T01:19:35.330713Z",
     "shell.execute_reply": "2021-04-09T01:19:35.330222Z"
    },
    "papermill": {
     "duration": 0.043379,
     "end_time": "2021-04-09T01:19:35.330829",
     "exception": false,
     "start_time": "2021-04-09T01:19:35.287450",
     "status": "completed"
    },
    "tags": []
   },
   "outputs": [
    {
     "data": {
      "text/html": [
       "<div>\n",
       "<style scoped>\n",
       "    .dataframe tbody tr th:only-of-type {\n",
       "        vertical-align: middle;\n",
       "    }\n",
       "\n",
       "    .dataframe tbody tr th {\n",
       "        vertical-align: top;\n",
       "    }\n",
       "\n",
       "    .dataframe thead th {\n",
       "        text-align: right;\n",
       "    }\n",
       "</style>\n",
       "<table border=\"1\" class=\"dataframe\">\n",
       "  <thead>\n",
       "    <tr style=\"text-align: right;\">\n",
       "      <th></th>\n",
       "      <th>Survived</th>\n",
       "      <th>Pclass</th>\n",
       "      <th>Sex</th>\n",
       "      <th>Age</th>\n",
       "      <th>Fare</th>\n",
       "      <th>Embarked</th>\n",
       "      <th>Family_members</th>\n",
       "      <th>Cabin_Allotted</th>\n",
       "    </tr>\n",
       "  </thead>\n",
       "  <tbody>\n",
       "    <tr>\n",
       "      <th>74</th>\n",
       "      <td>1</td>\n",
       "      <td>3</td>\n",
       "      <td>male</td>\n",
       "      <td>32.0</td>\n",
       "      <td>56.4958</td>\n",
       "      <td>S</td>\n",
       "      <td>0</td>\n",
       "      <td>0</td>\n",
       "    </tr>\n",
       "    <tr>\n",
       "      <th>326</th>\n",
       "      <td>0</td>\n",
       "      <td>3</td>\n",
       "      <td>male</td>\n",
       "      <td>61.0</td>\n",
       "      <td>6.2375</td>\n",
       "      <td>S</td>\n",
       "      <td>0</td>\n",
       "      <td>0</td>\n",
       "    </tr>\n",
       "    <tr>\n",
       "      <th>298</th>\n",
       "      <td>1</td>\n",
       "      <td>1</td>\n",
       "      <td>male</td>\n",
       "      <td>28.0</td>\n",
       "      <td>30.5000</td>\n",
       "      <td>S</td>\n",
       "      <td>0</td>\n",
       "      <td>1</td>\n",
       "    </tr>\n",
       "    <tr>\n",
       "      <th>670</th>\n",
       "      <td>1</td>\n",
       "      <td>2</td>\n",
       "      <td>female</td>\n",
       "      <td>40.0</td>\n",
       "      <td>39.0000</td>\n",
       "      <td>S</td>\n",
       "      <td>2</td>\n",
       "      <td>0</td>\n",
       "    </tr>\n",
       "    <tr>\n",
       "      <th>114</th>\n",
       "      <td>0</td>\n",
       "      <td>3</td>\n",
       "      <td>female</td>\n",
       "      <td>17.0</td>\n",
       "      <td>14.4583</td>\n",
       "      <td>C</td>\n",
       "      <td>0</td>\n",
       "      <td>0</td>\n",
       "    </tr>\n",
       "  </tbody>\n",
       "</table>\n",
       "</div>"
      ],
      "text/plain": [
       "     Survived  Pclass     Sex   Age     Fare Embarked  Family_members  \\\n",
       "74          1       3    male  32.0  56.4958        S               0   \n",
       "326         0       3    male  61.0   6.2375        S               0   \n",
       "298         1       1    male  28.0  30.5000        S               0   \n",
       "670         1       2  female  40.0  39.0000        S               2   \n",
       "114         0       3  female  17.0  14.4583        C               0   \n",
       "\n",
       "     Cabin_Allotted  \n",
       "74                0  \n",
       "326               0  \n",
       "298               1  \n",
       "670               0  \n",
       "114               0  "
      ]
     },
     "execution_count": 10,
     "metadata": {},
     "output_type": "execute_result"
    }
   ],
   "source": [
    "data1.sample(5)\n",
    "# data1['Title'].value_counts()"
   ]
  },
  {
   "cell_type": "markdown",
   "metadata": {
    "papermill": {
     "duration": 0.025958,
     "end_time": "2021-04-09T01:19:35.383034",
     "exception": false,
     "start_time": "2021-04-09T01:19:35.357076",
     "status": "completed"
    },
    "tags": []
   },
   "source": [
    "# Data Preprocessing- Encoder\n",
    "\n",
    "It all goes on how you explain your feature's (X) effect on the final prediction (Y).<br>\n",
    "Let's take a look at the feature `Fare`. <br>\n",
    "Do you think the Fare's increment like 1 dollar would make any significant impact on their survival rate?<br>\n",
    "The answer is quite obvious, right? But what if we raise the increment to i.e. 30 dollars..? Hard to tell huh!<br>\n",
    "Again, it all goes on how you interpret data. In this case, I've tried them so many times. And I received the better result by *categoricalization* on `Fare` in most of them."
   ]
  },
  {
   "cell_type": "code",
   "execution_count": 11,
   "metadata": {
    "execution": {
     "iopub.execute_input": "2021-04-09T01:19:35.444329Z",
     "iopub.status.busy": "2021-04-09T01:19:35.443605Z",
     "iopub.status.idle": "2021-04-09T01:19:35.545412Z",
     "shell.execute_reply": "2021-04-09T01:19:35.544789Z"
    },
    "papermill": {
     "duration": 0.136036,
     "end_time": "2021-04-09T01:19:35.545527",
     "exception": false,
     "start_time": "2021-04-09T01:19:35.409491",
     "status": "completed"
    },
    "tags": []
   },
   "outputs": [],
   "source": [
    "from sklearn.preprocessing import LabelEncoder\n",
    "\n",
    "lb = LabelEncoder()\n",
    "\n",
    "for dataset in data_cleaner:\n",
    "    dataset['Sex_labeled'] = lb.fit_transform(dataset.Sex)\n",
    "    \n",
    "    dataset['AgeBin'] = pd.qcut(dataset.Age, 3)\n",
    "    dataset['Age_labeled'] = lb.fit_transform(dataset['AgeBin'])\n",
    "\n",
    "    dataset['FareBin'] = pd.qcut(dataset.Fare, 4)\n",
    "    dataset['Fare_labeled'] = lb.fit_transform(dataset['FareBin'])\n",
    "\n",
    "    dataset['Embarked_labeled'] = lb.fit_transform(dataset.Embarked)"
   ]
  },
  {
   "cell_type": "code",
   "execution_count": 12,
   "metadata": {
    "execution": {
     "iopub.execute_input": "2021-04-09T01:19:35.620163Z",
     "iopub.status.busy": "2021-04-09T01:19:35.603755Z",
     "iopub.status.idle": "2021-04-09T01:19:35.624038Z",
     "shell.execute_reply": "2021-04-09T01:19:35.624522Z"
    },
    "papermill": {
     "duration": 0.052269,
     "end_time": "2021-04-09T01:19:35.624665",
     "exception": false,
     "start_time": "2021-04-09T01:19:35.572396",
     "status": "completed"
    },
    "tags": []
   },
   "outputs": [
    {
     "data": {
      "text/html": [
       "<div>\n",
       "<style scoped>\n",
       "    .dataframe tbody tr th:only-of-type {\n",
       "        vertical-align: middle;\n",
       "    }\n",
       "\n",
       "    .dataframe tbody tr th {\n",
       "        vertical-align: top;\n",
       "    }\n",
       "\n",
       "    .dataframe thead th {\n",
       "        text-align: right;\n",
       "    }\n",
       "</style>\n",
       "<table border=\"1\" class=\"dataframe\">\n",
       "  <thead>\n",
       "    <tr style=\"text-align: right;\">\n",
       "      <th></th>\n",
       "      <th>Survived</th>\n",
       "      <th>Pclass</th>\n",
       "      <th>Sex</th>\n",
       "      <th>Age</th>\n",
       "      <th>Fare</th>\n",
       "      <th>Embarked</th>\n",
       "      <th>Family_members</th>\n",
       "      <th>Cabin_Allotted</th>\n",
       "      <th>Sex_labeled</th>\n",
       "      <th>AgeBin</th>\n",
       "      <th>Age_labeled</th>\n",
       "      <th>FareBin</th>\n",
       "      <th>Fare_labeled</th>\n",
       "      <th>Embarked_labeled</th>\n",
       "    </tr>\n",
       "  </thead>\n",
       "  <tbody>\n",
       "    <tr>\n",
       "      <th>530</th>\n",
       "      <td>1</td>\n",
       "      <td>2</td>\n",
       "      <td>female</td>\n",
       "      <td>2.0</td>\n",
       "      <td>26.0000</td>\n",
       "      <td>S</td>\n",
       "      <td>2</td>\n",
       "      <td>0</td>\n",
       "      <td>0</td>\n",
       "      <td>(0.419, 25.0]</td>\n",
       "      <td>0</td>\n",
       "      <td>(14.454, 31.0]</td>\n",
       "      <td>2</td>\n",
       "      <td>2</td>\n",
       "    </tr>\n",
       "    <tr>\n",
       "      <th>829</th>\n",
       "      <td>1</td>\n",
       "      <td>1</td>\n",
       "      <td>female</td>\n",
       "      <td>62.0</td>\n",
       "      <td>80.0000</td>\n",
       "      <td>S</td>\n",
       "      <td>0</td>\n",
       "      <td>1</td>\n",
       "      <td>0</td>\n",
       "      <td>(31.0, 80.0]</td>\n",
       "      <td>2</td>\n",
       "      <td>(31.0, 512.329]</td>\n",
       "      <td>3</td>\n",
       "      <td>2</td>\n",
       "    </tr>\n",
       "    <tr>\n",
       "      <th>338</th>\n",
       "      <td>1</td>\n",
       "      <td>3</td>\n",
       "      <td>male</td>\n",
       "      <td>45.0</td>\n",
       "      <td>8.0500</td>\n",
       "      <td>S</td>\n",
       "      <td>0</td>\n",
       "      <td>0</td>\n",
       "      <td>1</td>\n",
       "      <td>(31.0, 80.0]</td>\n",
       "      <td>2</td>\n",
       "      <td>(7.91, 14.454]</td>\n",
       "      <td>1</td>\n",
       "      <td>2</td>\n",
       "    </tr>\n",
       "    <tr>\n",
       "      <th>428</th>\n",
       "      <td>0</td>\n",
       "      <td>3</td>\n",
       "      <td>male</td>\n",
       "      <td>28.0</td>\n",
       "      <td>7.7500</td>\n",
       "      <td>Q</td>\n",
       "      <td>0</td>\n",
       "      <td>0</td>\n",
       "      <td>1</td>\n",
       "      <td>(25.0, 31.0]</td>\n",
       "      <td>1</td>\n",
       "      <td>(-0.001, 7.91]</td>\n",
       "      <td>0</td>\n",
       "      <td>1</td>\n",
       "    </tr>\n",
       "    <tr>\n",
       "      <th>826</th>\n",
       "      <td>0</td>\n",
       "      <td>3</td>\n",
       "      <td>male</td>\n",
       "      <td>28.0</td>\n",
       "      <td>56.4958</td>\n",
       "      <td>S</td>\n",
       "      <td>0</td>\n",
       "      <td>0</td>\n",
       "      <td>1</td>\n",
       "      <td>(25.0, 31.0]</td>\n",
       "      <td>1</td>\n",
       "      <td>(31.0, 512.329]</td>\n",
       "      <td>3</td>\n",
       "      <td>2</td>\n",
       "    </tr>\n",
       "  </tbody>\n",
       "</table>\n",
       "</div>"
      ],
      "text/plain": [
       "     Survived  Pclass     Sex   Age     Fare Embarked  Family_members  \\\n",
       "530         1       2  female   2.0  26.0000        S               2   \n",
       "829         1       1  female  62.0  80.0000        S               0   \n",
       "338         1       3    male  45.0   8.0500        S               0   \n",
       "428         0       3    male  28.0   7.7500        Q               0   \n",
       "826         0       3    male  28.0  56.4958        S               0   \n",
       "\n",
       "     Cabin_Allotted  Sex_labeled         AgeBin  Age_labeled          FareBin  \\\n",
       "530               0            0  (0.419, 25.0]            0   (14.454, 31.0]   \n",
       "829               1            0   (31.0, 80.0]            2  (31.0, 512.329]   \n",
       "338               0            1   (31.0, 80.0]            2   (7.91, 14.454]   \n",
       "428               0            1   (25.0, 31.0]            1   (-0.001, 7.91]   \n",
       "826               0            1   (25.0, 31.0]            1  (31.0, 512.329]   \n",
       "\n",
       "     Fare_labeled  Embarked_labeled  \n",
       "530             2                 2  \n",
       "829             3                 2  \n",
       "338             1                 2  \n",
       "428             0                 1  \n",
       "826             3                 2  "
      ]
     },
     "execution_count": 12,
     "metadata": {},
     "output_type": "execute_result"
    }
   ],
   "source": [
    "data1.sample(5)"
   ]
  },
  {
   "cell_type": "code",
   "execution_count": 13,
   "metadata": {
    "execution": {
     "iopub.execute_input": "2021-04-09T01:19:35.682697Z",
     "iopub.status.busy": "2021-04-09T01:19:35.681988Z",
     "iopub.status.idle": "2021-04-09T01:19:35.689814Z",
     "shell.execute_reply": "2021-04-09T01:19:35.690325Z"
    },
    "papermill": {
     "duration": 0.038363,
     "end_time": "2021-04-09T01:19:35.690455",
     "exception": false,
     "start_time": "2021-04-09T01:19:35.652092",
     "status": "completed"
    },
    "tags": []
   },
   "outputs": [
    {
     "name": "stdout",
     "output_type": "stream",
     "text": [
      "1    304\n",
      "0    301\n",
      "2    286\n",
      "Name: Age_labeled, dtype: int64\n",
      "1    224\n",
      "0    223\n",
      "3    222\n",
      "2    222\n",
      "Name: Fare_labeled, dtype: int64\n"
     ]
    }
   ],
   "source": [
    "print(data1['Age_labeled'].value_counts())\n",
    "print(data1['Fare_labeled'].value_counts())"
   ]
  },
  {
   "cell_type": "code",
   "execution_count": 14,
   "metadata": {
    "execution": {
     "iopub.execute_input": "2021-04-09T01:19:35.749261Z",
     "iopub.status.busy": "2021-04-09T01:19:35.748489Z",
     "iopub.status.idle": "2021-04-09T01:19:37.737929Z",
     "shell.execute_reply": "2021-04-09T01:19:37.738483Z"
    },
    "papermill": {
     "duration": 2.02042,
     "end_time": "2021-04-09T01:19:37.738619",
     "exception": false,
     "start_time": "2021-04-09T01:19:35.718199",
     "status": "completed"
    },
    "tags": []
   },
   "outputs": [
    {
     "data": {
      "image/png": "[encoded data removed]",
      "text/plain": [
       "<Figure size 432x288 with 1 Axes>"
      ]
     },
     "metadata": {
      "needs_background": "light"
     },
     "output_type": "display_data"
    },
    {
     "data": {
      "image/png": "[encoded data removed]",
      "text/plain": [
       "<Figure size 432x288 with 1 Axes>"
      ]
     },
     "metadata": {
      "needs_background": "light"
     },
     "output_type": "display_data"
    },
    {
     "data": {
      "image/png": "[encoded data removed]",
      "text/plain": [
       "<Figure size 432x288 with 1 Axes>"
      ]
     },
     "metadata": {
      "needs_background": "light"
     },
     "output_type": "display_data"
    },
    {
     "data": {
      "image/png": "[encoded data removed]",
      "text/plain": [
       "<Figure size 432x288 with 1 Axes>"
      ]
     },
     "metadata": {
      "needs_background": "light"
     },
     "output_type": "display_data"
    },
    {
     "data": {
      "image/png": "[encoded data removed]",
      "text/plain": [
       "<Figure size 432x288 with 1 Axes>"
      ]
     },
     "metadata": {
      "needs_background": "light"
     },
     "output_type": "display_data"
    },
    {
     "data": {
      "image/png": "[encoded data removed]",
      "text/plain": [
       "<Figure size 432x288 with 1 Axes>"
      ]
     },
     "metadata": {
      "needs_background": "light"
     },
     "output_type": "display_data"
    },
    {
     "data": {
      "image/png": "[encoded data removed]",
      "text/plain": [
       "<Figure size 432x288 with 1 Axes>"
      ]
     },
     "metadata": {
      "needs_background": "light"
     },
     "output_type": "display_data"
    }
   ],
   "source": [
    "data1_X = [\n",
    "    'Pclass', \n",
    "    'Family_members', \n",
    "    'Cabin_Allotted', \n",
    "    'Sex_labeled', \n",
    "    'Age_labeled', \n",
    "    'Fare_labeled', \n",
    "    'Embarked_labeled'\n",
    "]\n",
    "\n",
    "for i in data1[data1_X].columns:\n",
    "    sns.lineplot(i, 'Survived', data=data1)\n",
    "    plt.show()"
   ]
  },
  {
   "cell_type": "code",
   "execution_count": 15,
   "metadata": {
    "execution": {
     "iopub.execute_input": "2021-04-09T01:19:37.820832Z",
     "iopub.status.busy": "2021-04-09T01:19:37.819959Z",
     "iopub.status.idle": "2021-04-09T01:19:37.823336Z",
     "shell.execute_reply": "2021-04-09T01:19:37.823829Z"
    },
    "papermill": {
     "duration": 0.050422,
     "end_time": "2021-04-09T01:19:37.823962",
     "exception": false,
     "start_time": "2021-04-09T01:19:37.773540",
     "status": "completed"
    },
    "tags": []
   },
   "outputs": [
    {
     "name": "stdout",
     "output_type": "stream",
     "text": [
      "<class 'pandas.core.frame.DataFrame'>\n",
      "RangeIndex: 891 entries, 0 to 890\n",
      "Data columns (total 7 columns):\n",
      " #   Column            Non-Null Count  Dtype\n",
      "---  ------            --------------  -----\n",
      " 0   Pclass            891 non-null    int64\n",
      " 1   Family_members    891 non-null    int64\n",
      " 2   Cabin_Allotted    891 non-null    int64\n",
      " 3   Sex_labeled       891 non-null    int64\n",
      " 4   Age_labeled       891 non-null    int64\n",
      " 5   Fare_labeled      891 non-null    int64\n",
      " 6   Embarked_labeled  891 non-null    int64\n",
      "dtypes: int64(7)\n",
      "memory usage: 48.9 KB\n"
     ]
    }
   ],
   "source": [
    "data1[data1_X].info()"
   ]
  },
  {
   "cell_type": "markdown",
   "metadata": {
    "papermill": {
     "duration": 0.034332,
     "end_time": "2021-04-09T01:19:37.892845",
     "exception": false,
     "start_time": "2021-04-09T01:19:37.858513",
     "status": "completed"
    },
    "tags": []
   },
   "source": [
    "# Models Selection"
   ]
  },
  {
   "cell_type": "code",
   "execution_count": 16,
   "metadata": {
    "execution": {
     "iopub.execute_input": "2021-04-09T01:19:37.976562Z",
     "iopub.status.busy": "2021-04-09T01:19:37.975893Z",
     "iopub.status.idle": "2021-04-09T01:19:47.982014Z",
     "shell.execute_reply": "2021-04-09T01:19:47.982934Z"
    },
    "papermill": {
     "duration": 10.055891,
     "end_time": "2021-04-09T01:19:47.983128",
     "exception": false,
     "start_time": "2021-04-09T01:19:37.927237",
     "status": "completed"
    },
    "tags": []
   },
   "outputs": [
    {
     "data": {
      "text/html": [
       "<style type='text/css'>\n",
       ".datatable table.frame { margin-bottom: 0; }\n",
       ".datatable table.frame thead { border-bottom: none; }\n",
       ".datatable table.frame tr.coltypes td {  color: #FFFFFF;  line-height: 6px;  padding: 0 0.5em;}\n",
       ".datatable .bool    { background: #DDDD99; }\n",
       ".datatable .object  { background: #565656; }\n",
       ".datatable .int     { background: #5D9E5D; }\n",
       ".datatable .float   { background: #4040CC; }\n",
       ".datatable .str     { background: #CC4040; }\n",
       ".datatable .row_index {  background: var(--jp-border-color3);  border-right: 1px solid var(--jp-border-color0);  color: var(--jp-ui-font-color3);  font-size: 9px;}\n",
       ".datatable .frame tr.coltypes .row_index {  background: var(--jp-border-color0);}\n",
       ".datatable th:nth-child(2) { padding-left: 12px; }\n",
       ".datatable .hellipsis {  color: var(--jp-cell-editor-border-color);}\n",
       ".datatable .vellipsis {  background: var(--jp-layout-color0);  color: var(--jp-cell-editor-border-color);}\n",
       ".datatable .na {  color: var(--jp-cell-editor-border-color);  font-size: 80%;}\n",
       ".datatable .footer { font-size: 9px; }\n",
       ".datatable .frame_dimensions {  background: var(--jp-border-color3);  border-top: 1px solid var(--jp-border-color0);  color: var(--jp-ui-font-color3);  display: inline-block;  opacity: 0.6;  padding: 1px 10px 1px 5px;}\n",
       "</style>\n"
      ],
      "text/plain": [
       "<IPython.core.display.HTML object>"
      ]
     },
     "metadata": {},
     "output_type": "display_data"
    },
    {
     "data": {
      "text/html": [
       "<div>\n",
       "<style scoped>\n",
       "    .dataframe tbody tr th:only-of-type {\n",
       "        vertical-align: middle;\n",
       "    }\n",
       "\n",
       "    .dataframe tbody tr th {\n",
       "        vertical-align: top;\n",
       "    }\n",
       "\n",
       "    .dataframe thead th {\n",
       "        text-align: right;\n",
       "    }\n",
       "</style>\n",
       "<table border=\"1\" class=\"dataframe\">\n",
       "  <thead>\n",
       "    <tr style=\"text-align: right;\">\n",
       "      <th></th>\n",
       "      <th>MLA Name</th>\n",
       "      <th>MLA Parameters</th>\n",
       "      <th>MLA Train Accuracy Mean</th>\n",
       "      <th>MLA Test Accuracy Mean</th>\n",
       "      <th>MLA Test Accuracy 3*STD</th>\n",
       "      <th>MLA Time</th>\n",
       "    </tr>\n",
       "  </thead>\n",
       "  <tbody>\n",
       "    <tr>\n",
       "      <th>0</th>\n",
       "      <td>AdaBoostClassifier</td>\n",
       "      <td>{'algorithm': 'SAMME.R', 'base_estimator': Non...</td>\n",
       "      <td>0.815449</td>\n",
       "      <td>0.784358</td>\n",
       "      <td>0.109183</td>\n",
       "      <td>0.0971476</td>\n",
       "    </tr>\n",
       "    <tr>\n",
       "      <th>1</th>\n",
       "      <td>BaggingClassifier</td>\n",
       "      <td>{'base_estimator': None, 'bootstrap': True, 'b...</td>\n",
       "      <td>0.88132</td>\n",
       "      <td>0.77095</td>\n",
       "      <td>0.102221</td>\n",
       "      <td>0.0293482</td>\n",
       "    </tr>\n",
       "    <tr>\n",
       "      <th>2</th>\n",
       "      <td>ExtraTreesClassifier</td>\n",
       "      <td>{'bootstrap': False, 'ccp_alpha': 0.0, 'class_...</td>\n",
       "      <td>0.885534</td>\n",
       "      <td>0.767598</td>\n",
       "      <td>0.0974952</td>\n",
       "      <td>0.159971</td>\n",
       "    </tr>\n",
       "    <tr>\n",
       "      <th>3</th>\n",
       "      <td>GradientBoostingClassifier</td>\n",
       "      <td>{'ccp_alpha': 0.0, 'criterion': 'friedman_mse'...</td>\n",
       "      <td>0.848596</td>\n",
       "      <td>0.779888</td>\n",
       "      <td>0.116646</td>\n",
       "      <td>0.0949418</td>\n",
       "    </tr>\n",
       "    <tr>\n",
       "      <th>4</th>\n",
       "      <td>RandomForestClassifier</td>\n",
       "      <td>{'bootstrap': True, 'ccp_alpha': 0.0, 'class_w...</td>\n",
       "      <td>0.885534</td>\n",
       "      <td>0.765922</td>\n",
       "      <td>0.105587</td>\n",
       "      <td>0.21125</td>\n",
       "    </tr>\n",
       "    <tr>\n",
       "      <th>5</th>\n",
       "      <td>KNeighborsClassifier</td>\n",
       "      <td>{'algorithm': 'auto', 'leaf_size': 30, 'metric...</td>\n",
       "      <td>0.84059</td>\n",
       "      <td>0.764804</td>\n",
       "      <td>0.0849474</td>\n",
       "      <td>0.0032464</td>\n",
       "    </tr>\n",
       "    <tr>\n",
       "      <th>6</th>\n",
       "      <td>DecisionTreeClassifier</td>\n",
       "      <td>{'ccp_alpha': 0.0, 'class_weight': None, 'crit...</td>\n",
       "      <td>0.885534</td>\n",
       "      <td>0.754749</td>\n",
       "      <td>0.0872314</td>\n",
       "      <td>0.00285563</td>\n",
       "    </tr>\n",
       "    <tr>\n",
       "      <th>7</th>\n",
       "      <td>ExtraTreeClassifier</td>\n",
       "      <td>{'ccp_alpha': 0.0, 'class_weight': None, 'crit...</td>\n",
       "      <td>0.885534</td>\n",
       "      <td>0.761453</td>\n",
       "      <td>0.10811</td>\n",
       "      <td>0.00248332</td>\n",
       "    </tr>\n",
       "    <tr>\n",
       "      <th>8</th>\n",
       "      <td>XGBClassifier</td>\n",
       "      <td>{'objective': 'binary:logistic', 'base_score':...</td>\n",
       "      <td>0.883848</td>\n",
       "      <td>0.771508</td>\n",
       "      <td>0.0987121</td>\n",
       "      <td>0.0444166</td>\n",
       "    </tr>\n",
       "    <tr>\n",
       "      <th>9</th>\n",
       "      <td>LGBMClassifier</td>\n",
       "      <td>{'boosting_type': 'gbdt', 'class_weight': None...</td>\n",
       "      <td>0.865309</td>\n",
       "      <td>0.779888</td>\n",
       "      <td>0.116405</td>\n",
       "      <td>0.0461882</td>\n",
       "    </tr>\n",
       "  </tbody>\n",
       "</table>\n",
       "</div>"
      ],
      "text/plain": [
       "                     MLA Name  \\\n",
       "0          AdaBoostClassifier   \n",
       "1           BaggingClassifier   \n",
       "2        ExtraTreesClassifier   \n",
       "3  GradientBoostingClassifier   \n",
       "4      RandomForestClassifier   \n",
       "5        KNeighborsClassifier   \n",
       "6      DecisionTreeClassifier   \n",
       "7         ExtraTreeClassifier   \n",
       "8               XGBClassifier   \n",
       "9              LGBMClassifier   \n",
       "\n",
       "                                      MLA Parameters MLA Train Accuracy Mean  \\\n",
       "0  {'algorithm': 'SAMME.R', 'base_estimator': Non...                0.815449   \n",
       "1  {'base_estimator': None, 'bootstrap': True, 'b...                 0.88132   \n",
       "2  {'bootstrap': False, 'ccp_alpha': 0.0, 'class_...                0.885534   \n",
       "3  {'ccp_alpha': 0.0, 'criterion': 'friedman_mse'...                0.848596   \n",
       "4  {'bootstrap': True, 'ccp_alpha': 0.0, 'class_w...                0.885534   \n",
       "5  {'algorithm': 'auto', 'leaf_size': 30, 'metric...                 0.84059   \n",
       "6  {'ccp_alpha': 0.0, 'class_weight': None, 'crit...                0.885534   \n",
       "7  {'ccp_alpha': 0.0, 'class_weight': None, 'crit...                0.885534   \n",
       "8  {'objective': 'binary:logistic', 'base_score':...                0.883848   \n",
       "9  {'boosting_type': 'gbdt', 'class_weight': None...                0.865309   \n",
       "\n",
       "  MLA Test Accuracy Mean MLA Test Accuracy 3*STD    MLA Time  \n",
       "0               0.784358                0.109183   0.0971476  \n",
       "1                0.77095                0.102221   0.0293482  \n",
       "2               0.767598               0.0974952    0.159971  \n",
       "3               0.779888                0.116646   0.0949418  \n",
       "4               0.765922                0.105587     0.21125  \n",
       "5               0.764804               0.0849474   0.0032464  \n",
       "6               0.754749               0.0872314  0.00285563  \n",
       "7               0.761453                 0.10811  0.00248332  \n",
       "8               0.771508               0.0987121   0.0444166  \n",
       "9               0.779888                0.116405   0.0461882  "
      ]
     },
     "execution_count": 16,
     "metadata": {},
     "output_type": "execute_result"
    }
   ],
   "source": [
    "from sklearn import ensemble, tree, neighbors\n",
    "from xgboost import XGBClassifier\n",
    "from lightgbm import LGBMClassifier\n",
    "from sklearn import model_selection\n",
    "\n",
    "MLA = [\n",
    "    ensemble.AdaBoostClassifier(),\n",
    "    ensemble.BaggingClassifier(),\n",
    "    ensemble.ExtraTreesClassifier(),\n",
    "    ensemble.GradientBoostingClassifier(),\n",
    "    ensemble.RandomForestClassifier(),\n",
    "\n",
    "    neighbors.KNeighborsClassifier(), \n",
    "\n",
    "    tree.DecisionTreeClassifier(),\n",
    "    tree.ExtraTreeClassifier(), \n",
    "\n",
    "    XGBClassifier(objective='binary:logistic', eval_metric='logloss'),\n",
    "    LGBMClassifier()\n",
    "]\n",
    "\n",
    "cv_split = model_selection.ShuffleSplit(n_splits=10, test_size=.2, train_size=.8, random_state=1)\n",
    "\n",
    "MLA_columns = ['MLA Name', 'MLA Parameters', 'MLA Train Accuracy Mean', 'MLA Test Accuracy Mean', 'MLA Test Accuracy 3*STD', 'MLA Time']\n",
    "MLA_compare = pd.DataFrame(columns = MLA_columns)\n",
    "\n",
    "row_index = 0\n",
    "for alg in MLA:\n",
    "    MLA_name = alg.__class__.__name__\n",
    "    MLA_compare.loc[row_index, 'MLA Name'] = MLA_name\n",
    "    MLA_compare.loc[row_index, 'MLA Parameters'] = str(alg.get_params())\n",
    "\n",
    "    cv_results = model_selection.cross_validate(alg, data1[data1_X], data1[Target].values.reshape(-1,), cv=cv_split, return_train_score=True)\n",
    "\n",
    "    MLA_compare.loc[row_index, 'MLA Time'] = cv_results['fit_time'].mean()\n",
    "    MLA_compare.loc[row_index, 'MLA Train Accuracy Mean'] = cv_results['train_score'].mean()\n",
    "    MLA_compare.loc[row_index, 'MLA Test Accuracy Mean'] = cv_results['test_score'].mean() \n",
    "    MLA_compare.loc[row_index, 'MLA Test Accuracy 3*STD'] = cv_results['test_score'].std()*3\n",
    "\n",
    "    row_index += 1\n",
    "\n",
    "# MLA_compare.sort_values(by=['MLA Test Accuracy Mean'], ascending=False, inplace=True)\n",
    "MLA_compare"
   ]
  },
  {
   "cell_type": "markdown",
   "metadata": {
    "papermill": {
     "duration": 0.065889,
     "end_time": "2021-04-09T01:19:48.096509",
     "exception": false,
     "start_time": "2021-04-09T01:19:48.030620",
     "status": "completed"
    },
    "tags": []
   },
   "source": [
    "# Combine Tuning with Models Selection"
   ]
  },
  {
   "cell_type": "code",
   "execution_count": 17,
   "metadata": {
    "execution": {
     "iopub.execute_input": "2021-04-09T01:19:48.208792Z",
     "iopub.status.busy": "2021-04-09T01:19:48.203528Z",
     "iopub.status.idle": "2021-04-09T07:02:36.093589Z",
     "shell.execute_reply": "2021-04-09T07:02:36.092889Z"
    },
    "papermill": {
     "duration": 20567.950277,
     "end_time": "2021-04-09T07:02:36.093741",
     "exception": false,
     "start_time": "2021-04-09T01:19:48.143464",
     "status": "completed"
    },
    "tags": []
   },
   "outputs": [
    {
     "name": "stdout",
     "output_type": "stream",
     "text": [
      "The best parameter for AdaBoostClassifier is {'learning_rate': 0.1, 'n_estimators': 100, 'random_state': 1} with a runtime of 55.69 seconds.\n",
      "------------------------------------------------------------\n",
      "The best parameter for BaggingClassifier is {'max_samples': 0.1, 'n_estimators': 300, 'random_state': 1} with a runtime of 67.82 seconds.\n",
      "------------------------------------------------------------\n",
      "The best parameter for ExtraTreesClassifier is {'criterion': 'entropy', 'max_depth': 5, 'n_estimators': 100, 'random_state': 1} with a runtime of 163.31 seconds.\n",
      "------------------------------------------------------------\n",
      "The best parameter for GradientBoostingClassifier is {'learning_rate': 0.25, 'max_depth': 3, 'n_estimators': 50, 'random_state': 1} with a runtime of 742.69 seconds.\n",
      "------------------------------------------------------------\n",
      "The best parameter for RandomForestClassifier is {'criterion': 'entropy', 'max_depth': 5, 'n_estimators': 50, 'random_state': 1} with a runtime of 203.37 seconds.\n",
      "------------------------------------------------------------\n",
      "The best parameter for KNeighborsClassifier is {'algorithm': 'brute', 'n_neighbors': 10, 'weights': 'uniform'} with a runtime of 13.23 seconds.\n",
      "------------------------------------------------------------\n",
      "The best parameter for DecisionTreeClassifier is {'criterion': 'gini', 'max_depth': 4, 'random_state': 1} with a runtime of 2.00 seconds.\n",
      "------------------------------------------------------------\n",
      "The best parameter for ExtraTreeClassifier is {'criterion': 'entropy', 'max_depth': 6, 'random_state': 1} with a runtime of 1.97 seconds.\n",
      "------------------------------------------------------------\n",
      "The best parameter for XGBClassifier is {'eval_metric': 'logloss', 'learning_rate': 0.25, 'max_depth': 5, 'n_estimators': 10, 'objective': 'binary:logistic', 'seed': 1} with a runtime of 99.31 seconds.\n",
      "------------------------------------------------------------\n",
      "The best parameter for LGBMClassifier is {'colsample_bytree': 0.8, 'learning_rate': 0.01, 'max_depth': 4, 'n_estimators': 1000, 'num_leaves': 15, 'subsample': 0.6} with a runtime of 19218.39 seconds.\n",
      "------------------------------------------------------------\n",
      "------------------------------------------------------------\n",
      "Total optimization time was 342.80 minutes.\n",
      "------------------------------------------------------------\n"
     ]
    },
    {
     "data": {
      "text/html": [
       "<div>\n",
       "<style scoped>\n",
       "    .dataframe tbody tr th:only-of-type {\n",
       "        vertical-align: middle;\n",
       "    }\n",
       "\n",
       "    .dataframe tbody tr th {\n",
       "        vertical-align: top;\n",
       "    }\n",
       "\n",
       "    .dataframe thead th {\n",
       "        text-align: right;\n",
       "    }\n",
       "</style>\n",
       "<table border=\"1\" class=\"dataframe\">\n",
       "  <thead>\n",
       "    <tr style=\"text-align: right;\">\n",
       "      <th></th>\n",
       "      <th>MLA Name</th>\n",
       "      <th>MLA Parameters</th>\n",
       "      <th>MLA Train Accuracy Mean</th>\n",
       "      <th>MLA Test Accuracy Mean</th>\n",
       "      <th>MLA Test Accuracy 3*STD</th>\n",
       "      <th>MLA Time</th>\n",
       "    </tr>\n",
       "  </thead>\n",
       "  <tbody>\n",
       "    <tr>\n",
       "      <th>8</th>\n",
       "      <td>XGBClassifier</td>\n",
       "      <td>{'objective': 'binary:logistic', 'base_score':...</td>\n",
       "      <td>0.8997</td>\n",
       "      <td>0.838522</td>\n",
       "      <td>0.0442204</td>\n",
       "      <td>0.0452596</td>\n",
       "    </tr>\n",
       "    <tr>\n",
       "      <th>9</th>\n",
       "      <td>LGBMClassifier</td>\n",
       "      <td>{'boosting_type': 'gbdt', 'class_weight': None...</td>\n",
       "      <td>0.934999</td>\n",
       "      <td>0.837812</td>\n",
       "      <td>0.0277973</td>\n",
       "      <td>0.572631</td>\n",
       "    </tr>\n",
       "    <tr>\n",
       "      <th>4</th>\n",
       "      <td>RandomForestClassifier</td>\n",
       "      <td>{'bootstrap': True, 'ccp_alpha': 0.0, 'class_w...</td>\n",
       "      <td>0.896478</td>\n",
       "      <td>0.837186</td>\n",
       "      <td>0.030514</td>\n",
       "      <td>0.244112</td>\n",
       "    </tr>\n",
       "    <tr>\n",
       "      <th>1</th>\n",
       "      <td>BaggingClassifier</td>\n",
       "      <td>{'base_estimator': None, 'bootstrap': True, 'b...</td>\n",
       "      <td>0.928761</td>\n",
       "      <td>0.828722</td>\n",
       "      <td>0.0293272</td>\n",
       "      <td>0.292181</td>\n",
       "    </tr>\n",
       "    <tr>\n",
       "      <th>2</th>\n",
       "      <td>ExtraTreesClassifier</td>\n",
       "      <td>{'bootstrap': False, 'ccp_alpha': 0.0, 'class_...</td>\n",
       "      <td>0.895928</td>\n",
       "      <td>0.828266</td>\n",
       "      <td>0.0583896</td>\n",
       "      <td>0.167359</td>\n",
       "    </tr>\n",
       "    <tr>\n",
       "      <th>0</th>\n",
       "      <td>AdaBoostClassifier</td>\n",
       "      <td>{'algorithm': 'SAMME.R', 'base_estimator': Non...</td>\n",
       "      <td>0.840125</td>\n",
       "      <td>0.821736</td>\n",
       "      <td>0.0935622</td>\n",
       "      <td>0.222489</td>\n",
       "    </tr>\n",
       "    <tr>\n",
       "      <th>3</th>\n",
       "      <td>GradientBoostingClassifier</td>\n",
       "      <td>{'ccp_alpha': 0.0, 'criterion': 'friedman_mse'...</td>\n",
       "      <td>0.919527</td>\n",
       "      <td>0.819258</td>\n",
       "      <td>0.0828352</td>\n",
       "      <td>0.359524</td>\n",
       "    </tr>\n",
       "    <tr>\n",
       "      <th>6</th>\n",
       "      <td>DecisionTreeClassifier</td>\n",
       "      <td>{'ccp_alpha': 0.0, 'class_weight': None, 'crit...</td>\n",
       "      <td>0.892295</td>\n",
       "      <td>0.81015</td>\n",
       "      <td>0.0884831</td>\n",
       "      <td>0.00337161</td>\n",
       "    </tr>\n",
       "    <tr>\n",
       "      <th>5</th>\n",
       "      <td>KNeighborsClassifier</td>\n",
       "      <td>{'algorithm': 'brute', 'leaf_size': 30, 'metri...</td>\n",
       "      <td>0.907294</td>\n",
       "      <td>0.790696</td>\n",
       "      <td>0.0905365</td>\n",
       "      <td>0.00295559</td>\n",
       "    </tr>\n",
       "    <tr>\n",
       "      <th>7</th>\n",
       "      <td>ExtraTreeClassifier</td>\n",
       "      <td>{'ccp_alpha': 0.0, 'class_weight': None, 'crit...</td>\n",
       "      <td>0.825607</td>\n",
       "      <td>0.759394</td>\n",
       "      <td>0.206249</td>\n",
       "      <td>0.00321792</td>\n",
       "    </tr>\n",
       "  </tbody>\n",
       "</table>\n",
       "</div>"
      ],
      "text/plain": [
       "                     MLA Name  \\\n",
       "8               XGBClassifier   \n",
       "9              LGBMClassifier   \n",
       "4      RandomForestClassifier   \n",
       "1           BaggingClassifier   \n",
       "2        ExtraTreesClassifier   \n",
       "0          AdaBoostClassifier   \n",
       "3  GradientBoostingClassifier   \n",
       "6      DecisionTreeClassifier   \n",
       "5        KNeighborsClassifier   \n",
       "7         ExtraTreeClassifier   \n",
       "\n",
       "                                      MLA Parameters MLA Train Accuracy Mean  \\\n",
       "8  {'objective': 'binary:logistic', 'base_score':...                  0.8997   \n",
       "9  {'boosting_type': 'gbdt', 'class_weight': None...                0.934999   \n",
       "4  {'bootstrap': True, 'ccp_alpha': 0.0, 'class_w...                0.896478   \n",
       "1  {'base_estimator': None, 'bootstrap': True, 'b...                0.928761   \n",
       "2  {'bootstrap': False, 'ccp_alpha': 0.0, 'class_...                0.895928   \n",
       "0  {'algorithm': 'SAMME.R', 'base_estimator': Non...                0.840125   \n",
       "3  {'ccp_alpha': 0.0, 'criterion': 'friedman_mse'...                0.919527   \n",
       "6  {'ccp_alpha': 0.0, 'class_weight': None, 'crit...                0.892295   \n",
       "5  {'algorithm': 'brute', 'leaf_size': 30, 'metri...                0.907294   \n",
       "7  {'ccp_alpha': 0.0, 'class_weight': None, 'crit...                0.825607   \n",
       "\n",
       "  MLA Test Accuracy Mean MLA Test Accuracy 3*STD    MLA Time  \n",
       "8               0.838522               0.0442204   0.0452596  \n",
       "9               0.837812               0.0277973    0.572631  \n",
       "4               0.837186                0.030514    0.244112  \n",
       "1               0.828722               0.0293272    0.292181  \n",
       "2               0.828266               0.0583896    0.167359  \n",
       "0               0.821736               0.0935622    0.222489  \n",
       "3               0.819258               0.0828352    0.359524  \n",
       "6                0.81015               0.0884831  0.00337161  \n",
       "5               0.790696               0.0905365  0.00295559  \n",
       "7               0.759394                0.206249  0.00321792  "
      ]
     },
     "execution_count": 17,
     "metadata": {},
     "output_type": "execute_result"
    }
   ],
   "source": [
    "import time\n",
    "\n",
    "grid_n_estimator = [10, 50, 100, 300]\n",
    "grid_ratio = [.1, .25, .5, .75, 1.0]\n",
    "grid_learn = [.01, .03, .05, .1, .25]\n",
    "grid_max_depth = [1, 2, 3, 4, 5, 6, 7, 8, 10, None]\n",
    "grid_min_samples = [5, 10, .03, .05, .10]\n",
    "grid_criterion = ['gini', 'entropy']\n",
    "# grid_bool = [True, False]\n",
    "grid_seed = [1]\n",
    "\n",
    "grid_param = [\n",
    "    [{\n",
    "        # Ada\n",
    "        'learning_rate': grid_learn, \n",
    "        'n_estimators': grid_n_estimator, \n",
    "        'random_state': grid_seed\n",
    "    }], \n",
    "    [{\n",
    "        # Bagging\n",
    "        'max_samples': grid_ratio, \n",
    "        'n_estimators': grid_n_estimator, \n",
    "        'random_state': grid_seed\n",
    "    }],\n",
    "    [{\n",
    "        # e.ExtraTrees\n",
    "        'n_estimators': grid_n_estimator, \n",
    "        'criterion': grid_criterion, \n",
    "        'max_depth': grid_max_depth, \n",
    "        'random_state': grid_seed\n",
    "    }],\n",
    "    [{\n",
    "        # GBC\n",
    "        'learning_rate': grid_learn,\n",
    "        'n_estimators': grid_n_estimator,\n",
    "        'max_depth': grid_max_depth,\n",
    "        'random_state': grid_seed\n",
    "    }], \n",
    "    [{\n",
    "        # RandomForestClassifier\n",
    "        'n_estimators': grid_n_estimator,\n",
    "        'criterion': grid_criterion, \n",
    "        'max_depth': grid_max_depth[:-1], \n",
    "        'random_state': grid_seed, \n",
    "        # 'oob_score': grid_bool\n",
    "        # otherwise there will ba an error:\n",
    "        # UserWarning: Some inputs do not have OOB scores. This probably means too few trees were used to compute any reliable oob estimates.\n",
    "    }], \n",
    "    [{\n",
    "        # KN\n",
    "        'n_neighbors': grid_max_depth[:-1], \n",
    "        # Otherwise, there will be a TypeError: '>' not supported between instances of 'NoneType' and 'int', because of [None].\n",
    "        # the others are likewise\n",
    "        'weights': ['uniform', 'distance'], \n",
    "        'algorithm': ['auto', 'ball_tree', 'kd_tree', 'brute']\n",
    "    }], \n",
    "    [{\n",
    "        # DTC\n",
    "        'criterion': grid_criterion, \n",
    "        'max_depth': grid_max_depth, \n",
    "        'random_state': grid_seed, \n",
    "    }], \n",
    "    [{\n",
    "        # t.ExtraTree\n",
    "        'criterion': grid_criterion, \n",
    "        'max_depth': grid_max_depth, \n",
    "        'random_state': grid_seed, \n",
    "    }],\n",
    "    [{\n",
    "        # XGB\n",
    "        'learning_rate': grid_learn,\n",
    "        'max_depth': grid_max_depth[:-1],\n",
    "        'n_estimators': grid_n_estimator, \n",
    "        'seed': grid_seed, \n",
    "        'objective': ['binary:logistic'], \n",
    "        'eval_metric': ['logloss']     \n",
    "    }],\n",
    "    [{\n",
    "        # LGBM\n",
    "        'n_estimators': [1000, 1500, 2000, 2500],\n",
    "        'max_depth':  [4, 5, 11, -1], # [4, 5, 8, 11, -1]\n",
    "        'num_leaves': [15, 31, 58, 127], # [15, 31, 58, 63, 127]\n",
    "        'subsample': [0.6, 0.708, 0.8, 1.0], # [0.6, 0.7, 0.708, 0.8, 1.0]\n",
    "        'colsample_bytree': [0.613, 0.7, 0.8, 1.0], # [0.6, 0.613, 0.7, 0.8, 1.0]\n",
    "        'learning_rate' : [0.01, 0.02, 0.03]\n",
    "    }]\n",
    "]\n",
    "\n",
    "row_index = 0\n",
    "\n",
    "start_total = time.perf_counter()\n",
    "\n",
    "for clf, param in zip(MLA, grid_param):\n",
    "    # tuning_____________________________________________________\n",
    "    start = time.perf_counter()\n",
    "    \n",
    "    best_search = model_selection.GridSearchCV(estimator = clf, \n",
    "                                               param_grid = param, \n",
    "                                               cv = cv_split, \n",
    "                                               scoring = 'roc_auc', \n",
    "                                               return_train_score = True)\n",
    "    best_search.fit(data1[data1_X], data1[Target].values.reshape(-1,))\n",
    "    \n",
    "    run = time.perf_counter() - start\n",
    "\n",
    "    best_param = best_search.best_params_\n",
    "    print(f'The best parameter for {clf.__class__.__name__} is {best_param} with a runtime of {run:.2f} seconds.')\n",
    "    print('-'*60)\n",
    "    clf.set_params(**best_param)\n",
    "\n",
    "    # cross validating____________________________________________\n",
    "    MLA_name = clf.__class__.__name__\n",
    "    MLA_compare.loc[row_index, 'MLA Name'] = MLA_name\n",
    "    MLA_compare.loc[row_index, 'MLA Parameters'] = str(clf.get_params())\n",
    "    \n",
    "    # https://scikit-learn.org/stable/modules/generated/sklearn.model_selection.GridSearchCV.html\n",
    "    MLA_compare.loc[row_index, 'MLA Time'] = np.asarray(best_search.cv_results_['mean_fit_time']).mean()\n",
    "    MLA_compare.loc[row_index, 'MLA Train Accuracy Mean'] = np.asarray(best_search.cv_results_['mean_train_score']).mean()\n",
    "    MLA_compare.loc[row_index, 'MLA Test Accuracy Mean'] = np.asarray(best_search.cv_results_['mean_test_score']).mean() \n",
    "    MLA_compare.loc[row_index, 'MLA Test Accuracy 3*STD'] = np.asarray(best_search.cv_results_['mean_test_score']).std()*3\n",
    "\n",
    "    row_index += 1\n",
    "\n",
    "run_total = time.perf_counter() - start_total\n",
    "\n",
    "print('-'*60)\n",
    "print(f'Total optimization time was {run_total / 60:.2f} minutes.')\n",
    "print('-'*60)\n",
    "\n",
    "MLA_compare.sort_values(by=['MLA Test Accuracy Mean'], ascending=False, inplace=True)\n",
    "MLA_compare"
   ]
  },
  {
   "cell_type": "markdown",
   "metadata": {
    "papermill": {
     "duration": 0.047395,
     "end_time": "2021-04-09T07:02:36.193603",
     "exception": false,
     "start_time": "2021-04-09T07:02:36.146208",
     "status": "completed"
    },
    "tags": []
   },
   "source": [
    "# Submit"
   ]
  },
  {
   "cell_type": "code",
   "execution_count": 18,
   "metadata": {
    "execution": {
     "iopub.execute_input": "2021-04-09T07:02:36.289171Z",
     "iopub.status.busy": "2021-04-09T07:02:36.285263Z",
     "iopub.status.idle": "2021-04-09T07:02:36.842336Z",
     "shell.execute_reply": "2021-04-09T07:02:36.841742Z"
    },
    "papermill": {
     "duration": 0.608181,
     "end_time": "2021-04-09T07:02:36.842460",
     "exception": false,
     "start_time": "2021-04-09T07:02:36.234279",
     "status": "completed"
    },
    "tags": []
   },
   "outputs": [
    {
     "name": "stdout",
     "output_type": "stream",
     "text": [
      "Your submission was successfully saved!\n"
     ]
    }
   ],
   "source": [
    "model = LGBMClassifier(**{'colsample_bytree': 0.8, 'learning_rate': 0.01, 'max_depth': 4, 'n_estimators': 1000, 'num_leaves': 15, 'subsample': 0.6})\n",
    "model.fit(data1[data1_X], data1[Target].values.reshape(-1, ))\n",
    "predictions = model.predict(data_val[data1_X])\n",
    "\n",
    "output = pd.DataFrame({'PassengerId': data_val.PassengerId, 'Survived': predictions})\n",
    "output.to_csv('./my_submission_RandomForestClassifier_tunned_F4.csv', index=False)\n",
    "print(\"Your submission was successfully saved!\")"
   ]
  },
  {
   "cell_type": "markdown",
   "metadata": {
    "papermill": {
     "duration": 0.04045,
     "end_time": "2021-04-09T07:02:36.924820",
     "exception": false,
     "start_time": "2021-04-09T07:02:36.884370",
     "status": "completed"
    },
    "tags": []
   },
   "source": [
    "# Next: Synthanic Titanic\n",
    "\n",
    "Tabular Playground Series - Apr 2021\n",
    "\n",
    "The dataset is used for this competition is synthetic but based on a real dataset (in this case, the actual [Titanic data](https://www.kaggle.com/c/titanic/data)!) and generated using a CTGAN. The statistical properties of this dataset are very similar to the original Titanic dataset, but there's no way to \"cheat\" by using public labels for predictions. How well does your model perform on truly private test labels?\n",
    "\n",
    "Good luck and have fun!\n",
    "\n",
    "You can start from [here](https://www.kaggle.com/chienhsianghung/tps-apr-starter-pack-all-models)."
   ]
  },
  {
   "cell_type": "markdown",
   "metadata": {
    "papermill": {
     "duration": 0.040588,
     "end_time": "2021-04-09T07:02:37.006158",
     "exception": false,
     "start_time": "2021-04-09T07:02:36.965570",
     "status": "completed"
    },
    "tags": []
   },
   "source": [
    "# References\n",
    "* [A Data Science Framework: To Achieve 99% Accuracy](https://www.kaggle.com/ldfreeman3/a-data-science-framework-to-achieve-99-accuracy)\n",
    "* [MY FIRST KAGGLE WORK TITANIC](https://www.kaggle.com/saptarshisit/my-first-kaggle-work-titanic)"
   ]
  }
 ],
 "metadata": {
  "kernelspec": {
   "display_name": "Python 3",
   "language": "python",
   "name": "python3"
  },
  "language_info": {
   "codemirror_mode": {
    "name": "ipython",
    "version": 3
   },
   "file_extension": ".py",
   "mimetype": "text/x-python",
   "name": "python",
   "nbconvert_exporter": "python",
   "pygments_lexer": "ipython3",
   "version": "3.7.6"
  },
  "papermill": {
   "duration": 20594.158744,
   "end_time": "2021-04-09T07:02:37.156809",
   "environment_variables": {},
   "exception": null,
   "input_path": "__notebook__.ipynb",
   "output_path": "__notebook__.ipynb",
   "parameters": {},
   "start_time": "2021-04-09T01:19:22.998065",
   "version": "2.1.0"
  }
 },
 "nbformat": 4,
 "nbformat_minor": 4
}
