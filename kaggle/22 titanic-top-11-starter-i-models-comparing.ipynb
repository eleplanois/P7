{
 "cells": [
  {
   "cell_type": "markdown",
   "metadata": {
    "papermill": {
     "duration": 0.017374,
     "end_time": "2021-04-06T06:24:43.783501",
     "exception": false,
     "start_time": "2021-04-06T06:24:43.766127",
     "status": "completed"
    },
    "tags": []
   },
   "source": [
    "# Define the Problem\n",
    "\n",
    "For this project, the problem statement is given to us on a golden plater, develop an algorithm to predict the survival outcome of passengers on the Titanic.\n",
    "In this challenge, we ask you to complete the analysis of what sorts of people were likely to survive. In particular, we ask you to apply the tools of machine learning to predict which passengers survived the tragedy. <br>\n",
    "- Tools\n",
    "    - It's a classic **Binary classification**. \n",
    "- Data\n",
    "    - The dataset is given to us on a golden plater with test and train data at Kaggle's Titanic: Machine Learning from Disaster"
   ]
  },
  {
   "cell_type": "markdown",
   "metadata": {
    "papermill": {
     "duration": 0.015942,
     "end_time": "2021-04-06T06:24:43.816876",
     "exception": false,
     "start_time": "2021-04-06T06:24:43.800934",
     "status": "completed"
    },
    "tags": []
   },
   "source": [
    "# Data Preprocessing"
   ]
  },
  {
   "cell_type": "code",
   "execution_count": 1,
   "metadata": {
    "_cell_guid": "b1076dfc-b9ad-4769-8c92-a6c4dae69d19",
    "_uuid": "8f2839f25d086af736a60e9eeb907d3b93b6e0e5",
    "execution": {
     "iopub.execute_input": "2021-04-06T06:24:43.858094Z",
     "iopub.status.busy": "2021-04-06T06:24:43.857252Z",
     "iopub.status.idle": "2021-04-06T06:24:43.861806Z",
     "shell.execute_reply": "2021-04-06T06:24:43.862497Z"
    },
    "papermill": {
     "duration": 0.029302,
     "end_time": "2021-04-06T06:24:43.862695",
     "exception": false,
     "start_time": "2021-04-06T06:24:43.833393",
     "status": "completed"
    },
    "tags": []
   },
   "outputs": [
    {
     "name": "stdout",
     "output_type": "stream",
     "text": [
      "/kaggle/input/titanic/train.csv\n",
      "/kaggle/input/titanic/test.csv\n",
      "/kaggle/input/titanic/gender_submission.csv\n"
     ]
    }
   ],
   "source": [
    "# This Python 3 environment comes with many helpful analytics libraries installed\n",
    "# It is defined by the kaggle/python Docker image: https://github.com/kaggle/docker-python\n",
    "# For example, here's several helpful packages to load\n",
    "\n",
    "import numpy as np # linear algebra\n",
    "import pandas as pd # data processing, CSV file I/O (e.g. pd.read_csv)\n",
    "\n",
    "# Input data files are available in the read-only \"../input/\" directory\n",
    "# For example, running this (by clicking run or pressing Shift+Enter) will list all files under the input directory\n",
    "\n",
    "import os\n",
    "for dirname, _, filenames in os.walk('/kaggle/input'):\n",
    "    for filename in filenames:\n",
    "        print(os.path.join(dirname, filename))\n",
    "\n",
    "# You can write up to 20GB to the current directory (/kaggle/working/) that gets preserved as output when you create a version using \"Save & Run All\" \n",
    "# You can also write temporary files to /kaggle/temp/, but they won't be saved outside of the current session"
   ]
  },
  {
   "cell_type": "code",
   "execution_count": 2,
   "metadata": {
    "_cell_guid": "79c7e3d0-c299-4dcb-8224-4455121ee9b0",
    "_uuid": "d629ff2d2480ee46fbb7e2d37f6b5fab8052498a",
    "execution": {
     "iopub.execute_input": "2021-04-06T06:24:43.902886Z",
     "iopub.status.busy": "2021-04-06T06:24:43.902145Z",
     "iopub.status.idle": "2021-04-06T06:24:43.938266Z",
     "shell.execute_reply": "2021-04-06T06:24:43.937299Z"
    },
    "papermill": {
     "duration": 0.056861,
     "end_time": "2021-04-06T06:24:43.938422",
     "exception": false,
     "start_time": "2021-04-06T06:24:43.881561",
     "status": "completed"
    },
    "tags": []
   },
   "outputs": [],
   "source": [
    "data_raw = pd.read_csv('../input/titanic/train.csv')\n",
    "data_val = pd.read_csv('../input/titanic/test.csv')\n",
    "data1 = data_raw.copy(deep=True)\n",
    "data_cleaner = [data1, data_val]\n",
    "\n",
    "Target = ['Survived']"
   ]
  },
  {
   "cell_type": "code",
   "execution_count": 3,
   "metadata": {
    "execution": {
     "iopub.execute_input": "2021-04-06T06:24:43.982899Z",
     "iopub.status.busy": "2021-04-06T06:24:43.982178Z",
     "iopub.status.idle": "2021-04-06T06:24:44.101054Z",
     "shell.execute_reply": "2021-04-06T06:24:44.101671Z"
    },
    "papermill": {
     "duration": 0.146572,
     "end_time": "2021-04-06T06:24:44.101859",
     "exception": false,
     "start_time": "2021-04-06T06:24:43.955287",
     "status": "completed"
    },
    "tags": []
   },
   "outputs": [
    {
     "name": "stdout",
     "output_type": "stream",
     "text": [
      "<class 'pandas.core.frame.DataFrame'>\n",
      "RangeIndex: 891 entries, 0 to 890\n",
      "Data columns (total 12 columns):\n",
      " #   Column       Non-Null Count  Dtype  \n",
      "---  ------       --------------  -----  \n",
      " 0   PassengerId  891 non-null    int64  \n",
      " 1   Survived     891 non-null    int64  \n",
      " 2   Pclass       891 non-null    int64  \n",
      " 3   Name         891 non-null    object \n",
      " 4   Sex          891 non-null    object \n",
      " 5   Age          714 non-null    float64\n",
      " 6   SibSp        891 non-null    int64  \n",
      " 7   Parch        891 non-null    int64  \n",
      " 8   Ticket       891 non-null    object \n",
      " 9   Fare         891 non-null    float64\n",
      " 10  Cabin        204 non-null    object \n",
      " 11  Embarked     889 non-null    object \n",
      "dtypes: float64(2), int64(5), object(5)\n",
      "memory usage: 83.7+ KB\n",
      "None\n",
      "        PassengerId    Survived      Pclass                      Name   Sex  \\\n",
      "count    891.000000  891.000000  891.000000                       891   891   \n",
      "unique          NaN         NaN         NaN                       891     2   \n",
      "top             NaN         NaN         NaN  Larsson, Mr. Bengt Edvin  male   \n",
      "freq            NaN         NaN         NaN                         1   577   \n",
      "mean     446.000000    0.383838    2.308642                       NaN   NaN   \n",
      "std      257.353842    0.486592    0.836071                       NaN   NaN   \n",
      "min        1.000000    0.000000    1.000000                       NaN   NaN   \n",
      "25%      223.500000    0.000000    2.000000                       NaN   NaN   \n",
      "50%      446.000000    0.000000    3.000000                       NaN   NaN   \n",
      "75%      668.500000    1.000000    3.000000                       NaN   NaN   \n",
      "max      891.000000    1.000000    3.000000                       NaN   NaN   \n",
      "\n",
      "               Age       SibSp       Parch    Ticket        Fare    Cabin  \\\n",
      "count   714.000000  891.000000  891.000000       891  891.000000      204   \n",
      "unique         NaN         NaN         NaN       681         NaN      147   \n",
      "top            NaN         NaN         NaN  CA. 2343         NaN  B96 B98   \n",
      "freq           NaN         NaN         NaN         7         NaN        4   \n",
      "mean     29.699118    0.523008    0.381594       NaN   32.204208      NaN   \n",
      "std      14.526497    1.102743    0.806057       NaN   49.693429      NaN   \n",
      "min       0.420000    0.000000    0.000000       NaN    0.000000      NaN   \n",
      "25%      20.125000    0.000000    0.000000       NaN    7.910400      NaN   \n",
      "50%      28.000000    0.000000    0.000000       NaN   14.454200      NaN   \n",
      "75%      38.000000    1.000000    0.000000       NaN   31.000000      NaN   \n",
      "max      80.000000    8.000000    6.000000       NaN  512.329200      NaN   \n",
      "\n",
      "       Embarked  \n",
      "count       889  \n",
      "unique        3  \n",
      "top           S  \n",
      "freq        644  \n",
      "mean        NaN  \n",
      "std         NaN  \n",
      "min         NaN  \n",
      "25%         NaN  \n",
      "50%         NaN  \n",
      "75%         NaN  \n",
      "max         NaN  \n",
      "<class 'pandas.core.frame.DataFrame'>\n",
      "RangeIndex: 418 entries, 0 to 417\n",
      "Data columns (total 11 columns):\n",
      " #   Column       Non-Null Count  Dtype  \n",
      "---  ------       --------------  -----  \n",
      " 0   PassengerId  418 non-null    int64  \n",
      " 1   Pclass       418 non-null    int64  \n",
      " 2   Name         418 non-null    object \n",
      " 3   Sex          418 non-null    object \n",
      " 4   Age          332 non-null    float64\n",
      " 5   SibSp        418 non-null    int64  \n",
      " 6   Parch        418 non-null    int64  \n",
      " 7   Ticket       418 non-null    object \n",
      " 8   Fare         417 non-null    float64\n",
      " 9   Cabin        91 non-null     object \n",
      " 10  Embarked     418 non-null    object \n",
      "dtypes: float64(2), int64(4), object(5)\n",
      "memory usage: 36.0+ KB\n",
      "None\n",
      "        PassengerId      Pclass                         Name   Sex  \\\n",
      "count    418.000000  418.000000                          418   418   \n",
      "unique          NaN         NaN                          418     2   \n",
      "top             NaN         NaN  Phillips, Mr. Escott Robert  male   \n",
      "freq            NaN         NaN                            1   266   \n",
      "mean    1100.500000    2.265550                          NaN   NaN   \n",
      "std      120.810458    0.841838                          NaN   NaN   \n",
      "min      892.000000    1.000000                          NaN   NaN   \n",
      "25%      996.250000    1.000000                          NaN   NaN   \n",
      "50%     1100.500000    3.000000                          NaN   NaN   \n",
      "75%     1204.750000    3.000000                          NaN   NaN   \n",
      "max     1309.000000    3.000000                          NaN   NaN   \n",
      "\n",
      "               Age       SibSp       Parch    Ticket        Fare  \\\n",
      "count   332.000000  418.000000  418.000000       418  417.000000   \n",
      "unique         NaN         NaN         NaN       363         NaN   \n",
      "top            NaN         NaN         NaN  PC 17608         NaN   \n",
      "freq           NaN         NaN         NaN         5         NaN   \n",
      "mean     30.272590    0.447368    0.392344       NaN   35.627188   \n",
      "std      14.181209    0.896760    0.981429       NaN   55.907576   \n",
      "min       0.170000    0.000000    0.000000       NaN    0.000000   \n",
      "25%      21.000000    0.000000    0.000000       NaN    7.895800   \n",
      "50%      27.000000    0.000000    0.000000       NaN   14.454200   \n",
      "75%      39.000000    1.000000    0.000000       NaN   31.500000   \n",
      "max      76.000000    8.000000    9.000000       NaN  512.329200   \n",
      "\n",
      "                  Cabin Embarked  \n",
      "count                91      418  \n",
      "unique               76        3  \n",
      "top     B57 B59 B63 B66        S  \n",
      "freq                  3      270  \n",
      "mean                NaN      NaN  \n",
      "std                 NaN      NaN  \n",
      "min                 NaN      NaN  \n",
      "25%                 NaN      NaN  \n",
      "50%                 NaN      NaN  \n",
      "75%                 NaN      NaN  \n",
      "max                 NaN      NaN  \n"
     ]
    }
   ],
   "source": [
    "for dataset in data_cleaner:\n",
    "    print(dataset.info())\n",
    "    print(dataset.describe(include='all'))"
   ]
  },
  {
   "cell_type": "markdown",
   "metadata": {
    "papermill": {
     "duration": 0.017463,
     "end_time": "2021-04-06T06:24:44.137693",
     "exception": false,
     "start_time": "2021-04-06T06:24:44.120230",
     "status": "completed"
    },
    "tags": []
   },
   "source": [
    "# Data Preprocessing- Fill Na"
   ]
  },
  {
   "cell_type": "code",
   "execution_count": 4,
   "metadata": {
    "execution": {
     "iopub.execute_input": "2021-04-06T06:24:44.187560Z",
     "iopub.status.busy": "2021-04-06T06:24:44.186480Z",
     "iopub.status.idle": "2021-04-06T06:24:44.190086Z",
     "shell.execute_reply": "2021-04-06T06:24:44.189411Z"
    },
    "papermill": {
     "duration": 0.034886,
     "end_time": "2021-04-06T06:24:44.190206",
     "exception": false,
     "start_time": "2021-04-06T06:24:44.155320",
     "status": "completed"
    },
    "tags": []
   },
   "outputs": [],
   "source": [
    "for dataset in data_cleaner:\n",
    "    dataset.Age.fillna(dataset.Age.median(), inplace=True)\n",
    "    dataset.Embarked.fillna('S', inplace=True)\n",
    "    dataset.Fare.fillna(dataset.Fare.median(), inplace=True)\n",
    "    # dataset['Title'] = dataset.Name.str.split(', ', expand=True)[1].str.split('.', expand=True)[0]\n",
    "    dataset['Family_members'] = dataset.Parch + dataset.SibSp"
   ]
  },
  {
   "cell_type": "code",
   "execution_count": 5,
   "metadata": {
    "execution": {
     "iopub.execute_input": "2021-04-06T06:24:44.242109Z",
     "iopub.status.busy": "2021-04-06T06:24:44.241258Z",
     "iopub.status.idle": "2021-04-06T06:24:44.256296Z",
     "shell.execute_reply": "2021-04-06T06:24:44.255580Z"
    },
    "papermill": {
     "duration": 0.04826,
     "end_time": "2021-04-06T06:24:44.256412",
     "exception": false,
     "start_time": "2021-04-06T06:24:44.208152",
     "status": "completed"
    },
    "tags": []
   },
   "outputs": [
    {
     "data": {
      "text/html": [
       "<div>\n",
       "<style scoped>\n",
       "    .dataframe tbody tr th:only-of-type {\n",
       "        vertical-align: middle;\n",
       "    }\n",
       "\n",
       "    .dataframe tbody tr th {\n",
       "        vertical-align: top;\n",
       "    }\n",
       "\n",
       "    .dataframe thead th {\n",
       "        text-align: right;\n",
       "    }\n",
       "</style>\n",
       "<table border=\"1\" class=\"dataframe\">\n",
       "  <thead>\n",
       "    <tr style=\"text-align: right;\">\n",
       "      <th></th>\n",
       "      <th>PassengerId</th>\n",
       "      <th>Survived</th>\n",
       "      <th>Pclass</th>\n",
       "      <th>Name</th>\n",
       "      <th>Sex</th>\n",
       "      <th>Age</th>\n",
       "      <th>SibSp</th>\n",
       "      <th>Parch</th>\n",
       "      <th>Ticket</th>\n",
       "      <th>Fare</th>\n",
       "      <th>Cabin</th>\n",
       "      <th>Embarked</th>\n",
       "      <th>Family_members</th>\n",
       "    </tr>\n",
       "  </thead>\n",
       "  <tbody>\n",
       "    <tr>\n",
       "      <th>405</th>\n",
       "      <td>406</td>\n",
       "      <td>0</td>\n",
       "      <td>2</td>\n",
       "      <td>Gale, Mr. Shadrach</td>\n",
       "      <td>male</td>\n",
       "      <td>34.0</td>\n",
       "      <td>1</td>\n",
       "      <td>0</td>\n",
       "      <td>28664</td>\n",
       "      <td>21.000</td>\n",
       "      <td>NaN</td>\n",
       "      <td>S</td>\n",
       "      <td>1</td>\n",
       "    </tr>\n",
       "    <tr>\n",
       "      <th>290</th>\n",
       "      <td>291</td>\n",
       "      <td>1</td>\n",
       "      <td>1</td>\n",
       "      <td>Barber, Miss. Ellen \"Nellie\"</td>\n",
       "      <td>female</td>\n",
       "      <td>26.0</td>\n",
       "      <td>0</td>\n",
       "      <td>0</td>\n",
       "      <td>19877</td>\n",
       "      <td>78.850</td>\n",
       "      <td>NaN</td>\n",
       "      <td>S</td>\n",
       "      <td>0</td>\n",
       "    </tr>\n",
       "    <tr>\n",
       "      <th>215</th>\n",
       "      <td>216</td>\n",
       "      <td>1</td>\n",
       "      <td>1</td>\n",
       "      <td>Newell, Miss. Madeleine</td>\n",
       "      <td>female</td>\n",
       "      <td>31.0</td>\n",
       "      <td>1</td>\n",
       "      <td>0</td>\n",
       "      <td>35273</td>\n",
       "      <td>113.275</td>\n",
       "      <td>D36</td>\n",
       "      <td>C</td>\n",
       "      <td>1</td>\n",
       "    </tr>\n",
       "    <tr>\n",
       "      <th>353</th>\n",
       "      <td>354</td>\n",
       "      <td>0</td>\n",
       "      <td>3</td>\n",
       "      <td>Arnold-Franchi, Mr. Josef</td>\n",
       "      <td>male</td>\n",
       "      <td>25.0</td>\n",
       "      <td>1</td>\n",
       "      <td>0</td>\n",
       "      <td>349237</td>\n",
       "      <td>17.800</td>\n",
       "      <td>NaN</td>\n",
       "      <td>S</td>\n",
       "      <td>1</td>\n",
       "    </tr>\n",
       "    <tr>\n",
       "      <th>279</th>\n",
       "      <td>280</td>\n",
       "      <td>1</td>\n",
       "      <td>3</td>\n",
       "      <td>Abbott, Mrs. Stanton (Rosa Hunt)</td>\n",
       "      <td>female</td>\n",
       "      <td>35.0</td>\n",
       "      <td>1</td>\n",
       "      <td>1</td>\n",
       "      <td>C.A. 2673</td>\n",
       "      <td>20.250</td>\n",
       "      <td>NaN</td>\n",
       "      <td>S</td>\n",
       "      <td>2</td>\n",
       "    </tr>\n",
       "  </tbody>\n",
       "</table>\n",
       "</div>"
      ],
      "text/plain": [
       "     PassengerId  Survived  Pclass                              Name     Sex  \\\n",
       "405          406         0       2                Gale, Mr. Shadrach    male   \n",
       "290          291         1       1      Barber, Miss. Ellen \"Nellie\"  female   \n",
       "215          216         1       1           Newell, Miss. Madeleine  female   \n",
       "353          354         0       3         Arnold-Franchi, Mr. Josef    male   \n",
       "279          280         1       3  Abbott, Mrs. Stanton (Rosa Hunt)  female   \n",
       "\n",
       "      Age  SibSp  Parch     Ticket     Fare Cabin Embarked  Family_members  \n",
       "405  34.0      1      0      28664   21.000   NaN        S               1  \n",
       "290  26.0      0      0      19877   78.850   NaN        S               0  \n",
       "215  31.0      1      0      35273  113.275   D36        C               1  \n",
       "353  25.0      1      0     349237   17.800   NaN        S               1  \n",
       "279  35.0      1      1  C.A. 2673   20.250   NaN        S               2  "
      ]
     },
     "execution_count": 5,
     "metadata": {},
     "output_type": "execute_result"
    }
   ],
   "source": [
    "data1.sample(5)"
   ]
  },
  {
   "cell_type": "markdown",
   "metadata": {
    "papermill": {
     "duration": 0.018567,
     "end_time": "2021-04-06T06:24:44.293681",
     "exception": false,
     "start_time": "2021-04-06T06:24:44.275114",
     "status": "completed"
    },
    "tags": []
   },
   "source": [
    "# Simple Data Visualization (for setting bins)"
   ]
  },
  {
   "cell_type": "code",
   "execution_count": 6,
   "metadata": {
    "execution": {
     "iopub.execute_input": "2021-04-06T06:24:44.340428Z",
     "iopub.status.busy": "2021-04-06T06:24:44.339568Z",
     "iopub.status.idle": "2021-04-06T06:24:44.342458Z",
     "shell.execute_reply": "2021-04-06T06:24:44.341805Z"
    },
    "papermill": {
     "duration": 0.030054,
     "end_time": "2021-04-06T06:24:44.342571",
     "exception": false,
     "start_time": "2021-04-06T06:24:44.312517",
     "status": "completed"
    },
    "tags": []
   },
   "outputs": [],
   "source": [
    "data1.drop(['Name', 'PassengerId', 'Ticket', 'SibSp', 'Parch'], axis=1, inplace=True)"
   ]
  },
  {
   "cell_type": "code",
   "execution_count": 7,
   "metadata": {
    "execution": {
     "iopub.execute_input": "2021-04-06T06:24:44.386278Z",
     "iopub.status.busy": "2021-04-06T06:24:44.385562Z",
     "iopub.status.idle": "2021-04-06T06:24:51.120173Z",
     "shell.execute_reply": "2021-04-06T06:24:51.120844Z"
    },
    "papermill": {
     "duration": 6.759594,
     "end_time": "2021-04-06T06:24:51.121020",
     "exception": false,
     "start_time": "2021-04-06T06:24:44.361426",
     "status": "completed"
    },
    "tags": []
   },
   "outputs": [
    {
     "data": {
      "image/png": "[encoded data removed]",
      "text/plain": [
       "<Figure size 432x288 with 1 Axes>"
      ]
     },
     "metadata": {
      "needs_background": "light"
     },
     "output_type": "display_data"
    },
    {
     "data": {
      "image/png": "[encoded data removed]",
      "text/plain": [
       "<Figure size 432x288 with 1 Axes>"
      ]
     },
     "metadata": {
      "needs_background": "light"
     },
     "output_type": "display_data"
    },
    {
     "data": {
      "image/png": "[encoded data removed]",
      "text/plain": [
       "<Figure size 432x288 with 1 Axes>"
      ]
     },
     "metadata": {
      "needs_background": "light"
     },
     "output_type": "display_data"
    },
    {
     "data": {
      "image/png": "[encoded data removed]",
      "text/plain": [
       "<Figure size 432x288 with 1 Axes>"
      ]
     },
     "metadata": {
      "needs_background": "light"
     },
     "output_type": "display_data"
    },
    {
     "data": {
      "image/png": "[encoded data removed]",
      "text/plain": [
       "<Figure size 432x288 with 1 Axes>"
      ]
     },
     "metadata": {
      "needs_background": "light"
     },
     "output_type": "display_data"
    },
    {
     "data": {
      "image/png": "[encoded data removed]",
      "text/plain": [
       "<Figure size 432x288 with 1 Axes>"
      ]
     },
     "metadata": {
      "needs_background": "light"
     },
     "output_type": "display_data"
    },
    {
     "data": {
      "image/png": "[encoded data removed]",
      "text/plain": [
       "<Figure size 432x288 with 1 Axes>"
      ]
     },
     "metadata": {
      "needs_background": "light"
     },
     "output_type": "display_data"
    },
    {
     "data": {
      "image/png": "[encoded data removed]",
      "text/plain": [
       "<Figure size 432x288 with 1 Axes>"
      ]
     },
     "metadata": {
      "needs_background": "light"
     },
     "output_type": "display_data"
    }
   ],
   "source": [
    "import seaborn as sns\n",
    "import matplotlib.pyplot as plt\n",
    "\n",
    "for i in data1.columns:\n",
    "    sns.countplot(data1[i])\n",
    "    plt.show()"
   ]
  },
  {
   "cell_type": "markdown",
   "metadata": {
    "papermill": {
     "duration": 0.024555,
     "end_time": "2021-04-06T06:24:51.170769",
     "exception": false,
     "start_time": "2021-04-06T06:24:51.146214",
     "status": "completed"
    },
    "tags": []
   },
   "source": [
    "# Data preprocessing- Cabin"
   ]
  },
  {
   "cell_type": "code",
   "execution_count": 8,
   "metadata": {
    "execution": {
     "iopub.execute_input": "2021-04-06T06:24:51.223652Z",
     "iopub.status.busy": "2021-04-06T06:24:51.223001Z",
     "iopub.status.idle": "2021-04-06T06:24:51.237923Z",
     "shell.execute_reply": "2021-04-06T06:24:51.237322Z"
    },
    "papermill": {
     "duration": 0.042473,
     "end_time": "2021-04-06T06:24:51.238048",
     "exception": false,
     "start_time": "2021-04-06T06:24:51.195575",
     "status": "completed"
    },
    "tags": []
   },
   "outputs": [
    {
     "data": {
      "text/plain": [
       "Cabin\n",
       "False    0.666667\n",
       "True     0.299854\n",
       "Name: Survived, dtype: float64"
      ]
     },
     "execution_count": 8,
     "metadata": {},
     "output_type": "execute_result"
    }
   ],
   "source": [
    "# data1.groupby(data1['Cabin'].isnull()).mean()\n",
    "data1.groupby(data1['Cabin'].isnull())['Survived'].mean()"
   ]
  },
  {
   "cell_type": "code",
   "execution_count": 9,
   "metadata": {
    "execution": {
     "iopub.execute_input": "2021-04-06T06:24:51.297976Z",
     "iopub.status.busy": "2021-04-06T06:24:51.296344Z",
     "iopub.status.idle": "2021-04-06T06:24:51.302862Z",
     "shell.execute_reply": "2021-04-06T06:24:51.302250Z"
    },
    "papermill": {
     "duration": 0.039822,
     "end_time": "2021-04-06T06:24:51.302981",
     "exception": false,
     "start_time": "2021-04-06T06:24:51.263159",
     "status": "completed"
    },
    "tags": []
   },
   "outputs": [],
   "source": [
    "for dataset in data_cleaner:\n",
    "    dataset['Cabin_Allotted'] = np.where(dataset.Cabin.isnull(), 0, 1)\n",
    "    dataset.drop('Cabin', axis=1, inplace=True)"
   ]
  },
  {
   "cell_type": "code",
   "execution_count": 10,
   "metadata": {
    "execution": {
     "iopub.execute_input": "2021-04-06T06:24:51.368530Z",
     "iopub.status.busy": "2021-04-06T06:24:51.367522Z",
     "iopub.status.idle": "2021-04-06T06:24:51.372030Z",
     "shell.execute_reply": "2021-04-06T06:24:51.372525Z"
    },
    "papermill": {
     "duration": 0.04414,
     "end_time": "2021-04-06T06:24:51.372682",
     "exception": false,
     "start_time": "2021-04-06T06:24:51.328542",
     "status": "completed"
    },
    "tags": []
   },
   "outputs": [
    {
     "data": {
      "text/html": [
       "<div>\n",
       "<style scoped>\n",
       "    .dataframe tbody tr th:only-of-type {\n",
       "        vertical-align: middle;\n",
       "    }\n",
       "\n",
       "    .dataframe tbody tr th {\n",
       "        vertical-align: top;\n",
       "    }\n",
       "\n",
       "    .dataframe thead th {\n",
       "        text-align: right;\n",
       "    }\n",
       "</style>\n",
       "<table border=\"1\" class=\"dataframe\">\n",
       "  <thead>\n",
       "    <tr style=\"text-align: right;\">\n",
       "      <th></th>\n",
       "      <th>Survived</th>\n",
       "      <th>Pclass</th>\n",
       "      <th>Sex</th>\n",
       "      <th>Age</th>\n",
       "      <th>Fare</th>\n",
       "      <th>Embarked</th>\n",
       "      <th>Family_members</th>\n",
       "      <th>Cabin_Allotted</th>\n",
       "    </tr>\n",
       "  </thead>\n",
       "  <tbody>\n",
       "    <tr>\n",
       "      <th>522</th>\n",
       "      <td>0</td>\n",
       "      <td>3</td>\n",
       "      <td>male</td>\n",
       "      <td>28.0</td>\n",
       "      <td>7.2250</td>\n",
       "      <td>C</td>\n",
       "      <td>0</td>\n",
       "      <td>0</td>\n",
       "    </tr>\n",
       "    <tr>\n",
       "      <th>453</th>\n",
       "      <td>1</td>\n",
       "      <td>1</td>\n",
       "      <td>male</td>\n",
       "      <td>49.0</td>\n",
       "      <td>89.1042</td>\n",
       "      <td>C</td>\n",
       "      <td>1</td>\n",
       "      <td>1</td>\n",
       "    </tr>\n",
       "    <tr>\n",
       "      <th>139</th>\n",
       "      <td>0</td>\n",
       "      <td>1</td>\n",
       "      <td>male</td>\n",
       "      <td>24.0</td>\n",
       "      <td>79.2000</td>\n",
       "      <td>C</td>\n",
       "      <td>0</td>\n",
       "      <td>1</td>\n",
       "    </tr>\n",
       "    <tr>\n",
       "      <th>881</th>\n",
       "      <td>0</td>\n",
       "      <td>3</td>\n",
       "      <td>male</td>\n",
       "      <td>33.0</td>\n",
       "      <td>7.8958</td>\n",
       "      <td>S</td>\n",
       "      <td>0</td>\n",
       "      <td>0</td>\n",
       "    </tr>\n",
       "    <tr>\n",
       "      <th>368</th>\n",
       "      <td>1</td>\n",
       "      <td>3</td>\n",
       "      <td>female</td>\n",
       "      <td>28.0</td>\n",
       "      <td>7.7500</td>\n",
       "      <td>Q</td>\n",
       "      <td>0</td>\n",
       "      <td>0</td>\n",
       "    </tr>\n",
       "  </tbody>\n",
       "</table>\n",
       "</div>"
      ],
      "text/plain": [
       "     Survived  Pclass     Sex   Age     Fare Embarked  Family_members  \\\n",
       "522         0       3    male  28.0   7.2250        C               0   \n",
       "453         1       1    male  49.0  89.1042        C               1   \n",
       "139         0       1    male  24.0  79.2000        C               0   \n",
       "881         0       3    male  33.0   7.8958        S               0   \n",
       "368         1       3  female  28.0   7.7500        Q               0   \n",
       "\n",
       "     Cabin_Allotted  \n",
       "522               0  \n",
       "453               1  \n",
       "139               1  \n",
       "881               0  \n",
       "368               0  "
      ]
     },
     "execution_count": 10,
     "metadata": {},
     "output_type": "execute_result"
    }
   ],
   "source": [
    "data1.sample(5)\n",
    "# data1['Title'].value_counts()"
   ]
  },
  {
   "cell_type": "markdown",
   "metadata": {
    "papermill": {
     "duration": 0.0252,
     "end_time": "2021-04-06T06:24:51.423660",
     "exception": false,
     "start_time": "2021-04-06T06:24:51.398460",
     "status": "completed"
    },
    "tags": []
   },
   "source": [
    "# Data Preprocessing- Encoder"
   ]
  },
  {
   "cell_type": "code",
   "execution_count": 11,
   "metadata": {
    "execution": {
     "iopub.execute_input": "2021-04-06T06:24:51.483980Z",
     "iopub.status.busy": "2021-04-06T06:24:51.483303Z",
     "iopub.status.idle": "2021-04-06T06:24:51.602685Z",
     "shell.execute_reply": "2021-04-06T06:24:51.602098Z"
    },
    "papermill": {
     "duration": 0.15334,
     "end_time": "2021-04-06T06:24:51.602819",
     "exception": false,
     "start_time": "2021-04-06T06:24:51.449479",
     "status": "completed"
    },
    "tags": []
   },
   "outputs": [],
   "source": [
    "from sklearn.preprocessing import LabelEncoder\n",
    "\n",
    "lb = LabelEncoder()\n",
    "\n",
    "for dataset in data_cleaner:\n",
    "    dataset['Sex_labeled'] = lb.fit_transform(dataset.Sex)\n",
    "    \n",
    "    dataset['AgeBin'] = pd.qcut(dataset.Age, 3)\n",
    "    dataset['Age_labeled'] = lb.fit_transform(dataset['AgeBin'])\n",
    "\n",
    "    dataset['FareBin'] = pd.qcut(dataset.Fare, 4)\n",
    "    dataset['Fare_labeled'] = lb.fit_transform(dataset['FareBin'])\n",
    "\n",
    "    dataset['Embarked_labeled'] = lb.fit_transform(dataset.Embarked)"
   ]
  },
  {
   "cell_type": "code",
   "execution_count": 12,
   "metadata": {
    "execution": {
     "iopub.execute_input": "2021-04-06T06:24:51.668720Z",
     "iopub.status.busy": "2021-04-06T06:24:51.666548Z",
     "iopub.status.idle": "2021-04-06T06:24:51.683845Z",
     "shell.execute_reply": "2021-04-06T06:24:51.683002Z"
    },
    "papermill": {
     "duration": 0.05532,
     "end_time": "2021-04-06T06:24:51.683984",
     "exception": false,
     "start_time": "2021-04-06T06:24:51.628664",
     "status": "completed"
    },
    "tags": []
   },
   "outputs": [
    {
     "data": {
      "text/html": [
       "<div>\n",
       "<style scoped>\n",
       "    .dataframe tbody tr th:only-of-type {\n",
       "        vertical-align: middle;\n",
       "    }\n",
       "\n",
       "    .dataframe tbody tr th {\n",
       "        vertical-align: top;\n",
       "    }\n",
       "\n",
       "    .dataframe thead th {\n",
       "        text-align: right;\n",
       "    }\n",
       "</style>\n",
       "<table border=\"1\" class=\"dataframe\">\n",
       "  <thead>\n",
       "    <tr style=\"text-align: right;\">\n",
       "      <th></th>\n",
       "      <th>Survived</th>\n",
       "      <th>Pclass</th>\n",
       "      <th>Sex</th>\n",
       "      <th>Age</th>\n",
       "      <th>Fare</th>\n",
       "      <th>Embarked</th>\n",
       "      <th>Family_members</th>\n",
       "      <th>Cabin_Allotted</th>\n",
       "      <th>Sex_labeled</th>\n",
       "      <th>AgeBin</th>\n",
       "      <th>Age_labeled</th>\n",
       "      <th>FareBin</th>\n",
       "      <th>Fare_labeled</th>\n",
       "      <th>Embarked_labeled</th>\n",
       "    </tr>\n",
       "  </thead>\n",
       "  <tbody>\n",
       "    <tr>\n",
       "      <th>469</th>\n",
       "      <td>1</td>\n",
       "      <td>3</td>\n",
       "      <td>female</td>\n",
       "      <td>0.75</td>\n",
       "      <td>19.2583</td>\n",
       "      <td>C</td>\n",
       "      <td>3</td>\n",
       "      <td>0</td>\n",
       "      <td>0</td>\n",
       "      <td>(0.419, 25.0]</td>\n",
       "      <td>0</td>\n",
       "      <td>(14.454, 31.0]</td>\n",
       "      <td>2</td>\n",
       "      <td>0</td>\n",
       "    </tr>\n",
       "    <tr>\n",
       "      <th>867</th>\n",
       "      <td>0</td>\n",
       "      <td>1</td>\n",
       "      <td>male</td>\n",
       "      <td>31.00</td>\n",
       "      <td>50.4958</td>\n",
       "      <td>S</td>\n",
       "      <td>0</td>\n",
       "      <td>1</td>\n",
       "      <td>1</td>\n",
       "      <td>(25.0, 31.0]</td>\n",
       "      <td>1</td>\n",
       "      <td>(31.0, 512.329]</td>\n",
       "      <td>3</td>\n",
       "      <td>2</td>\n",
       "    </tr>\n",
       "    <tr>\n",
       "      <th>481</th>\n",
       "      <td>0</td>\n",
       "      <td>2</td>\n",
       "      <td>male</td>\n",
       "      <td>28.00</td>\n",
       "      <td>0.0000</td>\n",
       "      <td>S</td>\n",
       "      <td>0</td>\n",
       "      <td>0</td>\n",
       "      <td>1</td>\n",
       "      <td>(25.0, 31.0]</td>\n",
       "      <td>1</td>\n",
       "      <td>(-0.001, 7.91]</td>\n",
       "      <td>0</td>\n",
       "      <td>2</td>\n",
       "    </tr>\n",
       "    <tr>\n",
       "      <th>327</th>\n",
       "      <td>1</td>\n",
       "      <td>2</td>\n",
       "      <td>female</td>\n",
       "      <td>36.00</td>\n",
       "      <td>13.0000</td>\n",
       "      <td>S</td>\n",
       "      <td>0</td>\n",
       "      <td>1</td>\n",
       "      <td>0</td>\n",
       "      <td>(31.0, 80.0]</td>\n",
       "      <td>2</td>\n",
       "      <td>(7.91, 14.454]</td>\n",
       "      <td>1</td>\n",
       "      <td>2</td>\n",
       "    </tr>\n",
       "    <tr>\n",
       "      <th>329</th>\n",
       "      <td>1</td>\n",
       "      <td>1</td>\n",
       "      <td>female</td>\n",
       "      <td>16.00</td>\n",
       "      <td>57.9792</td>\n",
       "      <td>C</td>\n",
       "      <td>1</td>\n",
       "      <td>1</td>\n",
       "      <td>0</td>\n",
       "      <td>(0.419, 25.0]</td>\n",
       "      <td>0</td>\n",
       "      <td>(31.0, 512.329]</td>\n",
       "      <td>3</td>\n",
       "      <td>0</td>\n",
       "    </tr>\n",
       "  </tbody>\n",
       "</table>\n",
       "</div>"
      ],
      "text/plain": [
       "     Survived  Pclass     Sex    Age     Fare Embarked  Family_members  \\\n",
       "469         1       3  female   0.75  19.2583        C               3   \n",
       "867         0       1    male  31.00  50.4958        S               0   \n",
       "481         0       2    male  28.00   0.0000        S               0   \n",
       "327         1       2  female  36.00  13.0000        S               0   \n",
       "329         1       1  female  16.00  57.9792        C               1   \n",
       "\n",
       "     Cabin_Allotted  Sex_labeled         AgeBin  Age_labeled          FareBin  \\\n",
       "469               0            0  (0.419, 25.0]            0   (14.454, 31.0]   \n",
       "867               1            1   (25.0, 31.0]            1  (31.0, 512.329]   \n",
       "481               0            1   (25.0, 31.0]            1   (-0.001, 7.91]   \n",
       "327               1            0   (31.0, 80.0]            2   (7.91, 14.454]   \n",
       "329               1            0  (0.419, 25.0]            0  (31.0, 512.329]   \n",
       "\n",
       "     Fare_labeled  Embarked_labeled  \n",
       "469             2                 0  \n",
       "867             3                 2  \n",
       "481             0                 2  \n",
       "327             1                 2  \n",
       "329             3                 0  "
      ]
     },
     "execution_count": 12,
     "metadata": {},
     "output_type": "execute_result"
    }
   ],
   "source": [
    "data1.sample(5)"
   ]
  },
  {
   "cell_type": "code",
   "execution_count": 13,
   "metadata": {
    "execution": {
     "iopub.execute_input": "2021-04-06T06:24:51.747912Z",
     "iopub.status.busy": "2021-04-06T06:24:51.746897Z",
     "iopub.status.idle": "2021-04-06T06:24:51.750993Z",
     "shell.execute_reply": "2021-04-06T06:24:51.750359Z"
    },
    "papermill": {
     "duration": 0.040252,
     "end_time": "2021-04-06T06:24:51.751111",
     "exception": false,
     "start_time": "2021-04-06T06:24:51.710859",
     "status": "completed"
    },
    "tags": []
   },
   "outputs": [
    {
     "name": "stdout",
     "output_type": "stream",
     "text": [
      "1    304\n",
      "0    301\n",
      "2    286\n",
      "Name: Age_labeled, dtype: int64\n",
      "1    224\n",
      "0    223\n",
      "3    222\n",
      "2    222\n",
      "Name: Fare_labeled, dtype: int64\n"
     ]
    }
   ],
   "source": [
    "print(data1['Age_labeled'].value_counts())\n",
    "print(data1['Fare_labeled'].value_counts())"
   ]
  },
  {
   "cell_type": "code",
   "execution_count": 14,
   "metadata": {
    "execution": {
     "iopub.execute_input": "2021-04-06T06:24:51.818648Z",
     "iopub.status.busy": "2021-04-06T06:24:51.817569Z",
     "iopub.status.idle": "2021-04-06T06:24:53.872050Z",
     "shell.execute_reply": "2021-04-06T06:24:53.871170Z"
    },
    "papermill": {
     "duration": 2.094049,
     "end_time": "2021-04-06T06:24:53.872172",
     "exception": false,
     "start_time": "2021-04-06T06:24:51.778123",
     "status": "completed"
    },
    "tags": []
   },
   "outputs": [
    {
     "data": {
      "image/png": "[encoded data removed]",
      "text/plain": [
       "<Figure size 432x288 with 1 Axes>"
      ]
     },
     "metadata": {
      "needs_background": "light"
     },
     "output_type": "display_data"
    },
    {
     "data": {
      "image/png": "[encoded data removed]",
      "text/plain": [
       "<Figure size 432x288 with 1 Axes>"
      ]
     },
     "metadata": {
      "needs_background": "light"
     },
     "output_type": "display_data"
    },
    {
     "data": {
      "image/png": "[encoded data removed]",
      "text/plain": [
       "<Figure size 432x288 with 1 Axes>"
      ]
     },
     "metadata": {
      "needs_background": "light"
     },
     "output_type": "display_data"
    },
    {
     "data": {
      "image/png": "[encoded data removed]",
      "text/plain": [
       "<Figure size 432x288 with 1 Axes>"
      ]
     },
     "metadata": {
      "needs_background": "light"
     },
     "output_type": "display_data"
    },
    {
     "data": {
      "image/png": "[encoded data removed]",
      "text/plain": [
       "<Figure size 432x288 with 1 Axes>"
      ]
     },
     "metadata": {
      "needs_background": "light"
     },
     "output_type": "display_data"
    },
    {
     "data": {
      "image/png": "[encoded data removed]",
      "text/plain": [
       "<Figure size 432x288 with 1 Axes>"
      ]
     },
     "metadata": {
      "needs_background": "light"
     },
     "output_type": "display_data"
    },
    {
     "data": {
      "image/png": "[encoded data removed]",
      "text/plain": [
       "<Figure size 432x288 with 1 Axes>"
      ]
     },
     "metadata": {
      "needs_background": "light"
     },
     "output_type": "display_data"
    }
   ],
   "source": [
    "data1_X = [\n",
    "    'Pclass', \n",
    "    'Family_members', \n",
    "    'Cabin_Allotted', \n",
    "    'Sex_labeled', \n",
    "    'Age_labeled', \n",
    "    'Fare_labeled', \n",
    "    'Embarked_labeled'\n",
    "]\n",
    "\n",
    "for i in data1[data1_X].columns:\n",
    "    sns.lineplot(i, 'Survived', data=data1)\n",
    "    plt.show()"
   ]
  },
  {
   "cell_type": "code",
   "execution_count": 15,
   "metadata": {
    "execution": {
     "iopub.execute_input": "2021-04-06T06:24:53.953244Z",
     "iopub.status.busy": "2021-04-06T06:24:53.952549Z",
     "iopub.status.idle": "2021-04-06T06:24:53.957393Z",
     "shell.execute_reply": "2021-04-06T06:24:53.956686Z"
    },
    "papermill": {
     "duration": 0.0511,
     "end_time": "2021-04-06T06:24:53.957510",
     "exception": false,
     "start_time": "2021-04-06T06:24:53.906410",
     "status": "completed"
    },
    "tags": []
   },
   "outputs": [
    {
     "name": "stdout",
     "output_type": "stream",
     "text": [
      "<class 'pandas.core.frame.DataFrame'>\n",
      "RangeIndex: 891 entries, 0 to 890\n",
      "Data columns (total 7 columns):\n",
      " #   Column            Non-Null Count  Dtype\n",
      "---  ------            --------------  -----\n",
      " 0   Pclass            891 non-null    int64\n",
      " 1   Family_members    891 non-null    int64\n",
      " 2   Cabin_Allotted    891 non-null    int64\n",
      " 3   Sex_labeled       891 non-null    int64\n",
      " 4   Age_labeled       891 non-null    int64\n",
      " 5   Fare_labeled      891 non-null    int64\n",
      " 6   Embarked_labeled  891 non-null    int64\n",
      "dtypes: int64(7)\n",
      "memory usage: 48.9 KB\n"
     ]
    }
   ],
   "source": [
    "data1[data1_X].info()"
   ]
  },
  {
   "cell_type": "markdown",
   "metadata": {
    "papermill": {
     "duration": 0.03367,
     "end_time": "2021-04-06T06:24:54.025338",
     "exception": false,
     "start_time": "2021-04-06T06:24:53.991668",
     "status": "completed"
    },
    "tags": []
   },
   "source": [
    "# Models Selection\n",
    "\n",
    "An easy basic way to compare different models within the same dataset."
   ]
  },
  {
   "cell_type": "code",
   "execution_count": 16,
   "metadata": {
    "execution": {
     "iopub.execute_input": "2021-04-06T06:24:54.108095Z",
     "iopub.status.busy": "2021-04-06T06:24:54.107343Z",
     "iopub.status.idle": "2021-04-06T06:25:03.871750Z",
     "shell.execute_reply": "2021-04-06T06:25:03.872455Z"
    },
    "papermill": {
     "duration": 9.813663,
     "end_time": "2021-04-06T06:25:03.872660",
     "exception": false,
     "start_time": "2021-04-06T06:24:54.058997",
     "status": "completed"
    },
    "tags": []
   },
   "outputs": [
    {
     "data": {
      "text/html": [
       "<div>\n",
       "<style scoped>\n",
       "    .dataframe tbody tr th:only-of-type {\n",
       "        vertical-align: middle;\n",
       "    }\n",
       "\n",
       "    .dataframe tbody tr th {\n",
       "        vertical-align: top;\n",
       "    }\n",
       "\n",
       "    .dataframe thead th {\n",
       "        text-align: right;\n",
       "    }\n",
       "</style>\n",
       "<table border=\"1\" class=\"dataframe\">\n",
       "  <thead>\n",
       "    <tr style=\"text-align: right;\">\n",
       "      <th></th>\n",
       "      <th>MLA Name</th>\n",
       "      <th>MLA Parameters</th>\n",
       "      <th>MLA Train Accuracy Mean</th>\n",
       "      <th>MLA Test Accuracy Mean</th>\n",
       "      <th>MLA Test Accuracy 3*STD</th>\n",
       "      <th>MLA Time</th>\n",
       "    </tr>\n",
       "  </thead>\n",
       "  <tbody>\n",
       "    <tr>\n",
       "      <th>0</th>\n",
       "      <td>AdaBoostClassifier</td>\n",
       "      <td>{'algorithm': 'SAMME.R', 'base_estimator': Non...</td>\n",
       "      <td>0.815449</td>\n",
       "      <td>0.784358</td>\n",
       "      <td>0.109183</td>\n",
       "      <td>0.100066</td>\n",
       "    </tr>\n",
       "    <tr>\n",
       "      <th>1</th>\n",
       "      <td>BaggingClassifier</td>\n",
       "      <td>{'base_estimator': None, 'bootstrap': True, 'b...</td>\n",
       "      <td>0.882303</td>\n",
       "      <td>0.769832</td>\n",
       "      <td>0.0950443</td>\n",
       "      <td>0.0314687</td>\n",
       "    </tr>\n",
       "    <tr>\n",
       "      <th>2</th>\n",
       "      <td>ExtraTreesClassifier</td>\n",
       "      <td>{'bootstrap': False, 'ccp_alpha': 0.0, 'class_...</td>\n",
       "      <td>0.885534</td>\n",
       "      <td>0.767598</td>\n",
       "      <td>0.107105</td>\n",
       "      <td>0.162977</td>\n",
       "    </tr>\n",
       "    <tr>\n",
       "      <th>3</th>\n",
       "      <td>GradientBoostingClassifier</td>\n",
       "      <td>{'ccp_alpha': 0.0, 'criterion': 'friedman_mse'...</td>\n",
       "      <td>0.848596</td>\n",
       "      <td>0.779888</td>\n",
       "      <td>0.116646</td>\n",
       "      <td>0.0976585</td>\n",
       "    </tr>\n",
       "    <tr>\n",
       "      <th>4</th>\n",
       "      <td>RandomForestClassifier</td>\n",
       "      <td>{'bootstrap': True, 'ccp_alpha': 0.0, 'class_w...</td>\n",
       "      <td>0.885534</td>\n",
       "      <td>0.769832</td>\n",
       "      <td>0.112628</td>\n",
       "      <td>0.223319</td>\n",
       "    </tr>\n",
       "    <tr>\n",
       "      <th>5</th>\n",
       "      <td>KNeighborsClassifier</td>\n",
       "      <td>{'algorithm': 'auto', 'leaf_size': 30, 'metric...</td>\n",
       "      <td>0.84059</td>\n",
       "      <td>0.764804</td>\n",
       "      <td>0.0849474</td>\n",
       "      <td>0.00345109</td>\n",
       "    </tr>\n",
       "    <tr>\n",
       "      <th>6</th>\n",
       "      <td>DecisionTreeClassifier</td>\n",
       "      <td>{'ccp_alpha': 0.0, 'class_weight': None, 'crit...</td>\n",
       "      <td>0.885534</td>\n",
       "      <td>0.755866</td>\n",
       "      <td>0.0939295</td>\n",
       "      <td>0.00311666</td>\n",
       "    </tr>\n",
       "    <tr>\n",
       "      <th>7</th>\n",
       "      <td>ExtraTreeClassifier</td>\n",
       "      <td>{'ccp_alpha': 0.0, 'class_weight': None, 'crit...</td>\n",
       "      <td>0.885534</td>\n",
       "      <td>0.768715</td>\n",
       "      <td>0.103911</td>\n",
       "      <td>0.00278754</td>\n",
       "    </tr>\n",
       "    <tr>\n",
       "      <th>8</th>\n",
       "      <td>XGBClassifier</td>\n",
       "      <td>{'objective': 'binary:logistic', 'base_score':...</td>\n",
       "      <td>0.883848</td>\n",
       "      <td>0.771508</td>\n",
       "      <td>0.0987121</td>\n",
       "      <td>0.0463047</td>\n",
       "    </tr>\n",
       "  </tbody>\n",
       "</table>\n",
       "</div>"
      ],
      "text/plain": [
       "                     MLA Name  \\\n",
       "0          AdaBoostClassifier   \n",
       "1           BaggingClassifier   \n",
       "2        ExtraTreesClassifier   \n",
       "3  GradientBoostingClassifier   \n",
       "4      RandomForestClassifier   \n",
       "5        KNeighborsClassifier   \n",
       "6      DecisionTreeClassifier   \n",
       "7         ExtraTreeClassifier   \n",
       "8               XGBClassifier   \n",
       "\n",
       "                                      MLA Parameters MLA Train Accuracy Mean  \\\n",
       "0  {'algorithm': 'SAMME.R', 'base_estimator': Non...                0.815449   \n",
       "1  {'base_estimator': None, 'bootstrap': True, 'b...                0.882303   \n",
       "2  {'bootstrap': False, 'ccp_alpha': 0.0, 'class_...                0.885534   \n",
       "3  {'ccp_alpha': 0.0, 'criterion': 'friedman_mse'...                0.848596   \n",
       "4  {'bootstrap': True, 'ccp_alpha': 0.0, 'class_w...                0.885534   \n",
       "5  {'algorithm': 'auto', 'leaf_size': 30, 'metric...                 0.84059   \n",
       "6  {'ccp_alpha': 0.0, 'class_weight': None, 'crit...                0.885534   \n",
       "7  {'ccp_alpha': 0.0, 'class_weight': None, 'crit...                0.885534   \n",
       "8  {'objective': 'binary:logistic', 'base_score':...                0.883848   \n",
       "\n",
       "  MLA Test Accuracy Mean MLA Test Accuracy 3*STD    MLA Time  \n",
       "0               0.784358                0.109183    0.100066  \n",
       "1               0.769832               0.0950443   0.0314687  \n",
       "2               0.767598                0.107105    0.162977  \n",
       "3               0.779888                0.116646   0.0976585  \n",
       "4               0.769832                0.112628    0.223319  \n",
       "5               0.764804               0.0849474  0.00345109  \n",
       "6               0.755866               0.0939295  0.00311666  \n",
       "7               0.768715                0.103911  0.00278754  \n",
       "8               0.771508               0.0987121   0.0463047  "
      ]
     },
     "execution_count": 16,
     "metadata": {},
     "output_type": "execute_result"
    }
   ],
   "source": [
    "from sklearn import ensemble, tree, neighbors\n",
    "from xgboost import XGBClassifier\n",
    "from sklearn import model_selection\n",
    "\n",
    "MLA = [\n",
    "    ensemble.AdaBoostClassifier(),\n",
    "    ensemble.BaggingClassifier(),\n",
    "    ensemble.ExtraTreesClassifier(),\n",
    "    ensemble.GradientBoostingClassifier(),\n",
    "    ensemble.RandomForestClassifier(),\n",
    "\n",
    "    neighbors.KNeighborsClassifier(), \n",
    "\n",
    "    tree.DecisionTreeClassifier(),\n",
    "    tree.ExtraTreeClassifier(), \n",
    "\n",
    "    XGBClassifier(objective='binary:logistic', eval_metric='logloss')    \n",
    "]\n",
    "\n",
    "cv_split = model_selection.ShuffleSplit(n_splits=10, test_size=.2, train_size=.8, random_state=1)\n",
    "\n",
    "MLA_columns = ['MLA Name', 'MLA Parameters', 'MLA Train Accuracy Mean', 'MLA Test Accuracy Mean', 'MLA Test Accuracy 3*STD', 'MLA Time']\n",
    "MLA_compare = pd.DataFrame(columns = MLA_columns)\n",
    "\n",
    "row_index = 0\n",
    "for alg in MLA:\n",
    "    MLA_name = alg.__class__.__name__\n",
    "    MLA_compare.loc[row_index, 'MLA Name'] = MLA_name\n",
    "    MLA_compare.loc[row_index, 'MLA Parameters'] = str(alg.get_params())\n",
    "\n",
    "    cv_results = model_selection.cross_validate(alg, data1[data1_X], data1[Target].values.reshape(-1,), cv=cv_split, return_train_score=True)\n",
    "\n",
    "    MLA_compare.loc[row_index, 'MLA Time'] = cv_results['fit_time'].mean()\n",
    "    MLA_compare.loc[row_index, 'MLA Train Accuracy Mean'] = cv_results['train_score'].mean()\n",
    "    MLA_compare.loc[row_index, 'MLA Test Accuracy Mean'] = cv_results['test_score'].mean() \n",
    "    MLA_compare.loc[row_index, 'MLA Test Accuracy 3*STD'] = cv_results['test_score'].std()*3\n",
    "\n",
    "    row_index += 1\n",
    "\n",
    "# MLA_compare.sort_values(by=['MLA Test Accuracy Mean'], ascending=False, inplace=True)\n",
    "MLA_compare"
   ]
  },
  {
   "cell_type": "markdown",
   "metadata": {
    "papermill": {
     "duration": 0.045082,
     "end_time": "2021-04-06T06:25:03.963187",
     "exception": false,
     "start_time": "2021-04-06T06:25:03.918105",
     "status": "completed"
    },
    "tags": []
   },
   "source": [
    "# Submit"
   ]
  },
  {
   "cell_type": "code",
   "execution_count": 17,
   "metadata": {
    "execution": {
     "iopub.execute_input": "2021-04-06T06:25:04.066336Z",
     "iopub.status.busy": "2021-04-06T06:25:04.065166Z",
     "iopub.status.idle": "2021-04-06T06:25:04.437063Z",
     "shell.execute_reply": "2021-04-06T06:25:04.437816Z"
    },
    "papermill": {
     "duration": 0.42842,
     "end_time": "2021-04-06T06:25:04.437978",
     "exception": false,
     "start_time": "2021-04-06T06:25:04.009558",
     "status": "completed"
    },
    "tags": []
   },
   "outputs": [
    {
     "name": "stdout",
     "output_type": "stream",
     "text": [
      "Your submission was successfully saved!\n"
     ]
    }
   ],
   "source": [
    "# after trying several times submissions, I chose RandomForestClassifier as my highest score\n",
    "model = ensemble.RandomForestClassifier(**{'criterion': 'entropy', 'max_depth': 5, 'n_estimators': 50, 'random_state': 1})\n",
    "model.fit(data1[data1_X], data1[Target].values.reshape(-1, ))\n",
    "predictions = model.predict(data_val[data1_X])\n",
    "\n",
    "output = pd.DataFrame({'PassengerId': data_val.PassengerId, 'Survived': predictions})\n",
    "output.to_csv('./my_submission_RandomForestClassifier_tunned_F4.csv', index=False)\n",
    "print(\"Your submission was successfully saved!\")"
   ]
  },
  {
   "cell_type": "markdown",
   "metadata": {
    "papermill": {
     "duration": 0.03498,
     "end_time": "2021-04-06T06:25:04.508450",
     "exception": false,
     "start_time": "2021-04-06T06:25:04.473470",
     "status": "completed"
    },
    "tags": []
   },
   "source": [
    "# Next: Hyperparameters\n",
    "\n",
    "What is the importance of hyperparameter tuning? <br>\n",
    "Hyperparameters are crucial as they control the overall behaviour of a machine learning model. The ultimate goal is to find an optimal combination of hyperparameters that minimizes a predefined loss function to give better results. To improve your ML skills, see [Titanic Top 11%| Starter II: Hyperparameter Tuning](https://www.kaggle.com/chienhsianghung/titanic-top-11-starter-ii-hyperparameter-tuning)."
   ]
  },
  {
   "cell_type": "markdown",
   "metadata": {
    "papermill": {
     "duration": 0.034697,
     "end_time": "2021-04-06T06:25:04.579003",
     "exception": false,
     "start_time": "2021-04-06T06:25:04.544306",
     "status": "completed"
    },
    "tags": []
   },
   "source": [
    "# References\n",
    "* [A Data Science Framework: To Achieve 99% Accuracy](https://www.kaggle.com/ldfreeman3/a-data-science-framework-to-achieve-99-accuracy)\n",
    "* [MY FIRST KAGGLE WORK TITANIC](https://www.kaggle.com/saptarshisit/my-first-kaggle-work-titanic)"
   ]
  }
 ],
 "metadata": {
  "kernelspec": {
   "display_name": "Python 3",
   "language": "python",
   "name": "python3"
  },
  "language_info": {
   "codemirror_mode": {
    "name": "ipython",
    "version": 3
   },
   "file_extension": ".py",
   "mimetype": "text/x-python",
   "name": "python",
   "nbconvert_exporter": "python",
   "pygments_lexer": "ipython3",
   "version": "3.7.6"
  },
  "papermill": {
   "duration": 26.259408,
   "end_time": "2021-04-06T06:25:04.722721",
   "environment_variables": {},
   "exception": null,
   "input_path": "__notebook__.ipynb",
   "output_path": "__notebook__.ipynb",
   "parameters": {},
   "start_time": "2021-04-06T06:24:38.463313",
   "version": "2.1.0"
  }
 },
 "nbformat": 4,
 "nbformat_minor": 4
}
